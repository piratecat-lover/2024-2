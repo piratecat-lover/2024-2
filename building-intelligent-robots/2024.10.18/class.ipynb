{
 "cells": [
  {
   "cell_type": "markdown",
   "metadata": {},
   "source": [
    "# 로봇 인공지능 만들기 Week 6 - Particle Filter\n",
    "\n",
    "기계항공공학부 2013-11815 이승섭"
   ]
  },
  {
   "cell_type": "markdown",
   "metadata": {},
   "source": [
    "## W06-3 PF Programming Practice"
   ]
  },
  {
   "cell_type": "code",
   "execution_count": null,
   "metadata": {},
   "outputs": [],
   "source": [
    "# Simplest particle filter algorithm for robot localization in 1D space\n",
    "\n",
    "# Importing libraries\n",
    "import numpy as np\n",
    "import matplotlib.pyplot as plt\n",
    "\n",
    "from random import sample\n",
    "from scipy.stats import norm"
   ]
  },
  {
   "cell_type": "code",
   "execution_count": null,
   "metadata": {},
   "outputs": [],
   "source": [
    "# Size of 1D space\n",
    "space = np.arange(1, 11, 1)\n",
    "space_size = len(space)\n",
    "\n",
    "L = [5] # True position of the robot\n",
    "W = np.ones(space_size) # Initial weights\n",
    "particles = [] # Particles\n",
    "N = 20 # Number of samples\n",
    "X = [space[i] for i in range(space_size) for _ in range(2)] # Initial particles"
   ]
  },
  {
   "cell_type": "code",
   "execution_count": null,
   "metadata": {},
   "outputs": [],
   "source": [
    "particle = sample(X,N)"
   ]
  },
  {
   "cell_type": "code",
   "execution_count": null,
   "metadata": {},
   "outputs": [],
   "source": [
    "# Omni-directional range sensor reading\n",
    "Z = 2\n",
    "\n",
    "# Generate particles\n",
    "ML = []\n",
    "\n",
    "for k in range(N):\n",
    "    d = abs(particle[k] - L[0])\n",
    "    # x in p(x), mean ,std\n",
    "    ML.append(int(norm.pdf(Z, d, 1))*100)"
   ]
  },
  {
   "cell_type": "code",
   "execution_count": null,
   "metadata": {},
   "outputs": [],
   "source": [
    "X_new = space\n",
    "for i in range(N):\n",
    "    for j in range(ML[i]):\n",
    "        X_new = np.append(X_new, particle[i])"
   ]
  },
  {
   "cell_type": "code",
   "execution_count": null,
   "metadata": {},
   "outputs": [],
   "source": [
    "# Robot has moved one step in the right direction\n",
    "U = 1\n",
    "\n",
    "X_after_move = []\n",
    "for j in X_new:\n",
    "    j = j + U\n",
    "    X_after_move.append(j)"
   ]
  },
  {
   "cell_type": "code",
   "execution_count": null,
   "metadata": {},
   "outputs": [],
   "source": [
    "# Repeat with Z = 1"
   ]
  }
 ],
 "metadata": {
  "kernelspec": {
   "display_name": "Python 3",
   "language": "python",
   "name": "python3"
  },
  "language_info": {
   "name": "python",
   "version": "3.13.0"
  }
 },
 "nbformat": 4,
 "nbformat_minor": 2
}
