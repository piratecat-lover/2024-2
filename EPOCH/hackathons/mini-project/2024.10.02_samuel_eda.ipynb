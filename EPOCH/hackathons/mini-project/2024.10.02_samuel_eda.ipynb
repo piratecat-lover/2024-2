{
 "cells": [
  {
   "cell_type": "code",
   "execution_count": null,
   "metadata": {},
   "outputs": [],
   "source": [
    "# Import necessary libraries\n",
    "import pandas as pd\n",
    "import numpy as np\n",
    "import ast\n",
    "import matplotlib.pyplot as plt\n",
    "import seaborn as sns\n",
    "%matplotlib inline"
   ]
  },
  {
   "cell_type": "code",
   "execution_count": null,
   "metadata": {},
   "outputs": [],
   "source": [
    "# Load credits.csv\n",
    "credits = pd.read_csv('./raw-data/credits.csv')\n",
    "\n",
    "# Load keywords.csv\n",
    "keywords = pd.read_csv('./raw-data/keywords.csv')\n",
    "\n",
    "# Load links.csv\n",
    "links = pd.read_csv('./raw-data/links.csv')\n",
    "\n",
    "# Load movies_metadata.csv\n",
    "movies_metadata = pd.read_csv('./raw-data/movies_metadata.csv', low_memory=False)\n",
    "\n",
    "# Load ratings.csv\n",
    "ratings = pd.read_csv('./raw-data/ratings.csv')"
   ]
  },
  {
   "cell_type": "code",
   "execution_count": null,
   "metadata": {},
   "outputs": [],
   "source": [
    "# Function to safely parse JSON-like strings\n",
    "def parse_json_column(df, column_name):\n",
    "    def parse_json(x):\n",
    "        if pd.isna(x):\n",
    "            return []\n",
    "        try:\n",
    "            return ast.literal_eval(x)\n",
    "        except:\n",
    "            return []\n",
    "    df[column_name] = df[column_name].apply(parse_json)\n",
    "    return df"
   ]
  },
  {
   "cell_type": "code",
   "execution_count": null,
   "metadata": {},
   "outputs": [],
   "source": [
    "# Parse columns in credits dataframe\n",
    "credits = parse_json_column(credits, 'cast')\n",
    "credits = parse_json_column(credits, 'crew')\n",
    "\n",
    "# Parse keywords dataframe\n",
    "keywords = parse_json_column(keywords, 'keywords')\n",
    "\n",
    "# Parse columns in movies_metadata dataframe\n",
    "json_columns = ['genres', 'production_companies', 'production_countries', 'spoken_languages', 'belongs_to_collection']\n",
    "for column in json_columns:\n",
    "    movies_metadata = parse_json_column(movies_metadata, column)"
   ]
  },
  {
   "cell_type": "code",
   "execution_count": null,
   "metadata": {},
   "outputs": [],
   "source": [
    "# Convert numeric columns to appropriate data types\n",
    "movies_metadata['budget'] = pd.to_numeric(movies_metadata['budget'], errors='coerce')\n",
    "movies_metadata['revenue'] = pd.to_numeric(movies_metadata['revenue'], errors='coerce')\n",
    "movies_metadata['runtime'] = pd.to_numeric(movies_metadata['runtime'], errors='coerce')\n",
    "movies_metadata['id'] = pd.to_numeric(movies_metadata['id'], errors='coerce')\n",
    "credits['id'] = pd.to_numeric(credits['id'], errors='coerce')\n",
    "keywords['id'] = pd.to_numeric(keywords['id'], errors='coerce')\n",
    "movies_metadata['release_date'] = pd.to_datetime(movies_metadata['release_date'], errors='coerce')"
   ]
  },
  {
   "cell_type": "code",
   "execution_count": null,
   "metadata": {},
   "outputs": [],
   "source": [
    "# Merge credits and movies_metadata on 'id'\n",
    "df = movies_metadata.merge(credits, on='id')\n",
    "\n",
    "# Merge keywords\n",
    "df = df.merge(keywords, on='id')"
   ]
  },
  {
   "cell_type": "markdown",
   "metadata": {},
   "source": [
    "# EDA"
   ]
  },
  {
   "cell_type": "code",
   "execution_count": null,
   "metadata": {},
   "outputs": [],
   "source": [
    "df.info()"
   ]
  },
  {
   "cell_type": "code",
   "execution_count": null,
   "metadata": {},
   "outputs": [],
   "source": [
    "# Check for missing values\n",
    "df.isnull().sum()"
   ]
  },
  {
   "cell_type": "code",
   "execution_count": null,
   "metadata": {},
   "outputs": [],
   "source": [
    "# Function to extract names from lists of dictionaries\n",
    "def get_names(x):\n",
    "    return [d['name'] for d in x] if isinstance(x, list) else []\n",
    "\n",
    "# Extract genres\n",
    "df['genres_list'] = df['genres'].apply(get_names)\n",
    "\n",
    "# Explode genres for analysis\n",
    "genres_exploded = df.explode('genres_list')\n",
    "\n",
    "# Count of each genre\n",
    "genre_counts = genres_exploded['genres_list'].value_counts()\n",
    "\n",
    "# Plot top genres\n",
    "plt.figure(figsize=(12,6))\n",
    "sns.barplot(x=genre_counts.index[:10], y=genre_counts.values[:10])\n",
    "plt.title('Top 10 Genres')\n",
    "plt.xlabel('Genre')\n",
    "plt.ylabel('Number of Movies')\n",
    "plt.xticks(rotation=45)\n",
    "plt.show()"
   ]
  },
  {
   "cell_type": "code",
   "execution_count": null,
   "metadata": {},
   "outputs": [],
   "source": [
    "# Extract cast names\n",
    "df['cast_list'] = df['cast'].apply(get_names)\n",
    "\n",
    "# Explode cast list for analysis\n",
    "cast_exploded = df.explode('cast_list')\n",
    "\n",
    "# Count of each actor\n",
    "cast_counts = cast_exploded['cast_list'].value_counts()\n",
    "\n",
    "# Plot top actors\n",
    "plt.figure(figsize=(12,6))\n",
    "sns.barplot(x=cast_counts.index[:10], y=cast_counts.values[:10])\n",
    "plt.title('Top 10 Actors')\n",
    "plt.xlabel('Actor')\n",
    "plt.ylabel('Number of Movies')\n",
    "plt.xticks(rotation=45)\n",
    "plt.show()"
   ]
  },
  {
   "cell_type": "code",
   "execution_count": null,
   "metadata": {},
   "outputs": [],
   "source": [
    "# Scatter plot of Revenue vs Budget\n",
    "plt.figure(figsize=(10,6))\n",
    "sns.scatterplot(data=df, x='budget', y='revenue')\n",
    "plt.title('Revenue vs Budget')\n",
    "plt.xlabel('Budget')\n",
    "plt.ylabel('Revenue')\n",
    "plt.show()"
   ]
  },
  {
   "cell_type": "code",
   "execution_count": null,
   "metadata": {},
   "outputs": [],
   "source": [
    "# Extract release year\n",
    "df['release_year'] = df['release_date'].dt.year\n",
    "\n",
    "# Movies per year\n",
    "movies_per_year = df['release_year'].value_counts().sort_index()\n",
    "\n",
    "# Plot the trend\n",
    "plt.figure(figsize=(12,6))\n",
    "sns.lineplot(x=movies_per_year.index, y=movies_per_year.values)\n",
    "plt.title('Number of Movies Released Over the Years')\n",
    "plt.xlabel('Year')\n",
    "plt.ylabel('Number of Movies')\n",
    "plt.show()"
   ]
  },
  {
   "cell_type": "code",
   "execution_count": null,
   "metadata": {},
   "outputs": [],
   "source": [
    "# Convert 'movieId' in ratings to numeric\n",
    "ratings['movieId'] = pd.to_numeric(ratings['movieId'], errors='coerce')\n",
    "\n",
    "# Merge ratings with links to map 'movieId' to 'tmdbId'\n",
    "links['tmdbId'] = pd.to_numeric(links['tmdbId'], errors='coerce')\n",
    "df_links = df.merge(links, left_on='id', right_on='tmdbId')\n",
    "\n",
    "# Merge with ratings\n",
    "df_ratings = df_links.merge(ratings, on='movieId')\n",
    "\n",
    "# Average rating per movie\n",
    "average_ratings = df_ratings.groupby('title')['rating'].mean().sort_values(ascending=False)\n",
    "\n",
    "# Distribution of ratings\n",
    "plt.figure(figsize=(10,6))\n",
    "sns.histplot(ratings['rating'], bins=10, kde=True)\n",
    "plt.title('Distribution of Ratings')\n",
    "plt.xlabel('Rating')\n",
    "plt.ylabel('Count')\n",
    "plt.show()"
   ]
  }
 ],
 "metadata": {
  "kernelspec": {
   "display_name": "bir_env",
   "language": "python",
   "name": "python3"
  },
  "language_info": {
   "name": "python",
   "version": "3.12.4"
  }
 },
 "nbformat": 4,
 "nbformat_minor": 2
}
