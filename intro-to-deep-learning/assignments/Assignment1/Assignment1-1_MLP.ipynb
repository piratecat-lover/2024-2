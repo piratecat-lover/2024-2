{
 "cells": [
  {
   "cell_type": "markdown",
   "metadata": {},
   "source": [
    "# M2177.004300 002 Deep Learning <br> Assignment #1 Part 1: Training Multi-Layer Perceptrons"
   ]
  },
  {
   "cell_type": "markdown",
   "metadata": {},
   "source": [
    "Copyright (C) Data Science & AI Laboratory, Seoul National University. This material is for educational uses only. Some contents are based on the material provided by other paper/book authors and may be copyrighted by them. "
   ]
  },
  {
   "cell_type": "markdown",
   "metadata": {
    "colab_type": "text",
    "id": "kR-4eNdK6lYS"
   },
   "source": [
    "The goal of this assignment is to progressively train deeper and more accurate models using PyTorch.\n",
    "\n",
    "This notebook uses the [notMNIST](http://yaroslavvb.blogspot.com/2011/09/notmnist-dataset.html) dataset to be used with python experiments. This dataset is designed to look like the classic [MNIST](http://yann.lecun.com/exdb/mnist/) dataset, while looking a little more like real data: it's a harder task, and the data is a lot less 'clean' than MNIST.\n",
    "\n",
    "**Note**: certain details are missing or ambiguous on purpose, in order to test your knowledge on the related materials. However, if you really feel that something essential is missing and cannot proceed to the next step, then contact the teaching staff with clear description of your problem.\n",
    "\n",
    "### Submitting your work:\n",
    "<font color=red>**DO NOT clear the final outputs**</font> so that TAs can grade both your code and results.  \n",
    "Once you have done problems, run the *CollectSubmission.sh* script with your **Student number** as input argument. <br>\n",
    "This will produce a compressed file called *[Your student number].tar.gz*. Please submit this file on ETL. &nbsp;&nbsp; (Usage: ./*CollectSubmission.sh* &nbsp; 20\\*\\*-\\*\\*\\*\\*\\*)"
   ]
  },
  {
   "cell_type": "markdown",
   "metadata": {},
   "source": [
    "## Download datasets\n",
    "\n",
    "First, we'll download the dataset to our local machine. The data consists of characters rendered in a variety of fonts on a 28x28 image. The labels are limited to 'A' through 'J' (10 classes). The training set has about 500k and the testset 19000 labeled examples. Given these sizes, it should be possible to train models quickly on any machine."
   ]
  },
  {
   "cell_type": "code",
   "execution_count": 1,
   "metadata": {},
   "outputs": [],
   "source": [
    "# These are all the modules we'll be using later. Make sure you can import them\n",
    "# before proceeding further.\n",
    "from __future__ import print_function\n",
    "import matplotlib.pyplot as plt\n",
    "import numpy as np\n",
    "import os\n",
    "import sys\n",
    "import tarfile\n",
    "from six.moves.urllib.request import urlretrieve\n",
    "from six.moves import cPickle as pickle\n",
    "\n",
    "# Config the matplotlib backend as plotting inline in IPython\n",
    "%matplotlib inline"
   ]
  },
  {
   "cell_type": "code",
   "execution_count": 2,
   "metadata": {},
   "outputs": [
    {
     "name": "stdout",
     "output_type": "stream",
     "text": [
      "Found and verified ./data\\notMNIST_large.tar.gz\n",
      "Found and verified ./data\\notMNIST_small.tar.gz\n"
     ]
    }
   ],
   "source": [
    "url = 'https://commondatastorage.googleapis.com/books1000/'\n",
    "last_percent_reported = None\n",
    "data_root = './data' # Change me to store data elsewhere\n",
    "\n",
    "if not os.path.exists(data_root):\n",
    "    os.makedirs(data_root)\n",
    "\n",
    "def download_progress_hook(count, blockSize, totalSize):\n",
    "    \"\"\"A hook to report the progress of a download. This is mostly intended for users with\n",
    "    slow internet connections. Reports every 5% change in download progress.\n",
    "    \"\"\"\n",
    "    global last_percent_reported\n",
    "    percent = int(count * blockSize * 100 / totalSize)\n",
    "\n",
    "    if last_percent_reported != percent:\n",
    "        if percent % 5 == 0:\n",
    "            sys.stdout.write(\"%s%%\" % percent)\n",
    "            sys.stdout.flush()\n",
    "        else:\n",
    "            sys.stdout.write(\".\")\n",
    "            sys.stdout.flush()\n",
    "\n",
    "    last_percent_reported = percent\n",
    "        \n",
    "def maybe_download(filename, expected_bytes, force=False):\n",
    "    \"\"\"Download a file if not present, and make sure it's the right size.\"\"\"\n",
    "    dest_filename = os.path.join(data_root, filename)\n",
    "    if force or not os.path.exists(dest_filename):\n",
    "        print('Attempting to download:', filename) \n",
    "        filename, _ = urlretrieve(url + filename, dest_filename, reporthook=download_progress_hook)\n",
    "        print('\\nDownload Complete!')\n",
    "    statinfo = os.stat(dest_filename)\n",
    "    if statinfo.st_size == expected_bytes:\n",
    "        print('Found and verified', dest_filename)\n",
    "    else:\n",
    "        raise Exception(\n",
    "          'Failed to verify ' + dest_filename + '. Can you get to it with a browser?')\n",
    "    return dest_filename\n",
    "\n",
    "train_filename = maybe_download('notMNIST_large.tar.gz', 247336696)\n",
    "test_filename = maybe_download('notMNIST_small.tar.gz', 8458043)"
   ]
  },
  {
   "cell_type": "markdown",
   "metadata": {},
   "source": [
    "Extract the dataset from the compressed .tar.gz file.\n",
    "This should give you a set of directories, labeled A through J."
   ]
  },
  {
   "cell_type": "code",
   "execution_count": 3,
   "metadata": {},
   "outputs": [
    {
     "name": "stdout",
     "output_type": "stream",
     "text": [
      "./data\\notMNIST_large already present - Skipping extraction of ./data\\notMNIST_large.tar.gz.\n",
      "['./data\\\\notMNIST_large\\\\A', './data\\\\notMNIST_large\\\\B', './data\\\\notMNIST_large\\\\C', './data\\\\notMNIST_large\\\\D', './data\\\\notMNIST_large\\\\E', './data\\\\notMNIST_large\\\\F', './data\\\\notMNIST_large\\\\G', './data\\\\notMNIST_large\\\\H', './data\\\\notMNIST_large\\\\I', './data\\\\notMNIST_large\\\\J']\n",
      "./data\\notMNIST_small already present - Skipping extraction of ./data\\notMNIST_small.tar.gz.\n",
      "['./data\\\\notMNIST_small\\\\A', './data\\\\notMNIST_small\\\\B', './data\\\\notMNIST_small\\\\C', './data\\\\notMNIST_small\\\\D', './data\\\\notMNIST_small\\\\E', './data\\\\notMNIST_small\\\\F', './data\\\\notMNIST_small\\\\G', './data\\\\notMNIST_small\\\\H', './data\\\\notMNIST_small\\\\I', './data\\\\notMNIST_small\\\\J']\n"
     ]
    }
   ],
   "source": [
    "num_classes = 10\n",
    "np.random.seed(0)\n",
    "\n",
    "def maybe_extract(filename, force=False):\n",
    "    root = os.path.splitext(os.path.splitext(filename)[0])[0]  # remove .tar.gz\n",
    "    if os.path.isdir(root) and not force:\n",
    "    # You may override by setting force=True.\n",
    "        print(f'{root} already present - Skipping extraction of {filename}.')\n",
    "    else:\n",
    "        print(f'Extracting data for {root}. This may take a while. Please wait.')\n",
    "        tar = tarfile.open(filename)\n",
    "        sys.stdout.flush()\n",
    "        tar.extractall(data_root)\n",
    "        tar.close()\n",
    "    data_folders = [\n",
    "        os.path.join(root, d) for d in sorted(os.listdir(root))\n",
    "        if os.path.isdir(os.path.join(root, d))]\n",
    "    if len(data_folders) != num_classes:\n",
    "        raise Exception(f'Expected {num_classes} folders, one per class. Found {len(data_folders)} instead.')\n",
    "    print(data_folders)\n",
    "    return data_folders\n",
    "  \n",
    "train_folders = maybe_extract(train_filename)\n",
    "test_folders = maybe_extract(test_filename)"
   ]
  },
  {
   "cell_type": "markdown",
   "metadata": {},
   "source": [
    "\n",
    "Let's take a peek at some of the data to make sure it looks sensible. Each exemplar should be an image of a character A through J rendered in a different font. Display a sample of the images that we just downloaded.\n",
    "\n",
    "---"
   ]
  },
  {
   "cell_type": "code",
   "execution_count": 4,
   "metadata": {},
   "outputs": [
    {
     "data": {
      "image/png": "[encoded data removed]",
      "text/plain": [
       "<IPython.core.display.Image object>"
      ]
     },
     "metadata": {},
     "output_type": "display_data"
    }
   ],
   "source": [
    "from IPython.display import Image, display\n",
    "\n",
    "display(Image(filename= os.path.abspath('data/notMNIST_large/A/ZXVyb2Z1cmVuY2UgYm9sZGl0YWxpYy50dGY=.png')))"
   ]
  },
  {
   "cell_type": "markdown",
   "metadata": {},
   "source": [
    "## Load datasets\n",
    "\n",
    "Now let's load the data in a more manageable format. Since, depending on your computer setup you might not be able to fit it all in memory, we'll load each class into a separate dataset, store them on disk and curate them independently. Later we'll merge them into a single dataset of manageable size.\n",
    "\n",
    "We'll convert the entire dataset into a 3D array (image index, x, y) of floating point values.\n",
    "\n",
    "A few images might not be readable, we'll just skip them."
   ]
  },
  {
   "cell_type": "code",
   "execution_count": 5,
   "metadata": {},
   "outputs": [
    {
     "name": "stdout",
     "output_type": "stream",
     "text": [
      "./data\\notMNIST_large\\A.pickle already present - Skipping pickling.\n",
      "./data\\notMNIST_large\\B.pickle already present - Skipping pickling.\n",
      "./data\\notMNIST_large\\C.pickle already present - Skipping pickling.\n",
      "./data\\notMNIST_large\\D.pickle already present - Skipping pickling.\n",
      "./data\\notMNIST_large\\E.pickle already present - Skipping pickling.\n",
      "./data\\notMNIST_large\\F.pickle already present - Skipping pickling.\n",
      "./data\\notMNIST_large\\G.pickle already present - Skipping pickling.\n",
      "./data\\notMNIST_large\\H.pickle already present - Skipping pickling.\n",
      "./data\\notMNIST_large\\I.pickle already present - Skipping pickling.\n",
      "./data\\notMNIST_large\\J.pickle already present - Skipping pickling.\n",
      "./data\\notMNIST_small\\A.pickle already present - Skipping pickling.\n",
      "./data\\notMNIST_small\\B.pickle already present - Skipping pickling.\n",
      "./data\\notMNIST_small\\C.pickle already present - Skipping pickling.\n",
      "./data\\notMNIST_small\\D.pickle already present - Skipping pickling.\n",
      "./data\\notMNIST_small\\E.pickle already present - Skipping pickling.\n",
      "./data\\notMNIST_small\\F.pickle already present - Skipping pickling.\n",
      "./data\\notMNIST_small\\G.pickle already present - Skipping pickling.\n",
      "./data\\notMNIST_small\\H.pickle already present - Skipping pickling.\n",
      "./data\\notMNIST_small\\I.pickle already present - Skipping pickling.\n",
      "./data\\notMNIST_small\\J.pickle already present - Skipping pickling.\n"
     ]
    }
   ],
   "source": [
    "image_size = 28  # Pixel width and height.\n",
    "pixel_depth = 255.0  # Number of levels per pixel.\n",
    "\n",
    "def load_letter(folder, min_num_images):\n",
    "    \"\"\"Load the data for a single letter label.\"\"\"\n",
    "    image_files = os.listdir(folder)\n",
    "    dataset = np.ndarray(shape=(len(image_files), image_size, image_size),\n",
    "                         dtype=np.float32)\n",
    "    print(folder)\n",
    "    num_images = 0\n",
    "    for image in image_files:\n",
    "        image_file = os.path.join(folder, image)\n",
    "        try:            \n",
    "            image_data = (plt.imread(image_file, 0).astype(float) - \n",
    "                        pixel_depth / 2) / pixel_depth\n",
    "            if image_data.shape != (image_size, image_size):\n",
    "                raise Exception(f'Unexpected image shape: {str(image_data.shape)}')\n",
    "            dataset[num_images, :, :] = image_data\n",
    "            num_images = num_images + 1\n",
    "        except IOError as e:\n",
    "            print('Could not read:', image_file, ':', e, '- it\\'s ok, skipping.')\n",
    "\n",
    "    dataset = dataset[0:num_images, :, :]\n",
    "    if num_images < min_num_images:\n",
    "        raise Exception(f'Many fewer images than expected: {num_images} < {min_num_images}')\n",
    "\n",
    "    print('Full dataset tensor:', dataset.shape)\n",
    "    print('Mean:', np.mean(dataset))\n",
    "    print('Standard deviation:', np.std(dataset))\n",
    "    return dataset\n",
    "        \n",
    "def maybe_pickle(data_folders, min_num_images_per_class, force=False):\n",
    "    dataset_names = []\n",
    "    for folder in data_folders:\n",
    "        set_filename = folder + '.pickle'\n",
    "        dataset_names.append(set_filename)\n",
    "        if os.path.exists(set_filename) and not force:\n",
    "          # You may override by setting force=True.\n",
    "          print(f'{set_filename} already present - Skipping pickling.')\n",
    "        else:\n",
    "            print(f'Pickling {set_filename}.')\n",
    "            dataset = load_letter(folder, min_num_images_per_class)\n",
    "            try:\n",
    "                with open(set_filename, 'wb') as f:\n",
    "                    pickle.dump(dataset, f, pickle.HIGHEST_PROTOCOL)\n",
    "            except Exception as e:\n",
    "                print('Unable to save data to', set_filename, ':', e)\n",
    "\n",
    "    return dataset_names\n",
    "\n",
    "train_datasets = maybe_pickle(train_folders, 45000)\n",
    "test_datasets = maybe_pickle(test_folders, 1800)"
   ]
  },
  {
   "cell_type": "markdown",
   "metadata": {},
   "source": [
    "\n",
    "Let's verify that the data still looks good. Displaying a sample of the labels and images from the ndarray.\n",
    "\n",
    "---"
   ]
  },
  {
   "cell_type": "code",
   "execution_count": 6,
   "metadata": {},
   "outputs": [
    {
     "data": {
      "image/png": "[encoded data removed]",
      "text/plain": [
       "<Figure size 640x480 with 9 Axes>"
      ]
     },
     "metadata": {},
     "output_type": "display_data"
    }
   ],
   "source": [
    "file = open(train_datasets[0], \"rb\")\n",
    "images = pickle.load(file)\n",
    "file.close()\n",
    "\n",
    "fig, axes = plt.subplots(3, 3)\n",
    "fig.subplots_adjust(hspace=0.3, wspace=0.3)\n",
    "for i, ax in enumerate(axes.flat):\n",
    "        # Plot image.\n",
    "    ax.imshow(images[i].reshape([28, 28]), cmap='binary')               \n",
    "        \n",
    "        # Remove ticks from the plot.\n",
    "    ax.set_xticks([])\n",
    "    ax.set_yticks([])\n",
    "        \n",
    "    # Ensure the plot is shown correctly with multiple plots\n",
    "    # in a single Notebook cell.\n",
    "plt.show()"
   ]
  },
  {
   "cell_type": "markdown",
   "metadata": {},
   "source": [
    "Another check: we expect the data to be balanced across classes. Verify that if the number of samples across classes are balanced.\n",
    "\n",
    "---"
   ]
  },
  {
   "cell_type": "code",
   "execution_count": 7,
   "metadata": {},
   "outputs": [
    {
     "name": "stdout",
     "output_type": "stream",
     "text": [
      "file :  <_io.BufferedReader name='./data\\\\notMNIST_large\\\\A.pickle'> number of samples :  52909\n",
      "file :  <_io.BufferedReader name='./data\\\\notMNIST_large\\\\B.pickle'> number of samples :  52911\n",
      "file :  <_io.BufferedReader name='./data\\\\notMNIST_large\\\\C.pickle'> number of samples :  52912\n",
      "file :  <_io.BufferedReader name='./data\\\\notMNIST_large\\\\D.pickle'> number of samples :  52911\n",
      "file :  <_io.BufferedReader name='./data\\\\notMNIST_large\\\\E.pickle'> number of samples :  52912\n",
      "file :  <_io.BufferedReader name='./data\\\\notMNIST_large\\\\F.pickle'> number of samples :  52912\n",
      "file :  <_io.BufferedReader name='./data\\\\notMNIST_large\\\\G.pickle'> number of samples :  52912\n",
      "file :  <_io.BufferedReader name='./data\\\\notMNIST_large\\\\H.pickle'> number of samples :  52912\n",
      "file :  <_io.BufferedReader name='./data\\\\notMNIST_large\\\\I.pickle'> number of samples :  52912\n",
      "file :  <_io.BufferedReader name='./data\\\\notMNIST_large\\\\J.pickle'> number of samples :  52911\n"
     ]
    }
   ],
   "source": [
    "for data in train_datasets:\n",
    "    file = open(data, \"rb\")\n",
    "    images = pickle.load(file)\n",
    "    print('file : ', file, 'number of samples : ', images.shape[0])\n",
    "    file.close()"
   ]
  },
  {
   "cell_type": "markdown",
   "metadata": {},
   "source": [
    "## Generate train, test, validation sets\n",
    "\n",
    "Merge and prune the training data as needed. Depending on your computer setup, you might not be able to fit it all in memory, and you can tune `train_size` as needed. The labels will be stored into a separate array of integers 0 through 9.\n",
    "\n",
    "Also create a validation dataset for hyperparameter tuning."
   ]
  },
  {
   "cell_type": "code",
   "execution_count": 8,
   "metadata": {},
   "outputs": [
    {
     "name": "stdout",
     "output_type": "stream",
     "text": [
      "Training: (200000, 28, 28) (200000,)\n",
      "Validation: (10000, 28, 28) (10000,)\n",
      "Testing: (10000, 28, 28) (10000,)\n"
     ]
    }
   ],
   "source": [
    "def make_arrays(nb_rows, img_size):\n",
    "    if nb_rows:\n",
    "        dataset = np.ndarray((nb_rows, img_size, img_size), dtype=np.float32)\n",
    "        labels = np.ndarray(nb_rows, dtype=np.int32)\n",
    "    else:\n",
    "        dataset, labels = None, None\n",
    "    return dataset, labels\n",
    "\n",
    "def merge_datasets(pickle_files, train_size, valid_size=0):\n",
    "    num_classes = len(pickle_files)\n",
    "    valid_dataset, valid_labels = make_arrays(valid_size, image_size)\n",
    "    train_dataset, train_labels = make_arrays(train_size, image_size)\n",
    "    vsize_per_class = valid_size // num_classes\n",
    "    tsize_per_class = train_size // num_classes\n",
    "\n",
    "    start_v, start_t = 0, 0\n",
    "    end_v, end_t = vsize_per_class, tsize_per_class\n",
    "    end_l = vsize_per_class+tsize_per_class\n",
    "    for label, pickle_file in enumerate(pickle_files):       \n",
    "        try:\n",
    "            with open(pickle_file, 'rb') as f:\n",
    "                letter_set = pickle.load(f)\n",
    "                # let's shuffle the letters to have random validation and training set\n",
    "                np.random.shuffle(letter_set)\n",
    "                if valid_dataset is not None:\n",
    "                    valid_letter = letter_set[:vsize_per_class, :, :]\n",
    "                    valid_dataset[start_v:end_v, :, :] = valid_letter\n",
    "                    valid_labels[start_v:end_v] = label\n",
    "                    start_v += vsize_per_class\n",
    "                    end_v += vsize_per_class\n",
    "\n",
    "                train_letter = letter_set[vsize_per_class:end_l, :, :]\n",
    "                train_dataset[start_t:end_t, :, :] = train_letter\n",
    "                train_labels[start_t:end_t] = label\n",
    "                start_t += tsize_per_class\n",
    "                end_t += tsize_per_class\n",
    "        except Exception as e:\n",
    "            print('Unable to process data from', pickle_file, ':', e)\n",
    "            raise\n",
    "\n",
    "    return valid_dataset, valid_labels, train_dataset, train_labels\n",
    "\n",
    "            \n",
    "train_size = 200000\n",
    "valid_size = 10000\n",
    "test_size = 10000\n",
    "\n",
    "valid_dataset, valid_labels, train_dataset, train_labels = merge_datasets(train_datasets, train_size, valid_size)\n",
    "_, _, test_dataset, test_labels = merge_datasets(test_datasets, test_size)\n",
    "\n",
    "print('Training:', train_dataset.shape, train_labels.shape)\n",
    "print('Validation:', valid_dataset.shape, valid_labels.shape)\n",
    "print('Testing:', test_dataset.shape, test_labels.shape)"
   ]
  },
  {
   "cell_type": "markdown",
   "metadata": {},
   "source": [
    "Next, we'll randomize the data. It's important to have the labels well shuffled for the training and test distributions to match."
   ]
  },
  {
   "cell_type": "code",
   "execution_count": 9,
   "metadata": {},
   "outputs": [],
   "source": [
    "def randomize(dataset, labels):\n",
    "    permutation = np.random.permutation(labels.shape[0])\n",
    "    shuffled_dataset = dataset[permutation,:,:]\n",
    "    shuffled_labels = labels[permutation]\n",
    "    return shuffled_dataset, shuffled_labels\n",
    "train_dataset, train_labels = randomize(train_dataset, train_labels)\n",
    "test_dataset, test_labels = randomize(test_dataset, test_labels)\n",
    "valid_dataset, valid_labels = randomize(valid_dataset, valid_labels)"
   ]
  },
  {
   "cell_type": "markdown",
   "metadata": {},
   "source": [
    "Convince yourself that the data is still good after shuffling! Display one of the images and see if it's not distorted.\n",
    "\n",
    "---"
   ]
  },
  {
   "cell_type": "code",
   "execution_count": 10,
   "metadata": {},
   "outputs": [
    {
     "data": {
      "image/png": "[encoded data removed]",
      "text/plain": [
       "<Figure size 640x480 with 9 Axes>"
      ]
     },
     "metadata": {},
     "output_type": "display_data"
    }
   ],
   "source": [
    "images = train_dataset\n",
    "\n",
    "fig, axes = plt.subplots(3, 3)\n",
    "fig.subplots_adjust(hspace=0.3, wspace=0.3)\n",
    "for i, ax in enumerate(axes.flat):\n",
    "        # Plot image.\n",
    "    ax.imshow(images[i].reshape([28, 28]), cmap='binary')               \n",
    "        \n",
    "        # Remove ticks from the plot.\n",
    "    ax.set_xticks([])\n",
    "    ax.set_yticks([])\n",
    "        \n",
    "    # Ensure the plot is shown correctly with multiple plots\n",
    "    # in a single Notebook cell.\n",
    "plt.show()"
   ]
  },
  {
   "cell_type": "markdown",
   "metadata": {},
   "source": [
    "Finally, let's save the data for later reuse:"
   ]
  },
  {
   "cell_type": "code",
   "execution_count": 11,
   "metadata": {},
   "outputs": [],
   "source": [
    "pickle_file = os.path.join(data_root, 'notMNIST.pickle')\n",
    "\n",
    "try:\n",
    "    f = open(pickle_file, 'wb')\n",
    "    save = {\n",
    "        'train_dataset': train_dataset,\n",
    "        'train_labels': train_labels,\n",
    "        'valid_dataset': valid_dataset,\n",
    "        'valid_labels': valid_labels,\n",
    "        'test_dataset': test_dataset,\n",
    "        'test_labels': test_labels,\n",
    "    }\n",
    "    pickle.dump(save, f, pickle.HIGHEST_PROTOCOL)\n",
    "    f.close()\n",
    "except Exception as e:\n",
    "    print('Unable to save data to', pickle_file, ':', e)\n",
    "    raise"
   ]
  },
  {
   "cell_type": "code",
   "execution_count": 12,
   "metadata": {},
   "outputs": [
    {
     "name": "stdout",
     "output_type": "stream",
     "text": [
      "Compressed pickle size: 690800438\n"
     ]
    }
   ],
   "source": [
    "statinfo = os.stat(pickle_file)\n",
    "print('Compressed pickle size:', statinfo.st_size)"
   ]
  },
  {
   "cell_type": "markdown",
   "metadata": {},
   "source": [
    "## Load datasets\n",
    "\n",
    "First reload the data we generated."
   ]
  },
  {
   "cell_type": "code",
   "execution_count": 13,
   "metadata": {},
   "outputs": [
    {
     "name": "stdout",
     "output_type": "stream",
     "text": [
      "Training set (200000, 28, 28) (200000,)\n",
      "Validation set (10000, 28, 28) (10000,)\n",
      "Test set (10000, 28, 28) (10000,)\n"
     ]
    }
   ],
   "source": [
    "pickle_file = 'data/notMNIST.pickle'\n",
    "\n",
    "with open(pickle_file, 'rb') as f:\n",
    "    save = pickle.load(f)\n",
    "    train_dataset = save['train_dataset']\n",
    "    train_labels = save['train_labels']\n",
    "    valid_dataset = save['valid_dataset']\n",
    "    valid_labels = save['valid_labels']\n",
    "    test_dataset = save['test_dataset']\n",
    "    test_labels = save['test_labels']\n",
    "    del save  # hint to help gc free up memory\n",
    "    print('Training set', train_dataset.shape, train_labels.shape)\n",
    "    print('Validation set', valid_dataset.shape, valid_labels.shape)\n",
    "    print('Test set', test_dataset.shape, test_labels.shape)"
   ]
  },
  {
   "cell_type": "markdown",
   "metadata": {
    "colab_type": "text",
    "id": "L7aHrm6nGDMB"
   },
   "source": [
    "Reformat into a shape that's more adapted to the models we're going to train:\n",
    "- unnormalize data\n",
    "- data as a flat matrix"
   ]
  },
  {
   "cell_type": "code",
   "execution_count": 14,
   "metadata": {
    "cellView": "both",
    "colab": {
     "autoexec": {
      "startup": false,
      "wait_interval": 0
     },
     "output_extras": [
      {
       "item_id": 1
      }
     ]
    },
    "colab_type": "code",
    "executionInfo": {
     "elapsed": 19723,
     "status": "ok",
     "timestamp": 1449847956364,
     "user": {
      "color": "",
      "displayName": "",
      "isAnonymous": false,
      "isMe": true,
      "permissionId": "",
      "photoUrl": "",
      "sessionId": "0",
      "userId": ""
     },
     "user_tz": 480
    },
    "id": "IRSyYiIIGIzS",
    "outputId": "2ba0fc75-1487-4ace-a562-cf81cae82793"
   },
   "outputs": [
    {
     "name": "stdout",
     "output_type": "stream",
     "text": [
      "Training set (200000, 784) (200000,)\n",
      "Validation set (10000, 784) (10000,)\n",
      "Test set (10000, 784) (10000,)\n"
     ]
    }
   ],
   "source": [
    "image_size = 28\n",
    "num_labels = 10\n",
    "\n",
    "def reformat(dataset):\n",
    "    dataset = dataset * 255.0 + 255.0/2\n",
    "    dataset = dataset.reshape((-1, image_size * image_size)).astype(np.float32)\n",
    "    return dataset\n",
    "\n",
    "train_dataset = reformat(train_dataset)\n",
    "valid_dataset = reformat(valid_dataset)\n",
    "test_dataset = reformat(test_dataset)\n",
    "\n",
    "print('Training set', train_dataset.shape, train_labels.shape)\n",
    "print('Validation set', valid_dataset.shape, valid_labels.shape)\n",
    "print('Test set', test_dataset.shape, test_labels.shape)"
   ]
  },
  {
   "cell_type": "markdown",
   "metadata": {
    "colab_type": "text",
    "id": "nCLVqyQ5vPPH"
   },
   "source": [
    "## Train a Multi-Layer Perceptron (MLP)\n",
    "\n",
    "Now, we are going to train a **multi-layer perceptron** using stochastic gradient descent (SGD)."
   ]
  },
  {
   "cell_type": "code",
   "execution_count": 15,
   "metadata": {},
   "outputs": [],
   "source": [
    "import torch\n",
    "from torch.utils.data import Dataset\n",
    "from torch.utils.data import DataLoader\n",
    "\n",
    "import torch.nn as nn\n",
    "import torch.nn.functional as F\n",
    "from torch.nn.parameter import Parameter\n",
    "\n",
    "import torch.optim as optim"
   ]
  },
  {
   "cell_type": "markdown",
   "metadata": {},
   "source": [
    "### First, define NotMNIST dataset class.  \n",
    "- dataset class inherits torch.utils.data.Dataset class  \n",
    "- dataset class should define \\_\\_len\\_\\_() and \\_\\_getitem\\_\\_()"
   ]
  },
  {
   "cell_type": "code",
   "execution_count": 16,
   "metadata": {},
   "outputs": [
    {
     "name": "stdout",
     "output_type": "stream",
     "text": [
      "Training set size:  200000\n",
      "Validation set size:  10000\n",
      "Test set size:  10000\n"
     ]
    }
   ],
   "source": [
    "class NotMNIST(Dataset):\n",
    "    def __init__(self, data, label):\n",
    "        self.data = data\n",
    "        self.label = label\n",
    "        \n",
    "    def __len__(self):\n",
    "        return len(self.data)\n",
    "    \n",
    "    def __getitem__(self, idx):\n",
    "        data_idx = self.data[idx]\n",
    "        label_idx = self.label[idx]\n",
    "        return data_idx, label_idx\n",
    "\n",
    "    \n",
    "notmnist_train = NotMNIST(train_dataset, train_labels)\n",
    "notmnist_valid = NotMNIST(valid_dataset, valid_labels)\n",
    "notmnist_test = NotMNIST(test_dataset, test_labels)\n",
    "\n",
    "print('Training set size: ', len(notmnist_train))\n",
    "print('Validation set size: ', len(notmnist_valid))\n",
    "print('Test set size: ', len(notmnist_test))"
   ]
  },
  {
   "cell_type": "markdown",
   "metadata": {},
   "source": [
    "### Then make dataloader using NotMNIST dataset objects  \n",
    "Note that torch.utils.data.DataLoader is a subclass of Iterable, which means it can be used with 'for' statement (for more detailed explanation of Iterable, refer to https://shoark7.github.io/programming/python/iterable-iterator-generator-in-python)  "
   ]
  },
  {
   "cell_type": "code",
   "execution_count": 17,
   "metadata": {},
   "outputs": [
    {
     "name": "stdout",
     "output_type": "stream",
     "text": [
      "True\n",
      "\n",
      "Type of inputs: <class 'torch.Tensor'>\tshape: torch.Size([64, 784])\n",
      "Type of labels: <class 'torch.Tensor'>\tshape: torch.Size([64])\n",
      "\n",
      "Train loader size:  3125\n",
      "Valid loader size:  157\n",
      "Test loader size:  157\n"
     ]
    }
   ],
   "source": [
    "batch_size = 64\n",
    "\n",
    "train_loader = DataLoader(dataset=notmnist_train, batch_size=batch_size, shuffle=True, drop_last=True)\n",
    "valid_loader = DataLoader(dataset=notmnist_valid, batch_size=batch_size, shuffle=False, drop_last=False)\n",
    "test_loader = DataLoader(dataset=notmnist_test, batch_size=batch_size, shuffle=False, drop_last=False)\n",
    "\n",
    "from collections.abc import Iterable\n",
    "print(issubclass(DataLoader, Iterable))\n",
    "print()\n",
    "\n",
    "inputs, labels = next(iter(train_loader))\n",
    "print(f'Type of inputs: {type(inputs)}\\tshape: {inputs.shape}')\n",
    "print(f'Type of labels: {type(labels)}\\tshape: {labels.shape}')\n",
    "print()\n",
    "\n",
    "print('Train loader size: ', len(train_loader)) # same as len(dataset) // batch_size\n",
    "print('Valid loader size: ', len(valid_loader))\n",
    "print('Test loader size: ', len(test_loader))"
   ]
  },
  {
   "cell_type": "markdown",
   "metadata": {},
   "source": [
    "### Define Naive Linear model\n",
    "- model should inherit nn.Module\n",
    "- implement feed forward by overriding **forward** method of nn.Module"
   ]
  },
  {
   "cell_type": "code",
   "execution_count": 18,
   "metadata": {},
   "outputs": [],
   "source": [
    "torch.manual_seed(1)\n",
    "torch.cuda.manual_seed(1)\n",
    "torch.cuda.manual_seed_all(1)\n",
    "torch.backends.cudnn.deterministic = True\n",
    "torch.backends.cudnn.benchmark = False\n",
    "\n",
    "class NaiveLinear(nn.Module):\n",
    "    \n",
    "    def __init__(self, in_features, out_features):\n",
    "        super(NaiveLinear, self).__init__()\n",
    "        self.weight = Parameter(torch.Tensor(in_features, out_features))\n",
    "        self.bias = Parameter(torch.Tensor(out_features))\n",
    "        torch.nn.init.uniform_(self.weight, -1.0, 1.0)\n",
    "        torch.nn.init.zeros_(self.bias)\n",
    "    \n",
    "    def forward(self, x):\n",
    "        return torch.matmul(x, self.weight) + self.bias"
   ]
  },
  {
   "cell_type": "code",
   "execution_count": 19,
   "metadata": {},
   "outputs": [],
   "source": [
    "class Model(nn.Module):\n",
    "    \n",
    "    def __init__(self, in_features, nn_hidden, num_labels):\n",
    "        super(Model, self).__init__()\n",
    "        self.fc1 = NaiveLinear(in_features, nn_hidden)\n",
    "        self.fc2 = NaiveLinear(nn_hidden, num_labels)\n",
    "        \n",
    "    def forward(self, x):\n",
    "        x = F.relu(self.fc1(x))\n",
    "        x = self.fc2(x)\n",
    "        return x"
   ]
  },
  {
   "cell_type": "code",
   "execution_count": 20,
   "metadata": {},
   "outputs": [
    {
     "name": "stdout",
     "output_type": "stream",
     "text": [
      "Cuda is available. Move model to GPU\n",
      "Model(\n",
      "  (fc1): NaiveLinear()\n",
      "  (fc2): NaiveLinear()\n",
      ")\n",
      "tensor([[ 0.5153, -0.4414, -0.1939,  ..., -0.0334, -0.3184, -0.6335],\n",
      "        [ 0.1658,  0.0407,  0.1526,  ..., -0.9122, -0.9774, -0.8611],\n",
      "        [-0.5218,  0.6270,  0.8866,  ..., -0.1884,  0.3789, -0.5059],\n",
      "        ...,\n",
      "        [ 0.0949, -0.5369,  0.1770,  ...,  0.7149,  0.9331, -0.7348],\n",
      "        [-0.7956,  0.9141,  0.3562,  ..., -0.1767, -0.8524,  0.0262],\n",
      "        [-0.8096, -0.3422, -0.3679,  ...,  0.1363,  0.2865,  0.6339]],\n",
      "       device='cuda:0')\n",
      "None\n"
     ]
    }
   ],
   "source": [
    "nn_hidden = 1024\n",
    "\n",
    "model = Model(image_size*image_size, nn_hidden, num_labels)\n",
    "\n",
    "# move model to GPU\n",
    "if torch.cuda.is_available():\n",
    "    print(\"Cuda is available. Move model to GPU\")\n",
    "    device = 'cuda:0'\n",
    "    model.to(device)\n",
    "else:\n",
    "    device = 'cpu'\n",
    "    \n",
    "# print model, initialized weight, grad buffer\n",
    "print(model)\n",
    "print(model.fc1.weight.data)\n",
    "print(model.fc1.bias.grad)"
   ]
  },
  {
   "cell_type": "markdown",
   "metadata": {},
   "source": [
    "Now, define loss function and optimizer"
   ]
  },
  {
   "cell_type": "code",
   "execution_count": 21,
   "metadata": {},
   "outputs": [],
   "source": [
    "criterion = nn.CrossEntropyLoss()\n",
    "optimizer = optim.SGD(params=model.parameters(), lr=0.005)"
   ]
  },
  {
   "cell_type": "markdown",
   "metadata": {
    "colab_type": "text",
    "id": "KQcL4uqISHjP"
   },
   "source": [
    "Let's run this computation and iterate:"
   ]
  },
  {
   "cell_type": "code",
   "execution_count": 22,
   "metadata": {},
   "outputs": [],
   "source": [
    "epochs = 10\n",
    "\n",
    "def accuracy(logits, labels):\n",
    "    logits = logits.cpu().detach().numpy()\n",
    "    labels = labels.cpu().detach().numpy()\n",
    "    \n",
    "    return (100.0 * np.sum(np.equal(np.argmax(logits, 1), labels)) / logits.shape[0])\n",
    "\n",
    "\n",
    "# train_model\n",
    "def train(model, train_loader, optimizer, criterion, epoch, device):\n",
    "    model.train()\n",
    "    loss_total = 0.0\n",
    "    count = 0\n",
    "    logits_all = []\n",
    "    labels_all = []\n",
    "    for idx, (images_flatten, labels) in enumerate(train_loader):\n",
    "        images_flatten, labels = images_flatten.to(device), labels.long().to(device)\n",
    "        logits = model(images_flatten)\n",
    "\n",
    "        optimizer.zero_grad()\n",
    "        loss = criterion(logits, labels)\n",
    "        loss.backward()\n",
    "        optimizer.step()\n",
    "        \n",
    "        loss_total += loss.item() * len(images_flatten)\n",
    "        count += len(images_flatten)\n",
    "        logits_all.append(logits)\n",
    "        labels_all.append(labels)\n",
    "    logits_all = torch.concat(logits_all)\n",
    "    labels_all = torch.concat(labels_all)\n",
    "\n",
    "    print(f'epoch: {epoch} [{idx + 1} / {len(train_loader)}]\\t train_loss: {(loss_total / count):.3f}\\t train_accuracy: {accuracy(logits_all, labels_all):.1f}')\n",
    "\n",
    "\n",
    "# evaluate model\n",
    "@torch.no_grad()\n",
    "def evaluate(model, test_loader, device):\n",
    "    model.eval()\n",
    "    test_logits_all = []\n",
    "    test_labels_all = []\n",
    "    for test_images_flatten, test_labels in test_loader:\n",
    "        test_images_flatten, test_labels = test_images_flatten.to(device), test_labels.long().to(device)\n",
    "        test_logits = model(test_images_flatten)\n",
    "        test_logits_all.append(test_logits)\n",
    "        test_labels_all.append(test_labels)\n",
    "    test_logits_all = torch.concat(test_logits_all)\n",
    "    test_labels_all = torch.concat(test_labels_all)\n",
    "\n",
    "    print(f'accuracy: {accuracy(test_logits_all, test_labels_all):.1f}\\n')\n",
    "    "
   ]
  },
  {
   "cell_type": "code",
   "execution_count": 23,
   "metadata": {},
   "outputs": [
    {
     "name": "stdout",
     "output_type": "stream",
     "text": [
      "epoch: 1 [3125 / 3125]\t train_loss: 14.181\t train_accuracy: 74.5\n",
      "-------- validation --------\n",
      "accuracy: 77.0\n",
      "\n",
      "epoch: 2 [3125 / 3125]\t train_loss: 8.161\t train_accuracy: 78.9\n",
      "-------- validation --------\n",
      "accuracy: 79.3\n",
      "\n",
      "epoch: 3 [3125 / 3125]\t train_loss: 6.335\t train_accuracy: 80.5\n",
      "-------- validation --------\n",
      "accuracy: 80.2\n",
      "\n",
      "epoch: 4 [3125 / 3125]\t train_loss: 5.271\t train_accuracy: 81.5\n",
      "-------- validation --------\n",
      "accuracy: 81.2\n",
      "\n",
      "epoch: 5 [3125 / 3125]\t train_loss: 4.542\t train_accuracy: 82.2\n",
      "-------- validation --------\n",
      "accuracy: 81.1\n",
      "\n",
      "epoch: 6 [3125 / 3125]\t train_loss: 4.012\t train_accuracy: 82.7\n",
      "-------- validation --------\n",
      "accuracy: 82.0\n",
      "\n",
      "epoch: 7 [3125 / 3125]\t train_loss: 3.590\t train_accuracy: 83.3\n",
      "-------- validation --------\n",
      "accuracy: 82.1\n",
      "\n",
      "epoch: 8 [3125 / 3125]\t train_loss: 3.236\t train_accuracy: 83.7\n",
      "-------- validation --------\n",
      "accuracy: 82.5\n",
      "\n",
      "epoch: 9 [3125 / 3125]\t train_loss: 2.962\t train_accuracy: 83.9\n",
      "-------- validation --------\n",
      "accuracy: 80.4\n",
      "\n",
      "epoch: 10 [3125 / 3125]\t train_loss: 2.722\t train_accuracy: 84.3\n",
      "-------- validation --------\n",
      "accuracy: 83.0\n",
      "\n",
      "-------- test ---------\n",
      "accuracy: 89.8\n",
      "\n",
      "naive model saved\n"
     ]
    }
   ],
   "source": [
    "for epoch in range(1, epochs + 1):\n",
    "    train(model, train_loader, optimizer, criterion, epoch, device)\n",
    "    print('-------- validation --------')\n",
    "    evaluate(model, valid_loader, device)\n",
    "\n",
    "            \n",
    "print('-------- test ---------')\n",
    "evaluate(model, test_loader, device)\n",
    "\n",
    "    \n",
    "# save model\n",
    "ckpt_root = './model_checkpoints'\n",
    "if not os.path.exists(ckpt_root):\n",
    "    os.makedirs(ckpt_root)\n",
    "    \n",
    "torch.save(model.state_dict(), './model_checkpoints/naive_model_final.pt')\n",
    "print('naive model saved')"
   ]
  },
  {
   "cell_type": "markdown",
   "metadata": {},
   "source": [
    "So far, you have built the model in a naive way. However, PyTorch provides a linear module named nn.Linear for your convenience. \n",
    "\n",
    "From now on, build the same model as above using layers module.\n",
    "\n",
    "You can also build model using nn.Sequential()"
   ]
  },
  {
   "cell_type": "code",
   "execution_count": 24,
   "metadata": {},
   "outputs": [
    {
     "data": {
      "text/plain": [
       "Sequential(\n",
       "  (0): Linear(in_features=784, out_features=1024, bias=True)\n",
       "  (1): ReLU()\n",
       "  (2): Linear(in_features=1024, out_features=10, bias=True)\n",
       ")"
      ]
     },
     "execution_count": 24,
     "metadata": {},
     "output_type": "execute_result"
    }
   ],
   "source": [
    "model_layer = nn.Sequential(\n",
    "            # neural network using nn.Linear\n",
    "            nn.Linear(image_size * image_size, nn_hidden),\n",
    "            nn.ReLU(),\n",
    "            nn.Linear(nn_hidden, num_labels)\n",
    "            )\n",
    "\n",
    "model_layer.to(device)"
   ]
  },
  {
   "cell_type": "code",
   "execution_count": 25,
   "metadata": {},
   "outputs": [],
   "source": [
    "criterion_layer = nn.CrossEntropyLoss()\n",
    "optimizer_layer = optim.SGD(model_layer.parameters(), lr=0.005)"
   ]
  },
  {
   "cell_type": "code",
   "execution_count": 26,
   "metadata": {},
   "outputs": [
    {
     "name": "stdout",
     "output_type": "stream",
     "text": [
      "epoch: 1 [3125 / 3125]\t train_loss: 0.881\t train_accuracy: 79.0\n",
      "-------- validation --------\n",
      "accuracy: 82.5\n",
      "\n",
      "epoch: 2 [3125 / 3125]\t train_loss: 0.640\t train_accuracy: 82.8\n",
      "-------- validation --------\n",
      "accuracy: 83.4\n",
      "\n",
      "epoch: 3 [3125 / 3125]\t train_loss: 0.600\t train_accuracy: 83.5\n",
      "-------- validation --------\n",
      "accuracy: 84.0\n",
      "\n",
      "epoch: 4 [3125 / 3125]\t train_loss: 0.572\t train_accuracy: 84.1\n",
      "-------- validation --------\n",
      "accuracy: 84.4\n",
      "\n",
      "epoch: 5 [3125 / 3125]\t train_loss: 0.550\t train_accuracy: 84.5\n",
      "-------- validation --------\n",
      "accuracy: 84.6\n",
      "\n",
      "epoch: 6 [3125 / 3125]\t train_loss: 0.531\t train_accuracy: 85.0\n",
      "-------- validation --------\n",
      "accuracy: 85.0\n",
      "\n",
      "epoch: 7 [3125 / 3125]\t train_loss: 0.516\t train_accuracy: 85.3\n",
      "-------- validation --------\n",
      "accuracy: 85.3\n",
      "\n",
      "epoch: 8 [3125 / 3125]\t train_loss: 0.502\t train_accuracy: 85.6\n",
      "-------- validation --------\n",
      "accuracy: 85.7\n",
      "\n",
      "epoch: 9 [3125 / 3125]\t train_loss: 0.490\t train_accuracy: 85.9\n",
      "-------- validation --------\n",
      "accuracy: 86.0\n",
      "\n",
      "epoch: 10 [3125 / 3125]\t train_loss: 0.479\t train_accuracy: 86.2\n",
      "-------- validation --------\n",
      "accuracy: 86.3\n",
      "\n",
      "-------- test ---------\n",
      "accuracy: 92.3\n",
      "\n",
      "layer_model saved\n"
     ]
    }
   ],
   "source": [
    "for epoch in range(1, epochs + 1):\n",
    "    train(model_layer, train_loader, optimizer_layer, criterion_layer, epoch, device)\n",
    "    print('-------- validation --------')\n",
    "    evaluate(model_layer, valid_loader, device)\n",
    "\n",
    "            \n",
    "print('-------- test ---------')\n",
    "evaluate(model_layer, test_loader, device)\n",
    "\n",
    "    \n",
    "# save model\n",
    "torch.save(model_layer.state_dict(), './model_checkpoints/layer_model_final.pt')\n",
    "print('layer_model saved')"
   ]
  },
  {
   "cell_type": "markdown",
   "metadata": {},
   "source": [
    "---\n",
    "Problem 1\n",
    "-------\n",
    "\n",
    "**Describe below** why there is a difference in an accuracy between the model using nn.Linear and the model which is built in a naive way. **explain simply**  \n",
    "You can refer to PyTorch documentation(https://pytorch.org/docs/stable/index.html) to check the implementation of nn.Linear()\n",
    "\n",
    "\n",
    "\n",
    "\n",
    "\n",
    "---"
   ]
  },
  {
   "cell_type": "markdown",
   "metadata": {},
   "source": [
    "Answer: nn.Linear initializes weights and biases differently from the naive linear model. While the naive model used $\\mathcal{u}(-1.0,1.10)$ for initializing weights and zeros for biases, nn.Linear uses $\\mathcal{u}(-\\sqrt{k},\\sqrt{k})$ for initializing both weights and biases, where $k=\\frac{1}{input features}$."
   ]
  },
  {
   "cell_type": "markdown",
   "metadata": {
    "colab_type": "text",
    "id": "7omWxtvLLxik",
    "tags": []
   },
   "source": [
    "---\n",
    "Problem 2\n",
    "-------\n",
    "\n",
    "Try to get the best performance you can using a multi-layer model! (It doesn't matter whether you implement it in a naive way or using layer module. HOWEVER, you CANNOT use other type of layers such as conv.) \n",
    "\n",
    "You may use techniques below.\n",
    "\n",
    "1. Experiment with different hyperparameters: epochs, learning rate, etc.\n",
    "2. We used a fixed learning rate epsilon for gradient descent. Implement an annealing schedule for the gradient descent learning rate ([more info](http://cs231n.github.io/neural-networks-3/#anneal)). *Hint*. Try using `torch.optim.lr_scheduler.ExponentialLR()`.    \n",
    "4. Extend the network to multiple hidden layers. Experiment with the layer sizes. Adding another hidden layer means you will need to adjust the code. \n",
    "5. Introduce and tune regularization method (e.g. L2 regularization) for your model. Remeber that L2 amounts to adding a penalty on the norm of the weights to the loss. The right amount of regularization should imporve your validation / test accuracy.\n",
    "\n",
    "\n",
    "**Evaluation:** You will get full credit if your best test accuracy exceeds <font color=red>$94\\%$</font>.  \n",
    "\n",
    "---"
   ]
  },
  {
   "cell_type": "code",
   "execution_count": 27,
   "metadata": {},
   "outputs": [
    {
     "data": {
      "text/plain": [
       "' TODO '"
      ]
     },
     "execution_count": 27,
     "metadata": {},
     "output_type": "execute_result"
    }
   ],
   "source": [
    "\"\"\" TODO \"\"\""
   ]
  },
  {
   "cell_type": "code",
   "execution_count": 28,
   "metadata": {},
   "outputs": [],
   "source": [
    "# Implement a better model - uses more hidden layers and dropout.\n",
    "class BetterModel(nn.Module):\n",
    "    \n",
    "    def __init__(self, input_size, hidden_size1, hidden_size2, num_labels, drop_ratio=0.5):\n",
    "        super(BetterModel, self).__init__()\n",
    "        self.fc1 = nn.Linear(input_size, hidden_size1)\n",
    "        self.fc2 = nn.Linear(hidden_size1, hidden_size2)\n",
    "        self.fc3 = nn.Linear(hidden_size2, num_labels)\n",
    "        self.dropout = nn.Dropout(p=drop_ratio)\n",
    "        self.relu = nn.ReLU()\n",
    "        \n",
    "    def forward(self, x):\n",
    "        x = self.relu(self.fc1(x))\n",
    "        x = self.dropout(x)\n",
    "        x = self.relu(self.fc2(x))\n",
    "        x = self.fc3(x)\n",
    "        return x"
   ]
  },
  {
   "cell_type": "code",
   "execution_count": 29,
   "metadata": {},
   "outputs": [
    {
     "name": "stdout",
     "output_type": "stream",
     "text": [
      "epoch: 1 [3125 / 3125]\t train_loss: 0.537\t train_accuracy: 83.9\n",
      "-------- validation --------\n",
      "accuracy: 87.0\n",
      "\n",
      "epoch: 2 [3125 / 3125]\t train_loss: 0.438\t train_accuracy: 86.7\n",
      "-------- validation --------\n",
      "accuracy: 88.8\n",
      "\n",
      "epoch: 3 [3125 / 3125]\t train_loss: 0.399\t train_accuracy: 87.8\n",
      "-------- validation --------\n",
      "accuracy: 89.0\n",
      "\n",
      "epoch: 4 [3125 / 3125]\t train_loss: 0.373\t train_accuracy: 88.4\n",
      "-------- validation --------\n",
      "accuracy: 89.5\n",
      "\n",
      "epoch: 5 [3125 / 3125]\t train_loss: 0.353\t train_accuracy: 89.0\n",
      "-------- validation --------\n",
      "accuracy: 90.0\n",
      "\n",
      "epoch: 6 [3125 / 3125]\t train_loss: 0.337\t train_accuracy: 89.4\n",
      "-------- validation --------\n",
      "accuracy: 90.2\n",
      "\n",
      "epoch: 7 [3125 / 3125]\t train_loss: 0.322\t train_accuracy: 89.9\n",
      "-------- validation --------\n",
      "accuracy: 90.4\n",
      "\n",
      "epoch: 8 [3125 / 3125]\t train_loss: 0.308\t train_accuracy: 90.3\n",
      "-------- validation --------\n",
      "accuracy: 90.6\n",
      "\n",
      "epoch: 9 [3125 / 3125]\t train_loss: 0.295\t train_accuracy: 90.7\n",
      "-------- validation --------\n",
      "accuracy: 91.0\n",
      "\n",
      "epoch: 10 [3125 / 3125]\t train_loss: 0.286\t train_accuracy: 90.8\n",
      "-------- validation --------\n",
      "accuracy: 91.2\n",
      "\n",
      "epoch: 11 [3125 / 3125]\t train_loss: 0.275\t train_accuracy: 91.2\n",
      "-------- validation --------\n",
      "accuracy: 91.2\n",
      "\n",
      "epoch: 12 [3125 / 3125]\t train_loss: 0.264\t train_accuracy: 91.5\n",
      "-------- validation --------\n",
      "accuracy: 91.3\n",
      "\n",
      "epoch: 13 [3125 / 3125]\t train_loss: 0.256\t train_accuracy: 91.8\n",
      "-------- validation --------\n",
      "accuracy: 91.4\n",
      "\n",
      "epoch: 14 [3125 / 3125]\t train_loss: 0.246\t train_accuracy: 92.1\n",
      "-------- validation --------\n",
      "accuracy: 91.6\n",
      "\n",
      "epoch: 15 [3125 / 3125]\t train_loss: 0.239\t train_accuracy: 92.3\n",
      "-------- validation --------\n",
      "accuracy: 91.7\n",
      "\n",
      "epoch: 16 [3125 / 3125]\t train_loss: 0.231\t train_accuracy: 92.6\n",
      "-------- validation --------\n",
      "accuracy: 91.6\n",
      "\n",
      "epoch: 17 [3125 / 3125]\t train_loss: 0.226\t train_accuracy: 92.7\n",
      "-------- validation --------\n",
      "accuracy: 91.8\n",
      "\n",
      "epoch: 18 [3125 / 3125]\t train_loss: 0.220\t train_accuracy: 92.9\n",
      "-------- validation --------\n",
      "accuracy: 91.9\n",
      "\n",
      "epoch: 19 [3125 / 3125]\t train_loss: 0.214\t train_accuracy: 93.1\n",
      "-------- validation --------\n",
      "accuracy: 92.0\n",
      "\n",
      "epoch: 20 [3125 / 3125]\t train_loss: 0.208\t train_accuracy: 93.2\n",
      "-------- validation --------\n",
      "accuracy: 91.9\n",
      "\n",
      "-------- test ---------\n",
      "accuracy: 96.6\n",
      "\n",
      "Better model saved\n"
     ]
    }
   ],
   "source": [
    "# Model initialization - used hidden_size2 of 512\n",
    "input_size = image_size * image_size\n",
    "hidden_size1 = 1024\n",
    "hidden_size2 = 512\n",
    "model = BetterModel(input_size, hidden_size1, hidden_size2, num_labels)\n",
    "\n",
    "# Move model to device\n",
    "model.to(device)\n",
    "\n",
    "# Loss function and Adam optimizer with decaying learning rate\n",
    "criterion = nn.CrossEntropyLoss()\n",
    "optimizer = optim.Adam(model.parameters(), lr=0.001, weight_decay=1e-5)\n",
    "scheduler = optim.lr_scheduler.ExponentialLR(optimizer, gamma=0.9)\n",
    "\n",
    "# Training loop with learning rate scheduling\n",
    "epochs = 20\n",
    "for epoch in range(1, epochs + 1):\n",
    "    train(model, train_loader, optimizer, criterion, epoch, device)\n",
    "    print('-------- validation --------')\n",
    "    evaluate(model, valid_loader, device)\n",
    "    scheduler.step()\n",
    "\n",
    "print('-------- test ---------')\n",
    "evaluate(model, test_loader, device)\n",
    "\n",
    "# Save the model\n",
    "torch.save(model.state_dict(), './model_checkpoints/better_model.pt')\n",
    "print('Better model saved')"
   ]
  }
 ],
 "metadata": {
  "colab": {
   "default_view": {},
   "name": "2_fullyconnected.ipynb",
   "provenance": [],
   "version": "0.3.2",
   "views": {}
  },
  "kernelspec": {
   "display_name": "deep-learning-24-windows",
   "language": "python",
   "name": "python3"
  },
  "language_info": {
   "codemirror_mode": {
    "name": "ipython",
    "version": 3
   },
   "file_extension": ".py",
   "mimetype": "text/x-python",
   "name": "python",
   "nbconvert_exporter": "python",
   "pygments_lexer": "ipython3",
   "version": "3.10.14"
  }
 },
 "nbformat": 4,
 "nbformat_minor": 4
}
