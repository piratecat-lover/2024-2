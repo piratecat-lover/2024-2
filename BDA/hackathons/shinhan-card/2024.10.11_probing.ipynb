{
 "cells": [
  {
   "cell_type": "markdown",
   "metadata": {},
   "source": [
    "# Dataset Description - User Info\n",
    "\n",
    "'pk1': Date data (2310, 2401, 2404, 2407)\n",
    "\n",
    "'pk2': Gender data (1 for male, 0 for female)\n",
    "\n",
    "'pk3': Age data (1.0 - 10.0 for early 20s to early 60s)\n",
    "\n",
    "'pk4': County data (categorical)\n",
    "\n",
    "'pk5': City data (categorical)"
   ]
  },
  {
   "cell_type": "markdown",
   "metadata": {},
   "source": [
    "# 'ca': Overall\n",
    "'ca01': average expenses"
   ]
  },
  {
   "cell_type": "markdown",
   "metadata": {},
   "source": [
    "# 'cb': Consumer Products\n",
    "\n",
    "'cb01': average department store expenses\n",
    "\n",
    "'cb02': average supermarket expenses\n",
    "\n",
    "'cb03': average convenience store expenses\n",
    "\n",
    "'cb04': average e-commerce expenses\n",
    "\n",
    "'cb05': average duty-free expenses\n",
    "\n",
    "'cb06': average clothing expenses\n",
    "\n",
    "'cb07': average cosmetics expenses\n",
    "\n",
    "'cb08': average electronics expenses\n",
    "\n",
    "'cb09': average daily equipment expenses\n"
   ]
  },
  {
   "cell_type": "markdown",
   "metadata": {},
   "source": [
    "# 'cc': Food\n",
    "'cc01': average restaurant expenses\n",
    "\n",
    "'cc02': average high-end cafe expenses\n",
    "\n",
    "'cc03': average low-end coffeehouse expenses\n",
    "\n",
    "'cc04': average proprietary delivery expenses\n"
   ]
  },
  {
   "cell_type": "markdown",
   "metadata": {},
   "source": [
    "# 'cd': Daily Services\n",
    "\n",
    "'cd01': average long-distance bus expenses\n",
    "\n",
    "'cd02': average taxi expenses\n",
    "\n",
    "'cd03': average flight expenses\n",
    "\n",
    "'cd04': average train expenses\n",
    "\n",
    "'cd05': average cruise ship expenses\n",
    "\n",
    "'cd06': average phone expenses\n",
    "\n",
    "'cd07': average bookstore expenses\n",
    "\n",
    "'cd08': average glasses expenses\n",
    "\n",
    "'cd09': average laundry expenses\n",
    "\n",
    "'cd10': average beauty salon expenses\n",
    "\n",
    "'cd11': average rental car expenses\n",
    "\n",
    "'cd12': average gas station expenses\n",
    "\n",
    "'cd13': average LPG gas expenses\n",
    "\n",
    "'cd14': average electric car expenses\n"
   ]
  },
  {
   "cell_type": "markdown",
   "metadata": {
    "vscode": {
     "languageId": "plaintext"
    }
   },
   "source": [
    "# 'ce': Professional Services\n",
    "'ce01': average private education expenses\n",
    "\n",
    "'ce02': average hospital expenses\n",
    "\n",
    "'ce03': average dentist expenses\n",
    "\n",
    "'ce04': average pharmacy expenses\n",
    "\n",
    "'ce05': average wedding hall expenses\n",
    "\n",
    "'ce06': average funeral expenses\n",
    "\n",
    "'ce07': average life insurance expenses\n",
    "\n",
    "'ce08': average donation expenses\n"
   ]
  },
  {
   "cell_type": "markdown",
   "metadata": {
    "vscode": {
     "languageId": "plaintext"
    }
   },
   "source": [
    "# 'cf': Culture and Leisure\n",
    "'cf01': average premium hotel expenses\n",
    "\n",
    "'cf02': average hotel expenses\n",
    "\n",
    "'cf03': average travel agency expenses\n",
    "\n",
    "'cf04': average fitness center expenses\n",
    "\n",
    "'cf05': average swimming pool expenses\n",
    "\n",
    "'cf06': average billiards club expenses\n",
    "\n",
    "'cf07': average outdoor golf course expenses\n",
    "\n",
    "'cf08': average screen golf expenses\n",
    "\n",
    "'cf09': average tennis court expenses\n",
    "\n",
    "'cf10': average bowling parlor expenses\n",
    "\n",
    "'cf11': average amusement park expenses\n",
    "\n",
    "'cf12': average bike expenses\n",
    "\n",
    "'cf13': average sports equipment expenses\n",
    "\n",
    "'cf14': average artwork expenses\n",
    "\n",
    "'cf15': average florist expenses\n",
    "\n",
    "'cf16': average aquarium expenses\n",
    "\n",
    "'cf17': average pc cafe expenses\n"
   ]
  },
  {
   "cell_type": "code",
   "execution_count": null,
   "metadata": {},
   "outputs": [],
   "source": [
    "import pandas as pd\n",
    "import numpy as np\n",
    "import matplotlib.pyplot as plt\n",
    "import seaborn as sns\n",
    "\n",
    "from sklearn.preprocessing import LabelEncoder, OrdinalEncoder"
   ]
  },
  {
   "cell_type": "code",
   "execution_count": null,
   "metadata": {},
   "outputs": [],
   "source": [
    "raw_data = pd.read_csv('./card_data_cleaned.csv')\n",
    "\n",
    "raw_data.head()"
   ]
  },
  {
   "cell_type": "code",
   "execution_count": null,
   "metadata": {},
   "outputs": [],
   "source": [
    "raw_data.dtypes[:6]"
   ]
  },
  {
   "cell_type": "code",
   "execution_count": null,
   "metadata": {},
   "outputs": [],
   "source": [
    "labEn = LabelEncoder()\n",
    "\n",
    "raw_data['gender'] = labEn.fit_transform(raw_data['gender'])\n",
    "raw_data['region_county'] = labEn.fit_transform(raw_data['region_county'])\n",
    "raw_data['region_city'] = labEn.fit_transform(raw_data['region_city'])\n",
    "\n",
    "raw_data.dtypes[:6]"
   ]
  },
  {
   "cell_type": "code",
   "execution_count": null,
   "metadata": {},
   "outputs": [],
   "source": [
    "raw_data_corr = raw_data.corr()\n",
    "features = raw_data.columns.tolist()[:6]\n",
    "labels = raw_data.columns.tolist()[6:]\n",
    "corrs_target = abs(raw_data_corr[labels][:6])\n",
    "rel_features = corrs_target[corrs_target>0.1]"
   ]
  },
  {
   "cell_type": "code",
   "execution_count": null,
   "metadata": {},
   "outputs": [],
   "source": [
    "print(corrs_target)"
   ]
  },
  {
   "cell_type": "code",
   "execution_count": null,
   "metadata": {},
   "outputs": [],
   "source": [
    "print(corrs_target.idxmax())"
   ]
  },
  {
   "cell_type": "code",
   "execution_count": null,
   "metadata": {},
   "outputs": [],
   "source": [
    "# print only the features with the highest correlation with the target and their values\n",
    "\n",
    "for label in labels:\n",
    "    print(raw_data_corr[label][:6].nlargest(2))\n",
    "    print(corrs_target[label].nlargest(2))"
   ]
  },
  {
   "cell_type": "code",
   "execution_count": null,
   "metadata": {},
   "outputs": [],
   "source": [
    "corrs_target[corrs_target > 0.5]"
   ]
  },
  {
   "cell_type": "code",
   "execution_count": null,
   "metadata": {},
   "outputs": [],
   "source": [
    "# print only features with correlation over 0.5 with target labels\n",
    "best_features_df = corrs_target[corrs_target > 0.5]\n",
    "\n",
    "# Delete columns with only NaN values\n",
    "\n",
    "for col in best_features_df.columns.tolist():\n",
    "    if best_features_df[col].isnull().all():\n",
    "        best_features_df = best_features_df.drop(columns=[col])"
   ]
  },
  {
   "cell_type": "code",
   "execution_count": null,
   "metadata": {},
   "outputs": [],
   "source": [
    "new_cols = [\"총소비\", \"편의점\", \"요식\", \"고가 커피\", \"저가 커피\", \"배달앱\", \"택시\", \"주유소\", \"약국\", \"OTT\"]\n",
    "cols = best_features_df.columns.tolist()\n",
    "\n",
    "cols_dict = dict(zip(cols, new_cols))\n",
    "best_features_df.rename(columns = cols_dict, inplace = True)"
   ]
  },
  {
   "cell_type": "code",
   "execution_count": null,
   "metadata": {},
   "outputs": [],
   "source": [
    "best_features_df"
   ]
  },
  {
   "cell_type": "markdown",
   "metadata": {},
   "source": [
    "## 나이\n",
    "cb03_tot: 편의점\n",
    "\n",
    "cc02_tot: 대형 고가커피\n",
    "\n",
    "cc03_tot: 소형 커피\n",
    "\n",
    "cc04_tot: 배달 앱\n",
    "\n",
    "cd02_tot: 택시\n",
    "\n",
    "ce04_tot: 약국\n",
    "\n",
    "cf18_tot: OTT\n",
    "\n",
    "## 성별\n",
    "cbo3_tot: 편의점\n",
    "\n",
    "cc01_tot: 식당\n",
    "\n",
    "cd12_tot: 주유소"
   ]
  },
  {
   "cell_type": "code",
   "execution_count": null,
   "metadata": {},
   "outputs": [],
   "source": [
    "from sklearn.cluster import KMeans\n",
    "from sklearn.preprocessing import LabelEncoder, StandardScaler\n",
    "\n",
    "# Optional: Set seaborn style for better aesthetics\n",
    "sns.set(style=\"whitegrid\")"
   ]
  },
  {
   "cell_type": "code",
   "execution_count": null,
   "metadata": {},
   "outputs": [],
   "source": [
    "card_data_truncated = raw_data[['age', 'gender', 'cb03_tot', 'cc01_tot','cc02_tot','cc03_tot','cc04_tot','cd02_tot','cd12_tot','ce04_tot','cf18_tot']]"
   ]
  },
  {
   "cell_type": "code",
   "execution_count": null,
   "metadata": {},
   "outputs": [],
   "source": [
    "card_data_truncated.head()"
   ]
  },
  {
   "cell_type": "code",
   "execution_count": null,
   "metadata": {},
   "outputs": [],
   "source": [
    "# Encode Gender: 0 -> Female, 1 -> Male\n",
    "card_data_truncated['Gender'] = card_data_truncated['gender'].map({0: 'Female', 1: 'Male'})\n",
    "\n",
    "# Define age bins and labels\n",
    "age_bins = [-0.5, 0.5, 1.5, 2.5, 3.5, 4.5, 5.5, 6.5, 7.5, 8.5, 9.5]\n",
    "age_labels = ['Early 20s', 'Late 20s', 'Early 30s', 'Late 30s', 'Early 40s','Late 40s', 'Early 50s','Late 50s', 'Early 60s','Late 60s+']\n",
    "\n",
    "# Encode Age Groups based on pk3\n",
    "card_data_truncated['Age_Group'] = pd.cut(card_data_truncated['age'], bins=age_bins, labels=age_labels, right=False)\n",
    "\n",
    "# Display the updated DataFrame\n",
    "print(card_data_truncated[['gender', 'Gender', 'age', 'Age_Group']])\n",
    "\n",
    "# Correlation Matrix Visualization\n",
    "corr_features = ['gender', 'age', 'cb03_tot', 'cc02_tot', 'cc03_tot', 'cc04_tot', \n",
    "                'cd02_tot', 'ce04_tot', 'cf18_tot', 'cc01_tot', 'cd12_tot']\n",
    "corr_matrix = card_data_truncated[corr_features].corr()\n",
    "\n",
    "plt.figure(figsize=(10,8))\n",
    "sns.heatmap(corr_matrix, annot=True, cmap='coolwarm')\n",
    "plt.title('Correlation Matrix')\n",
    "plt.show()\n",
    "\n",
    "# Box Plots for Age Groups vs Spending Categories\n",
    "age_spend_vars = ['cb03_tot', 'cc02_tot', 'cc03_tot', 'cc04_tot', 'cd02_tot', 'ce04_tot', 'cf18_tot']\n",
    "for var in age_spend_vars:\n",
    "    plt.figure(figsize=(8,6))\n",
    "    sns.boxplot(x='Age_Group', y=var, data=card_data_truncated, palette='Set3')\n",
    "    plt.title(f'Age Group vs {var}')\n",
    "    plt.xlabel('Age Group')\n",
    "    plt.ylabel('Total Percentage of Expenses')\n",
    "    plt.show()\n",
    "\n",
    "# Box Plots for Gender vs Spending Categories\n",
    "gender_spend_vars = ['cb03_tot', 'cc01_tot', 'cd12_tot']\n",
    "for var in gender_spend_vars:\n",
    "    plt.figure(figsize=(6,4))\n",
    "    sns.boxplot(x='Gender', y=var, data=card_data_truncated, palette='Set2')\n",
    "    plt.title(f'Gender vs {var}')\n",
    "    plt.xlabel('Gender')\n",
    "    plt.ylabel('Total Percentage of Expenses')\n",
    "    plt.show()\n",
    "\n",
    "# Encode categorical features for clustering\n",
    "le_gender = LabelEncoder()\n",
    "card_data_truncated['Gender_Encoded'] = le_gender.fit_transform(card_data_truncated['Gender'])\n",
    "\n",
    "le_age = LabelEncoder()\n",
    "card_data_truncated['Age_Group_Encoded'] = le_age.fit_transform(card_data_truncated['Age_Group'])\n",
    "\n",
    "# Select features for clustering\n",
    "clustering_features = ['Gender_Encoded', 'Age_Group_Encoded']\n",
    "X_cluster = card_data_truncated[clustering_features]\n",
    "\n",
    "# Standardize the features\n",
    "scaler = StandardScaler()\n",
    "X_scaled = scaler.fit_transform(X_cluster)\n",
    "\n",
    "# Determine optimal number of clusters using Elbow Method\n",
    "inertia = []\n",
    "K = range(1,10)\n",
    "for k in K:\n",
    "    kmeans = KMeans(n_clusters=k, random_state=42)\n",
    "    kmeans.fit(X_scaled)\n",
    "    inertia.append(kmeans.inertia_)\n",
    "\n",
    "plt.figure(figsize=(8,5))\n",
    "plt.plot(K, inertia, 'bo-')\n",
    "plt.xlabel('Number of Clusters (k)')\n",
    "plt.ylabel('Inertia')\n",
    "plt.title('Elbow Method for Optimal k')\n",
    "plt.show()\n",
    "\n",
    "# Choose k (e.g., 3 based on Elbow Method)\n",
    "k = 3\n",
    "kmeans = KMeans(n_clusters=k, random_state=42)\n",
    "clusters = kmeans.fit_predict(X_scaled)\n",
    "card_data_truncated['Cluster'] = clusters\n",
    "\n",
    "# Scatter Plot of Age vs Gender colored by Cluster\n",
    "plt.figure(figsize=(8,6))\n",
    "sns.scatterplot(x='age', y='Gender_Encoded', hue='Cluster', data=card_data_truncated, palette='Set1', s=100)\n",
    "plt.title('Clustering Based on Gender and Age')\n",
    "plt.xlabel('Age')\n",
    "plt.ylabel('Gender (0: Female, 1: Male)')\n",
    "plt.legend(title='Cluster')\n",
    "plt.show()\n",
    "\n",
    "# Pair Plot to Explore Cluster Characteristics\n",
    "sns.pairplot(card_data_truncated, vars=['age', 'Gender_Encoded'], hue='Cluster', palette='Set2')\n",
    "plt.suptitle('Pair Plot of Age and Gender Colored by Cluster', y=1.02)\n",
    "plt.show()\n",
    "\n",
    "# Display cluster counts\n",
    "print(card_data_truncated['Cluster'].value_counts())"
   ]
  }
 ],
 "metadata": {
  "language_info": {
   "name": "python"
  }
 },
 "nbformat": 4,
 "nbformat_minor": 2
}
