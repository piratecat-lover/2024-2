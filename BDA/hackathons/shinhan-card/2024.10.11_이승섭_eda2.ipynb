{
 "cells": [
  {
   "cell_type": "code",
   "execution_count": null,
   "metadata": {},
   "outputs": [],
   "source": [
    "# Import required libraries\n",
    "import pandas as pd\n",
    "import numpy as np\n",
    "import matplotlib.pyplot as plt\n",
    "import seaborn as sns\n",
    "\n",
    "from sklearn.preprocessing import OrdinalEncoder, LabelEncoder\n",
    "# from sklearn."
   ]
  },
  {
   "cell_type": "code",
   "execution_count": null,
   "metadata": {},
   "outputs": [],
   "source": [
    "raw_data = pd.read_csv('card_data_consume.csv')\n",
    "# raw_data.drop(columns = raw_data.columns[0], axis = 1, inplace = True)\n",
    "raw_data = raw_data.drop(columns=['ca', 'cb', 'cc', 'cd', 'ce', 'cf'], errors = \"ignore\")\n",
    "cols = raw_data.columns.tolist()\n",
    "cols = cols[-1:] + cols[:-1]\n",
    "cols[0:5] = [*cols[1:5], cols[0]]\n",
    "\n",
    "raw_data = raw_data[cols]\n",
    "raw_data.head(10)"
   ]
  },
  {
   "cell_type": "code",
   "execution_count": null,
   "metadata": {},
   "outputs": [],
   "source": [
    "# Divide pk1 from 2407 to 24 and 07 and assign it to pk1 and pk6\n",
    "\n",
    "raw_data['pk1'] = raw_data['pk1'].astype(str)\n",
    "raw_data['pk6'] = raw_data['pk1'].str[2:]\n",
    "raw_data['pk1'] = raw_data['pk1'].str[:2]\n",
    "raw_data.head(10)"
   ]
  },
  {
   "cell_type": "code",
   "execution_count": null,
   "metadata": {},
   "outputs": [],
   "source": [
    "# Move pk6 to the second column\n",
    "cols = raw_data.columns.tolist()\n",
    "cols = cols[:1] + cols[-1:] + cols[1:-1]\n",
    "raw_data = raw_data[cols]\n",
    "raw_data.head(10)"
   ]
  },
  {
   "cell_type": "code",
   "execution_count": null,
   "metadata": {},
   "outputs": [],
   "source": [
    "# Rename pk1 to year, pk6 to month, pk2 to gender, pk3 to age, pk4 to region_county, pk5 to region_city\n",
    "\n",
    "raw_data = raw_data.rename(columns={'pk1': 'year', 'pk6': 'month', 'pk2': 'gender', 'pk3': 'age', 'pk4': 'region_county', 'pk5': 'region_city'})\n",
    "\n",
    "# Switch region_city and region_country column positions\n",
    "cols = raw_data.columns.tolist()\n",
    "cols = cols[:4] + cols[5:6] + cols[4:5]+cols[6:]\n",
    "raw_data = raw_data[cols]\n",
    "raw_data.head(100)\n",
    "raw_data = raw_data[cols]\n",
    "raw_data.head(10)"
   ]
  },
  {
   "cell_type": "code",
   "execution_count": null,
   "metadata": {},
   "outputs": [],
   "source": [
    "raw_data.to_csv('./card_data_cleaned.csv', index = False)"
   ]
  }
 ],
 "metadata": {
  "language_info": {
   "name": "python"
  }
 },
 "nbformat": 4,
 "nbformat_minor": 2
}
