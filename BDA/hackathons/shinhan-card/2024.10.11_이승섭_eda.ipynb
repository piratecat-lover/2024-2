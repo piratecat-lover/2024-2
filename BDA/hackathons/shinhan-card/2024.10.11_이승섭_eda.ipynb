{
 "cells": [
  {
   "cell_type": "code",
   "execution_count": null,
   "metadata": {},
   "outputs": [],
   "source": [
    "import pandas as pd\n",
    "import numpy as np\n",
    "import seaborn as sns\n",
    "import matplotlib.pyplot as plt\n",
    "import re\n",
    "\n",
    "from sklearn.preprocessing import OrdinalEncoder, LabelEncoder"
   ]
  },
  {
   "cell_type": "code",
   "execution_count": null,
   "metadata": {},
   "outputs": [],
   "source": [
    "raw_data = pd.read_csv(\"./data/dat.csv\")\n",
    "\n",
    "raw_data.info()"
   ]
  },
  {
   "cell_type": "code",
   "execution_count": null,
   "metadata": {},
   "outputs": [],
   "source": [
    "print(raw_data.columns)"
   ]
  },
  {
   "cell_type": "code",
   "execution_count": null,
   "metadata": {},
   "outputs": [],
   "source": [
    "card_data = raw_data.filter(regex='pk|^c').copy()\n",
    "card_data.dropna()\n",
    "card_data.head()"
   ]
  },
  {
   "cell_type": "code",
   "execution_count": null,
   "metadata": {},
   "outputs": [],
   "source": [
    "card_data['pk3'] = card_data['pk3'].str.replace('s', 'a')\n",
    "card_data['pk3'].unique()"
   ]
  },
  {
   "cell_type": "code",
   "execution_count": null,
   "metadata": {},
   "outputs": [],
   "source": [
    "# from sklearn.preprocessing import LabelEncoder\n",
    "\n",
    "c_col = card_data.select_dtypes(include='object')\n",
    "\n",
    "# en = LabelEncoder()\n",
    "ord = OrdinalEncoder()\n",
    "for col in c_col:\n",
    "    card_data[col] = ord.fit_transform(card_data[[col]])\n",
    "\n",
    "card_data.head()"
   ]
  },
  {
   "cell_type": "code",
   "execution_count": null,
   "metadata": {},
   "outputs": [],
   "source": [
    "from collections import defaultdict\n",
    "\n",
    "m_cols = card_data.filter(regex=r'^c[a-f]\\d{2}m$').columns.tolist()\n",
    "r_cols = card_data.filter(regex=r'^c[a-f]\\d{2}r$').columns.tolist()\n",
    "\n",
    "def extract_type(col_name):\n",
    "    match = re.match(r'^(c[a-f])\\d{2}[mr]$', col_name)\n",
    "    if match:\n",
    "        return match.group(1)\n",
    "    else:\n",
    "        return None\n",
    "\n",
    "types_m = [extract_type(col) for col in m_cols]\n",
    "types_r = [extract_type(col) for col in r_cols]\n",
    "\n",
    "type_dict = defaultdict(lambda: {'m': [], 'r': []})\n",
    "for col, t in zip(m_cols, types_m):\n",
    "    if t:\n",
    "        type_dict[t]['m'].append(col)\n",
    "for col, t in zip(r_cols, types_r):\n",
    "    if t:\n",
    "        type_dict[t]['r'].append(col)\n",
    "\n",
    "for t in type_dict:\n",
    "    type_dict[t]['m'].sort(key=lambda x: int(re.search(r'\\d{2}', x).group()))\n",
    "    type_dict[t]['r'].sort(key=lambda x: int(re.search(r'\\d{2}', x).group()))\n",
    "\n",
    "for t, cols in type_dict.items():\n",
    "    m_sorted = cols['m']\n",
    "    r_sorted = cols['r']\n",
    "    min_len = min(len(m_sorted), len(r_sorted))\n",
    "    for i in range(min_len):\n",
    "        m_col = m_sorted[i]\n",
    "        r_col = r_sorted[i]\n",
    "        tot_col = f\"{m_col[:-1]}_tot\"  # Remove 'm' and add '_tot'\n",
    "        card_data[tot_col] = card_data[m_col] * card_data[r_col]\n",
    "    if len(m_sorted) > len(r_sorted):\n",
    "        for m_col in m_sorted[min_len:]:\n",
    "            tot_col = f\"{m_col[:-1]}_tot\"\n",
    "            card_data[tot_col] = np.nan\n",
    "tot_columns = [col for col in card_data.columns if col.endswith('_tot')]\n",
    "\n",
    "\n",
    "\n",
    "print(\"New 'tot' columns created:\")\n",
    "print(tot_columns)\n"
   ]
  },
  {
   "cell_type": "code",
   "execution_count": null,
   "metadata": {},
   "outputs": [],
   "source": [
    "\n",
    "# Display the first few rows of the new 'tot' columns\n",
    "print(\"\\nSample of the new 'tot' columns:\")\n",
    "print(card_data[tot_columns].head())"
   ]
  },
  {
   "cell_type": "code",
   "execution_count": null,
   "metadata": {},
   "outputs": [],
   "source": [
    "# card_data['pk3'].value_counts()\n",
    "\n",
    "card_data_2 = card_data.drop(columns = card_data.filter(regex = r'^c[a-f]\\d{2}m$'))\n",
    "\n",
    "card_data_2 = card_data_2.drop(columns = card_data.filter(regex = r'^c[a-f]\\d{2}r$'))"
   ]
  },
  {
   "cell_type": "code",
   "execution_count": null,
   "metadata": {},
   "outputs": [],
   "source": [
    "card_data_2.head()"
   ]
  },
  {
   "cell_type": "code",
   "execution_count": null,
   "metadata": {},
   "outputs": [],
   "source": [
    "card_data_2.dropna()\n",
    "card_data_2['pk4'] = card_data_2['pk4'].apply(lambda x:x//10000)"
   ]
  },
  {
   "cell_type": "code",
   "execution_count": null,
   "metadata": {},
   "outputs": [],
   "source": [
    "card_data_2['pk5'] = card_data_2['pk4'].apply(lambda x:x//100)\n",
    "card_data_2['pk4'] = card_data_2['pk4'].apply(lambda x:x%100)"
   ]
  },
  {
   "cell_type": "code",
   "execution_count": null,
   "metadata": {},
   "outputs": [],
   "source": [
    "# Convert pk4, pk5 to categorical\n",
    "labEn = LabelEncoder()\n",
    "card_data_2['pk4'] = labEn.fit_transform(card_data_2['pk4'])\n",
    "card_data_2['pk5'] = labEn.fit_transform(card_data_2['pk5'])"
   ]
  },
  {
   "cell_type": "code",
   "execution_count": null,
   "metadata": {},
   "outputs": [],
   "source": [
    "card_data_other = card_data_2[['pk1', 'pk2', 'pk3', 'pk4', 'pk5', 'cg01r', 'cg02r', 'cg03r', 'cg04r', 'cg05r', 'cg06r', 'cg07r']]\n",
    "\n",
    "card_data_consume = card_data_2.drop(columns = ['cg01r', 'cg02r', 'cg03r', 'cg04r', 'cg05r', 'cg06r', 'cg07r'])"
   ]
  },
  {
   "cell_type": "code",
   "execution_count": null,
   "metadata": {},
   "outputs": [],
   "source": [
    "card_data_consume = card_data_consume.dropna()\n",
    "card_data_consume"
   ]
  },
  {
   "cell_type": "code",
   "execution_count": null,
   "metadata": {},
   "outputs": [],
   "source": [
    "card_data_consume.to_csv(\"./card_data_consume.csv\", index = False)"
   ]
  },
  {
   "cell_type": "code",
   "execution_count": null,
   "metadata": {},
   "outputs": [],
   "source": [
    "# Combine into large categories: ca~cf\n",
    "\n",
    "pattern = re.compile(r'^(c[a-f])\\d{2}_tot$')\n",
    "\n",
    "\n",
    "for char in ['a', 'b', 'c', 'd', 'e','f']:\n",
    "    name = f\"c{char}\"\n",
    "    card_data_consume[name]=card_data_consume[f'c{char}01_tot']\n",
    "\n",
    "card_data_consume.head()"
   ]
  },
  {
   "cell_type": "code",
   "execution_count": null,
   "metadata": {},
   "outputs": [],
   "source": [
    "card_data_summed = card_data_consume.copy()\n",
    "\n",
    "for col in card_data_consume.columns:\n",
    "    if pattern.match(col) and str(col)[2:4] != '01':\n",
    "        char = str(col)[1]\n",
    "        card_data_summed[f\"c{char}\"] += card_data_consume[col]\n",
    "\n",
    "card_data_summed.head()"
   ]
  },
  {
   "cell_type": "code",
   "execution_count": null,
   "metadata": {},
   "outputs": [],
   "source": [
    "card_data_summed.drop(columns = [col for col in card_data_consume.columns if pattern.match(col)], inplace = True)"
   ]
  },
  {
   "cell_type": "code",
   "execution_count": null,
   "metadata": {},
   "outputs": [],
   "source": [
    "card_data_summed.isnull().sum()"
   ]
  },
  {
   "cell_type": "code",
   "execution_count": null,
   "metadata": {},
   "outputs": [],
   "source": [
    "card_data_other.isnull().sum()"
   ]
  },
  {
   "cell_type": "code",
   "execution_count": null,
   "metadata": {},
   "outputs": [],
   "source": [
    "card_data_summed = card_data_summed.dropna()"
   ]
  },
  {
   "cell_type": "code",
   "execution_count": null,
   "metadata": {},
   "outputs": [],
   "source": [
    "card_data_other = card_data_other.dropna()"
   ]
  },
  {
   "cell_type": "code",
   "execution_count": null,
   "metadata": {},
   "outputs": [],
   "source": [
    "card_data_summed.isnull().sum()"
   ]
  },
  {
   "cell_type": "code",
   "execution_count": null,
   "metadata": {},
   "outputs": [],
   "source": [
    "card_data_other.isnull().sum()"
   ]
  },
  {
   "cell_type": "code",
   "execution_count": null,
   "metadata": {},
   "outputs": [],
   "source": [
    "new_cols = [\"기준연월\", \"성별\", \"연령대\", \"시/도\", \"구/군\", \"소비\", \"유통소비\", \"음식\", \"생활서비스\", \"전문서비스\", \"문화/레저\"]\n",
    "cols = card_data_summed.columns.tolist()\n",
    "col_dict = dict(zip(cols,new_cols))\n",
    "\n",
    "card_data_summed.rename(columns = col_dict, inplace=True)"
   ]
  },
  {
   "cell_type": "code",
   "execution_count": null,
   "metadata": {},
   "outputs": [],
   "source": [
    "# Set Korean font in matplotlib\n",
    "plt.rcParams['font.family'] = 'NanumGothic'  # Windows\n",
    "# plt.rcParams['font.family'] = 'AppleGothic'  # Mac\n",
    "# plt.rcParams['font.family'] = 'NanumGothic'  # Linux\n",
    "plt.rcParams['axes.unicode_minus'] = False"
   ]
  },
  {
   "cell_type": "code",
   "execution_count": null,
   "metadata": {},
   "outputs": [],
   "source": [
    "sns.heatmap(card_data_summed.corr(), annot = True, fmt = \".1f\")"
   ]
  },
  {
   "cell_type": "code",
   "execution_count": null,
   "metadata": {},
   "outputs": [],
   "source": [
    "sns.heatmap(card_data_other.corr(), annot = True, fmt = \".1f\")"
   ]
  },
  {
   "cell_type": "code",
   "execution_count": null,
   "metadata": {},
   "outputs": [],
   "source": [
    "card_data_summed.to_csv('./card_data_summed.csv', index = False)\n",
    "card_data_other.to_csv('./card_data_other.csv', index = False)"
   ]
  }
 ],
 "metadata": {
  "language_info": {
   "name": "python"
  }
 },
 "nbformat": 4,
 "nbformat_minor": 2
}
