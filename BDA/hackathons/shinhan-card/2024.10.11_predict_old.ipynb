{
 "cells": [
  {
   "cell_type": "code",
   "execution_count": null,
   "metadata": {},
   "outputs": [],
   "source": [
    "import pandas as pd\n",
    "import numpy as np\n",
    "import matplotlib.pyplot as plt\n",
    "import seaborn as sns\n",
    "\n",
    "from sklearn.preprocessing import LabelEncoder, StandardScaler\n",
    "from sklearn.model_selection import train_test_split\n",
    "from sklearn.multioutput import MultiOutputRegressor\n",
    "import xgboost as xgb\n",
    "from sklearn.metrics import mean_absolute_error, mean_squared_error, r2_score\n",
    "from sklearn.cluster import KMeans"
   ]
  },
  {
   "cell_type": "code",
   "execution_count": null,
   "metadata": {},
   "outputs": [],
   "source": [
    "# Load data\n",
    "raw_data = pd.read_csv(\"./card_data_cleaned.csv\")\n",
    "\n",
    "# Change to categorical\n",
    "raw_data['gender'] = raw_data['gender'].astype('category')\n",
    "raw_data['region_city'] = raw_data['region_city'].astype('category')\n",
    "raw_data['region_county'] = raw_data['region_county'].astype('category')\n",
    "\n",
    "\n",
    "# Split into young and old\n",
    "young_data = raw_data[raw_data['age'] < 7].copy()\n",
    "old_data = raw_data[raw_data['age'] > 6].copy()\n",
    "\n",
    "# Drop 'age'\n",
    "young_data.drop(columns=['age'], inplace=True)\n",
    "old_data.drop(columns=['age'], inplace=True)"
   ]
  },
  {
   "cell_type": "code",
   "execution_count": null,
   "metadata": {},
   "outputs": [],
   "source": [
    "young_data.head(10)"
   ]
  },
  {
   "cell_type": "code",
   "execution_count": null,
   "metadata": {},
   "outputs": [],
   "source": [
    "X_young = young_data.drop(columns=['cb03_tot', 'cc02_tot', 'cc03_tot', 'cc04_tot', 'cf18_tot'])\n",
    "y_young = young_data[['cb03_tot', 'cc02_tot', 'cc03_tot', 'cc04_tot', 'cf18_tot']]"
   ]
  },
  {
   "cell_type": "code",
   "execution_count": null,
   "metadata": {},
   "outputs": [],
   "source": [
    "y_young.head(10)"
   ]
  },
  {
   "cell_type": "code",
   "execution_count": null,
   "metadata": {},
   "outputs": [],
   "source": [
    "X_young.head(10)"
   ]
  },
  {
   "cell_type": "code",
   "execution_count": null,
   "metadata": {},
   "outputs": [],
   "source": [
    "X_old = old_data.drop(columns=['cb03_tot', 'cc02_tot', 'cc03_tot', 'cc04_tot', 'cf18_tot'])\n",
    "y_old = old_data[['cb03_tot', 'cc02_tot', 'cc03_tot', 'cc04_tot', 'cf18_tot']]"
   ]
  },
  {
   "cell_type": "code",
   "execution_count": null,
   "metadata": {},
   "outputs": [],
   "source": [
    "# Split young data into train and test\n",
    "X_train, X_test, y_train, y_test = train_test_split(X_young, y_young, test_size=0.2, random_state=42)\n",
    "\n",
    "# Initialize and train XGBoost model\n",
    "xgb_model = xgb.XGBRegressor(n_estimators=1000, max_depth=8, learning_rate=0.05, objective='reg:squarederror', random_state=42, enable_categorical=True, verbosity=0)\n",
    "multi_xgb = MultiOutputRegressor(xgb_model)\n",
    "multi_xgb.fit(X_train, y_train)\n",
    "\n",
    "# Predict on young test data\n",
    "y_pred_test = multi_xgb.predict(X_test)\n",
    "\n",
    "# Evaluate on young test data\n",
    "mae = mean_absolute_error(y_test, y_pred_test)\n",
    "rmse = mean_squared_error(y_test, y_pred_test, squared=False)\n",
    "r2 = r2_score(y_test, y_pred_test)\n",
    "print(f'Young Test MAE: {mae:.4f}')\n",
    "print(f'Young Test RMSE: {rmse:.4f}')\n",
    "print(f'Young Test R²: {r2:.4f}')"
   ]
  },
  {
   "cell_type": "code",
   "execution_count": null,
   "metadata": {},
   "outputs": [],
   "source": [
    "y_test_mean = y_test.mean().mean()\n",
    "\n",
    "print(f\"MAE percentage: {mae/y_test_mean:.4f}\")"
   ]
  },
  {
   "cell_type": "code",
   "execution_count": null,
   "metadata": {},
   "outputs": [],
   "source": [
    "# Predict on old data\n",
    "y_pred_old = multi_xgb.predict(X_old)\n",
    "\n",
    "# Evaluate on old data\n",
    "mae_old = mean_absolute_error(y_old, y_pred_old)\n",
    "rmse_old = mean_squared_error(y_old, y_pred_old, squared=False)\n",
    "r2_old = r2_score(y_old, y_pred_old)\n",
    "print(f'Old Data MAE: {mae_old:.4f}')\n",
    "print(f'Old Data RMSE: {rmse_old:.4f}')\n",
    "print(f'Old Data R²: {r2_old:.4f}')"
   ]
  },
  {
   "cell_type": "code",
   "execution_count": null,
   "metadata": {},
   "outputs": [],
   "source": [
    "y_old_mean = y_old.mean().mean()\n",
    "\n",
    "print(f\"MAE percentage: {mae_old/y_old_mean:.4f}\")"
   ]
  },
  {
   "cell_type": "code",
   "execution_count": null,
   "metadata": {},
   "outputs": [],
   "source": [
    "# Compute differences\n",
    "y_pred_old_df = pd.DataFrame(y_pred_old, columns=y_old.columns, index=y_old.index)\n",
    "old_diff = y_old - y_pred_old_df\n",
    "\n",
    "# Count negative entries\n",
    "negative_count = (old_diff < 0).sum().sum()\n",
    "print(f'Number of negative entries in old_diff: {negative_count}')\n",
    "print(f'Percentage of negative entries in old_diff: {negative_count / old_diff.size:.4f}')"
   ]
  },
  {
   "cell_type": "code",
   "execution_count": null,
   "metadata": {},
   "outputs": [],
   "source": [
    "# Feature Importances\n",
    "importances = pd.DataFrame()\n",
    "target_vars  = ['cb03_tot', 'cc02_tot', 'cc03_tot', 'cc04_tot', 'cf18_tot']\n",
    "for i, target in enumerate(target_vars):\n",
    "    importances[target] = multi_xgb.estimators_[i].feature_importances_\n",
    "\n",
    "importances['Average'] = importances.mean(axis=1)\n",
    "importances = importances.sort_values('Average', ascending=False)\n",
    "\n",
    "# Plot feature importances\n",
    "plt.figure(figsize=(10,6))\n",
    "sns.barplot(x=importances.index, y=importances['Average'],  palette='viridis')\n",
    "plt.title('Feature Importances (Average across Targets)')\n",
    "plt.xlabel('Average Importance')\n",
    "plt.ylabel('Features')\n",
    "plt.tight_layout()\n",
    "plt.show()"
   ]
  },
  {
   "cell_type": "code",
   "execution_count": null,
   "metadata": {},
   "outputs": [],
   "source": [
    "# List most important features\n",
    "print(importances[:5])\n",
    "\n",
    "X_old.columns.tolist()[53]"
   ]
  }
 ],
 "metadata": {
  "language_info": {
   "name": "python"
  }
 },
 "nbformat": 4,
 "nbformat_minor": 2
}
