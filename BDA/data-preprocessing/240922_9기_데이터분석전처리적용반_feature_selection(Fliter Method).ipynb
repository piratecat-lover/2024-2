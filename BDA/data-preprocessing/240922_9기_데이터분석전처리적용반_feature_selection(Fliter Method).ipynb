{
 "cells": [
  {
   "cell_type": "markdown",
   "id": "00f66ae6",
   "metadata": {},
   "source": [
    "## Feature_Selection\n",
    "- Feature_selection (특성에 대한 선택) 피처선택\n",
    "    - ML에서 모델 입력 변수 중 가장 중요한 변수를 선택해서 모델의 성능을 최적화\n",
    "    - 불필요한 데이터를 제거하는 경우\n",
    "    - 데이터 분석을 진행시 중요한 피처들을 확인할 수 있다.\n",
    "    \n",
    "- Machine Learning 관점에서 ?\n",
    "    - 피처가 중요한 이유는 ML 데이터 기반 학습 ->input 당연히 중요하다! \n",
    "    - 무조건적인 Feature Selection 좋은 건 아니다. \n",
    "    - 오히려 당연한 결과 또는 왜곡된 결과를 만들 수 있다. \n",
    "    - 모델의 성능 향상 - Why? 왜 모델의 성능이 향상이 되나? \n",
    "        - 피처가 많으면 모델의 성능이 더 좋지 않을까? -> 어떤 모델과 분석 목적에 따라 다르겠지만, 피처가 너무 많으면 안 좋다. \n",
    "            - 차원의 저주\n",
    "            - 해석 자체가 어렵다.\n",
    "            - 과적합\n",
    "            - 기타 이슈\n",
    "            - 노이즈가 감소 -> 노이즈가 어떤 영향을? \n",
    "            - 차원축소 -> 차원이 많다면 어떤 의미? 축소가 된다라는 게 정말 좋은 의미인가?\n",
    "            - 도메인을 통해서 피처를 잘 선택해야 한다. \n",
    "        - Feature Selection을 통해 모든 성능이 다 좋아진다? 라는 건 아닌 것 같다. 떨어질 수 있다. \n",
    "        - 적정한 기준 등은 도메인과 함께 해야 한다. \n",
    "    - 계산량 감소 -> 비용적인 측면 확실하게 좋을 수 있다.\n",
    "\n",
    "- 데이터 분석 관점에서 ?\n",
    "    - 중요한 피처를 파악하면 데이터 분석에 대한 출발점이 빠르게 확인 가능할 것\n",
    "    - 내가 원하는 분석 목적에 더 빠르게 시작할 수 있다. \n",
    "    \n",
    "### Filter Method (필터방식)\n",
    "    - 데이터의 통계적인 특성 기반하여 중요도 평가하고 선택하는 방식\n",
    "    - 상관계수 (Correlation Coefficient) : 특성과 타겟 변수간의 상관관계 제거 \n",
    "    - 카이제곱 테스트 (Chi-Square Test) : 범주형 데이터 타겟과 독립성 테스를 통해서 제거 or 선택\n",
    "    - 분산 (Variacne Threshold) : 분산이 너무 작은 특성을 제거 형태 방식\n",
    "    \n",
    "    - 제거에 대한 기준 임계점이 필요하다.\n",
    "    - 임계점은 도메인과 함께 다른 피처들과 비교를 해야 한다.\n",
    "    - 우리가 수업 때 하는 방식은 단순하게 값이 나오고 특정 임계점을 랜덤하게 찍어서 추출하는 형태"
   ]
  },
  {
   "cell_type": "code",
   "execution_count": 1,
   "id": "a33b3476",
   "metadata": {},
   "outputs": [],
   "source": [
    "# 필요한 라이브러리 불러오기\n",
    "import numpy as np\n",
    "import pandas as pd\n",
    "from sklearn.model_selection import train_test_split\n",
    "from sklearn.linear_model import LinearRegression  \n",
    "from sklearn.metrics import mean_squared_error\n",
    "import matplotlib.pyplot as plt"
   ]
  },
  {
   "cell_type": "markdown",
   "id": "e429d41c",
   "metadata": {},
   "source": [
    "- 상관계수를 통해서 피처를 선택한다라는 게 무슨 의미일까?\n",
    "- 독립변수와 종속변수와의 관계\n",
    "- 독립변수와 독립변수간의 관계"
   ]
  },
  {
   "cell_type": "code",
   "execution_count": 2,
   "id": "665098e3",
   "metadata": {},
   "outputs": [],
   "source": [
    "# X,y 독립변수와 종속변수와의 관계\n",
    "\n",
    "\n",
    "np.random.seed(111)\n",
    "n_samples= 1000"
   ]
  },
  {
   "cell_type": "code",
   "execution_count": 3,
   "id": "544bbb4c",
   "metadata": {},
   "outputs": [],
   "source": [
    "## 특성 피처들 생성\n",
    "\n",
    "X1 = np.random.rand(n_samples) * 100 # X1 y와 상관관계가 높도록 설정\n",
    "X2 = np.random.rand(n_samples) * 100 # X2도 y와 상관관계 높다\n",
    "X3 = np.random.rand(n_samples) * 100 # X3 y와 상관관계 약함 \n",
    "X4 = np.random.rand(n_samples) * 100 # X4 y와 거의 상관관계 없음\n",
    "X_noise = np.random.rand(n_samples) * 100 #노이즈\n",
    "\n",
    "# X1, X2 강하게 의존하는 형태, 나머지는 거의 영향이 없음\n",
    "y = 3 *X1 + 2*X2 +np.random.randn(n_samples)*10"
   ]
  },
  {
   "cell_type": "code",
   "execution_count": 4,
   "id": "92e73f0f",
   "metadata": {},
   "outputs": [],
   "source": [
    "df=pd.DataFrame({\n",
    "    'X1':X1,\n",
    "    'X2':X2,\n",
    "    'X3':X3,\n",
    "    'X4':X4,\n",
    "    'X_noise':X_noise,\n",
    "    'y':y\n",
    "})"
   ]
  },
  {
   "cell_type": "code",
   "execution_count": 6,
   "id": "c9ce76a8",
   "metadata": {},
   "outputs": [
    {
     "data": {
      "text/html": [
       "<div>\n",
       "<style scoped>\n",
       "    .dataframe tbody tr th:only-of-type {\n",
       "        vertical-align: middle;\n",
       "    }\n",
       "\n",
       "    .dataframe tbody tr th {\n",
       "        vertical-align: top;\n",
       "    }\n",
       "\n",
       "    .dataframe thead th {\n",
       "        text-align: right;\n",
       "    }\n",
       "</style>\n",
       "<table border=\"1\" class=\"dataframe\">\n",
       "  <thead>\n",
       "    <tr style=\"text-align: right;\">\n",
       "      <th></th>\n",
       "      <th>X1</th>\n",
       "      <th>X2</th>\n",
       "      <th>X3</th>\n",
       "      <th>X4</th>\n",
       "      <th>X_noise</th>\n",
       "      <th>y</th>\n",
       "    </tr>\n",
       "  </thead>\n",
       "  <tbody>\n",
       "    <tr>\n",
       "      <th>X1</th>\n",
       "      <td>1.000000</td>\n",
       "      <td>0.001169</td>\n",
       "      <td>-0.020710</td>\n",
       "      <td>-0.004450</td>\n",
       "      <td>0.005487</td>\n",
       "      <td>0.831148</td>\n",
       "    </tr>\n",
       "    <tr>\n",
       "      <th>X2</th>\n",
       "      <td>0.001169</td>\n",
       "      <td>1.000000</td>\n",
       "      <td>0.008571</td>\n",
       "      <td>-0.032957</td>\n",
       "      <td>0.055837</td>\n",
       "      <td>0.549372</td>\n",
       "    </tr>\n",
       "    <tr>\n",
       "      <th>X3</th>\n",
       "      <td>-0.020710</td>\n",
       "      <td>0.008571</td>\n",
       "      <td>1.000000</td>\n",
       "      <td>-0.027904</td>\n",
       "      <td>-0.079788</td>\n",
       "      <td>-0.012193</td>\n",
       "    </tr>\n",
       "    <tr>\n",
       "      <th>X4</th>\n",
       "      <td>-0.004450</td>\n",
       "      <td>-0.032957</td>\n",
       "      <td>-0.027904</td>\n",
       "      <td>1.000000</td>\n",
       "      <td>0.003884</td>\n",
       "      <td>-0.022084</td>\n",
       "    </tr>\n",
       "    <tr>\n",
       "      <th>X_noise</th>\n",
       "      <td>0.005487</td>\n",
       "      <td>0.055837</td>\n",
       "      <td>-0.079788</td>\n",
       "      <td>0.003884</td>\n",
       "      <td>1.000000</td>\n",
       "      <td>0.035962</td>\n",
       "    </tr>\n",
       "    <tr>\n",
       "      <th>y</th>\n",
       "      <td>0.831148</td>\n",
       "      <td>0.549372</td>\n",
       "      <td>-0.012193</td>\n",
       "      <td>-0.022084</td>\n",
       "      <td>0.035962</td>\n",
       "      <td>1.000000</td>\n",
       "    </tr>\n",
       "  </tbody>\n",
       "</table>\n",
       "</div>"
      ],
      "text/plain": [
       "               X1        X2        X3        X4   X_noise         y\n",
       "X1       1.000000  0.001169 -0.020710 -0.004450  0.005487  0.831148\n",
       "X2       0.001169  1.000000  0.008571 -0.032957  0.055837  0.549372\n",
       "X3      -0.020710  0.008571  1.000000 -0.027904 -0.079788 -0.012193\n",
       "X4      -0.004450 -0.032957 -0.027904  1.000000  0.003884 -0.022084\n",
       "X_noise  0.005487  0.055837 -0.079788  0.003884  1.000000  0.035962\n",
       "y        0.831148  0.549372 -0.012193 -0.022084  0.035962  1.000000"
      ]
     },
     "execution_count": 6,
     "metadata": {},
     "output_type": "execute_result"
    }
   ],
   "source": [
    "## 상관계수를 확인하기\n",
    "df.corr()"
   ]
  },
  {
   "cell_type": "code",
   "execution_count": 8,
   "id": "efadc805",
   "metadata": {},
   "outputs": [],
   "source": [
    "#corr_matrix\n",
    "corr_matrix=df.corr()['y'].drop('y')"
   ]
  },
  {
   "cell_type": "code",
   "execution_count": 9,
   "id": "db9ca083",
   "metadata": {},
   "outputs": [
    {
     "data": {
      "text/plain": [
       "X1         0.831148\n",
       "X2         0.549372\n",
       "X3        -0.012193\n",
       "X4        -0.022084\n",
       "X_noise    0.035962\n",
       "Name: y, dtype: float64"
      ]
     },
     "execution_count": 9,
     "metadata": {},
     "output_type": "execute_result"
    }
   ],
   "source": [
    "corr_matrix"
   ]
  },
  {
   "cell_type": "code",
   "execution_count": 12,
   "id": "c9493765",
   "metadata": {},
   "outputs": [
    {
     "name": "stdout",
     "output_type": "stream",
     "text": [
      "Index(['X1', 'X2'], dtype='object')\n"
     ]
    }
   ],
   "source": [
    "#0.5 특성만 뽑아보자!\n",
    "threshold=0.5\n",
    "selected_features =corr_matrix[abs(corr_matrix)>threshold].index\n",
    "\n",
    "print(selected_features)"
   ]
  },
  {
   "cell_type": "code",
   "execution_count": 15,
   "id": "96d19a2e",
   "metadata": {},
   "outputs": [
    {
     "name": "stdout",
     "output_type": "stream",
     "text": [
      "mse_selected 94.10335912108972\n"
     ]
    }
   ],
   "source": [
    "#LinearRegression\n",
    "\n",
    "#데이터 분할 _선택된 피처로\n",
    "X_selected = df[selected_features]\n",
    "X_train, X_test, y_train, y_test = train_test_split(X_selected,df['y'],test_size=0.2,random_state=111)\n",
    "\n",
    "#모델학습\n",
    "model = LinearRegression()\n",
    "model.fit(X_train, y_train)\n",
    "\n",
    "#예측 MSE\n",
    "y_pred =model.predict(X_test)\n",
    "mse_selected =mean_squared_error(y_test, y_pred)\n",
    "print('mse_selected',mse_selected)"
   ]
  },
  {
   "cell_type": "code",
   "execution_count": 17,
   "id": "2c32a393",
   "metadata": {},
   "outputs": [
    {
     "name": "stdout",
     "output_type": "stream",
     "text": [
      "mse_full 94.29334037001027\n"
     ]
    }
   ],
   "source": [
    "##전체 데이터랑 비교하면 \n",
    "\n",
    "#LinearRegression\n",
    "\n",
    "#데이터 분할 _선택된 피처로\n",
    "X_full = df.drop(columns = ['y'])\n",
    "X_train_full, X_test_full, y_train_full, y_test_full = train_test_split(X_full,df['y'],test_size=0.2,random_state=111)\n",
    "\n",
    "#모델학습\n",
    "model_full = LinearRegression()\n",
    "model_full.fit(X_train_full, y_train_full)\n",
    "\n",
    "#예측 MSE\n",
    "y_pred_full =model_full.predict(X_test_full)\n",
    "mse_full =mean_squared_error(y_test_full, y_pred_full)\n",
    "print('mse_full',mse_full)"
   ]
  },
  {
   "cell_type": "code",
   "execution_count": 19,
   "id": "71743c61",
   "metadata": {},
   "outputs": [
    {
     "data": {
      "text/plain": [
       "-0.1899812489205459"
      ]
     },
     "execution_count": 19,
     "metadata": {},
     "output_type": "execute_result"
    }
   ],
   "source": [
    "94.10335912108972 -94.29334037001027"
   ]
  },
  {
   "cell_type": "markdown",
   "id": "607e2745",
   "metadata": {},
   "source": [
    "### 피처들과 피처들의 관계\n",
    "- 독립변수 독립변수의 관계"
   ]
  },
  {
   "cell_type": "code",
   "execution_count": 20,
   "id": "78f6be1c",
   "metadata": {},
   "outputs": [],
   "source": [
    "## 특성 피처들 생성\n",
    "\n",
    "X1 = np.random.rand(n_samples) * 100 # \n",
    "X2 = X1+np.random.rand(n_samples) * 10 # X1과 매우 높은 상관관계\n",
    "X3 = np.random.rand(n_samples) * 100 # \n",
    "X4 = np.random.rand(n_samples) * 100 # \n",
    "X_noise = np.random.rand(n_samples) * 100 #\n",
    "\n",
    "# y는 X1, X2 강하게 의존하는 관계\n",
    "y = 3 *X1 + 2 * X3 +np.random.randn(n_samples) * 10"
   ]
  },
  {
   "cell_type": "code",
   "execution_count": 21,
   "id": "99c2c1d7",
   "metadata": {},
   "outputs": [],
   "source": [
    "df=pd.DataFrame({\n",
    "    'X1':X1,\n",
    "    'X2':X2,\n",
    "    'X3':X3,\n",
    "    'X4':X4,\n",
    "    'X_noise':X_noise,\n",
    "    'y':y\n",
    "})"
   ]
  },
  {
   "cell_type": "code",
   "execution_count": 25,
   "id": "13c78225",
   "metadata": {},
   "outputs": [],
   "source": [
    "import seaborn as sns"
   ]
  },
  {
   "cell_type": "code",
   "execution_count": 31,
   "id": "33aaebf6",
   "metadata": {},
   "outputs": [
    {
     "name": "stdout",
     "output_type": "stream",
     "text": [
      "               X1        X2        X3        X4   X_noise\n",
      "X1       1.000000  0.995198  0.006631  0.004226 -0.059031\n",
      "X2       0.995198  1.000000  0.004092  0.003307 -0.055824\n",
      "X3       0.006631  0.004092  1.000000  0.054634  0.018191\n",
      "X4       0.004226  0.003307  0.054634  1.000000 -0.010967\n",
      "X_noise -0.059031 -0.055824  0.018191 -0.010967  1.000000\n"
     ]
    }
   ],
   "source": [
    "## 상관관계를 보자\n",
    "\n",
    "#corr_matrix\n",
    "corr_matrix=df.drop(columns=['y']).corr()\n",
    "print(corr_matrix)"
   ]
  },
  {
   "cell_type": "code",
   "execution_count": 32,
   "id": "0cc8ff36",
   "metadata": {},
   "outputs": [
    {
     "data": {
      "text/plain": [
       "<AxesSubplot: >"
      ]
     },
     "execution_count": 32,
     "metadata": {},
     "output_type": "execute_result"
    },
    {
     "data": {
      "image/png": "[encoded data removed]",
      "text/plain": [
       "<Figure size 1000x600 with 2 Axes>"
      ]
     },
     "metadata": {},
     "output_type": "display_data"
    }
   ],
   "source": [
    "plt.figure(figsize=(10,6))\n",
    "sns.heatmap(corr_matrix, annot=True)"
   ]
  },
  {
   "cell_type": "code",
   "execution_count": 33,
   "id": "908cbe79",
   "metadata": {},
   "outputs": [
    {
     "data": {
      "text/html": [
       "<div>\n",
       "<style scoped>\n",
       "    .dataframe tbody tr th:only-of-type {\n",
       "        vertical-align: middle;\n",
       "    }\n",
       "\n",
       "    .dataframe tbody tr th {\n",
       "        vertical-align: top;\n",
       "    }\n",
       "\n",
       "    .dataframe thead th {\n",
       "        text-align: right;\n",
       "    }\n",
       "</style>\n",
       "<table border=\"1\" class=\"dataframe\">\n",
       "  <thead>\n",
       "    <tr style=\"text-align: right;\">\n",
       "      <th></th>\n",
       "      <th>X1</th>\n",
       "      <th>X2</th>\n",
       "      <th>X3</th>\n",
       "      <th>X4</th>\n",
       "      <th>X_noise</th>\n",
       "    </tr>\n",
       "  </thead>\n",
       "  <tbody>\n",
       "    <tr>\n",
       "      <th>X1</th>\n",
       "      <td>1.000000</td>\n",
       "      <td>0.995198</td>\n",
       "      <td>0.006631</td>\n",
       "      <td>0.004226</td>\n",
       "      <td>-0.059031</td>\n",
       "    </tr>\n",
       "    <tr>\n",
       "      <th>X2</th>\n",
       "      <td>0.995198</td>\n",
       "      <td>1.000000</td>\n",
       "      <td>0.004092</td>\n",
       "      <td>0.003307</td>\n",
       "      <td>-0.055824</td>\n",
       "    </tr>\n",
       "    <tr>\n",
       "      <th>X3</th>\n",
       "      <td>0.006631</td>\n",
       "      <td>0.004092</td>\n",
       "      <td>1.000000</td>\n",
       "      <td>0.054634</td>\n",
       "      <td>0.018191</td>\n",
       "    </tr>\n",
       "    <tr>\n",
       "      <th>X4</th>\n",
       "      <td>0.004226</td>\n",
       "      <td>0.003307</td>\n",
       "      <td>0.054634</td>\n",
       "      <td>1.000000</td>\n",
       "      <td>-0.010967</td>\n",
       "    </tr>\n",
       "    <tr>\n",
       "      <th>X_noise</th>\n",
       "      <td>-0.059031</td>\n",
       "      <td>-0.055824</td>\n",
       "      <td>0.018191</td>\n",
       "      <td>-0.010967</td>\n",
       "      <td>1.000000</td>\n",
       "    </tr>\n",
       "  </tbody>\n",
       "</table>\n",
       "</div>"
      ],
      "text/plain": [
       "               X1        X2        X3        X4   X_noise\n",
       "X1       1.000000  0.995198  0.006631  0.004226 -0.059031\n",
       "X2       0.995198  1.000000  0.004092  0.003307 -0.055824\n",
       "X3       0.006631  0.004092  1.000000  0.054634  0.018191\n",
       "X4       0.004226  0.003307  0.054634  1.000000 -0.010967\n",
       "X_noise -0.059031 -0.055824  0.018191 -0.010967  1.000000"
      ]
     },
     "execution_count": 33,
     "metadata": {},
     "output_type": "execute_result"
    }
   ],
   "source": [
    "corr_matrix"
   ]
  },
  {
   "cell_type": "code",
   "execution_count": 38,
   "id": "368608a1",
   "metadata": {},
   "outputs": [
    {
     "name": "stdout",
     "output_type": "stream",
     "text": [
      "{'X2'}\n"
     ]
    }
   ],
   "source": [
    "## 상관계수가 threshold 0.8 이상인 경우는 제거를 한다.\n",
    "## X1, X2 상관관계가 높다 -> 왜 제거를 해야 하나?\n",
    "## X1, X2 상관관계가 높다- > 같이 움직인다.X1 증가하면 X2 증가한다는 뜻,같이 움직이므로 선형회귀에서 오차 계산 등이 오차 값이 계산될 때 더 큰 영향을 준다.\n",
    "## 다중공선성의 문제라 하고 대부분 다중공선성이 높은 피처들은 제거를 한다.\n",
    "\n",
    "threshold = 0.8\n",
    "to_drop = set()\n",
    "\n",
    "#상관계수가 높은 피처만 출력\n",
    "for i in range(len(corr_matrix.columns)):\n",
    "    for j in range(i):\n",
    "        if abs(corr_matrix.iloc[i,j]) > threshold:\n",
    "            to_drop.add(corr_matrix.columns[i])\n",
    "print(to_drop)\n",
    "\n",
    "#원하는 피처만 제거함\n",
    "X_reduced =df.drop(columns=list(to_drop)+['y'])\n",
    "\n",
    "X_train, X_test, y_train, y_test = train_test_split(X_reduced, df['y'], test_size=0.3, random_state=111)\n"
   ]
  },
  {
   "cell_type": "code",
   "execution_count": 40,
   "id": "e08c9f1e",
   "metadata": {},
   "outputs": [
    {
     "name": "stdout",
     "output_type": "stream",
     "text": [
      "mse_selected 100.21104905470806\n"
     ]
    }
   ],
   "source": [
    "# 상관계수가 높은 피처를 제거했을 때\n",
    "#모델학습\n",
    "model = LinearRegression()\n",
    "model.fit(X_train, y_train)\n",
    "\n",
    "#예측 MSE\n",
    "y_pred =model.predict(X_test)\n",
    "mse_selected =mean_squared_error(y_test, y_pred)\n",
    "print('mse_selected',mse_selected)"
   ]
  },
  {
   "cell_type": "code",
   "execution_count": 42,
   "id": "d80008d7",
   "metadata": {},
   "outputs": [
    {
     "name": "stdout",
     "output_type": "stream",
     "text": [
      "mse_full 95.42114677566289\n"
     ]
    }
   ],
   "source": [
    "## 전체 피처가 다 들어간 경우\n",
    "#데이터 분할 _선택된 피처로\n",
    "X_full = df.drop(columns = ['y'])\n",
    "X_train_full, X_test_full, y_train_full, y_test_full = train_test_split(X_full,df['y'],test_size=0.2,random_state=111)\n",
    "\n",
    "#모델학습\n",
    "model_full = LinearRegression()\n",
    "model_full.fit(X_train_full, y_train_full)\n",
    "\n",
    "#예측 MSE\n",
    "y_pred_full =model_full.predict(X_test_full)\n",
    "mse_full =mean_squared_error(y_test_full, y_pred_full)\n",
    "print('mse_full',mse_full)"
   ]
  },
  {
   "cell_type": "markdown",
   "id": "9fbdd0a0",
   "metadata": {},
   "source": [
    "### 선형회귀로 모델링\n",
    "###  y값과 상관관계를 보는 것 ( 특성 선택의 목적 )  \n",
    "- 피처와 타겟변수 y의 상관관계를 통해서 타겟변수와의 상관성이 높은 피처를 선택하는 것\n",
    "- 타겟 변수와 상관관계 높은 피처가 있다면 -> 잘 예측할 수 있다. 선형적인 회귀분석인데 타겟과 피처가 선형적인데 당연히 좋은 결과가 나온다.\n",
    "\n",
    "### X 피처들간의 상관관계를 보는 것 ( 다중공선성 문제 해결 목적 ), 피처를 제거\n",
    "- 피처들간 상관관계를 통해서 두 개 이상의 피처가 유사한 정보를 제공하는지 ( 선형성 같이 움직이는지 )\n",
    "- 다중공선성을 해결하기위한 방법으로도 확인 가능하다 -> 모델이 불안정해진다. 상관계수가 높은 피처들이 같이 잇으면, 제대로 평가를 못하는 경우가 발생\n",
    "\n",
    "\n",
    "- 피처에 대한 선택도 기준에 따라 제거, 선택도 가능하고 모든 피처가 실제 성능이 다 올라가거나 떨어지는 건 아니다.\n",
    "- 피처에 대한 이해도도 중요하지만, 데이터, 도메인, 모델 이 모든 것을 다 이해하고 있어야 이 수치가 왜 이렇게 나오는지? 조금은 더 이해할 수 있다."
   ]
  },
  {
   "cell_type": "markdown",
   "id": "1a73d945",
   "metadata": {},
   "source": [
    "### 필수과제 (다음 주까지 제출)\n",
    "### 3주차 모두 과제가 다 제출할  수 있음\n",
    "- sklean에서 제공하는 california housing 데이터 존재 코드 공유 예정\n",
    "- 집값 다른 여러 피처들이 존재\n",
    "- 전체 피처를 학습하고 MSE 계산한 것과, 여러분들이 직접 filter 방식으로 상관계수를 통해 피처를 선택해서 학습한 후 mse 비교\n",
    "- 어떤 피처를 선택했는지, 그리고 추가로 집값에 대한 데이터라 도메인을 좀 더 추가해서 어떤 식으로 선택하면 더 좋을지 추가!"
   ]
  },
  {
   "cell_type": "code",
   "execution_count": 43,
   "id": "dab1f4c6",
   "metadata": {},
   "outputs": [],
   "source": [
    "# 필요한 라이브러리 불러오기\n",
    "import numpy as np\n",
    "import pandas as pd\n",
    "from sklearn.datasets import fetch_california_housing\n",
    "from sklearn.model_selection import train_test_split\n",
    "from sklearn.linear_model import LinearRegression\n",
    "from sklearn.metrics import mean_squared_error\n",
    "\n",
    "# 캘리포니아 주택 데이터셋 불러오기\n",
    "california = fetch_california_housing()\n",
    "X = pd.DataFrame(california.data, columns=california.feature_names)\n",
    "y = california.target"
   ]
  },
  {
   "cell_type": "code",
   "execution_count": 44,
   "id": "0a0df810",
   "metadata": {},
   "outputs": [
    {
     "data": {
      "text/html": [
       "<div>\n",
       "<style scoped>\n",
       "    .dataframe tbody tr th:only-of-type {\n",
       "        vertical-align: middle;\n",
       "    }\n",
       "\n",
       "    .dataframe tbody tr th {\n",
       "        vertical-align: top;\n",
       "    }\n",
       "\n",
       "    .dataframe thead th {\n",
       "        text-align: right;\n",
       "    }\n",
       "</style>\n",
       "<table border=\"1\" class=\"dataframe\">\n",
       "  <thead>\n",
       "    <tr style=\"text-align: right;\">\n",
       "      <th></th>\n",
       "      <th>MedInc</th>\n",
       "      <th>HouseAge</th>\n",
       "      <th>AveRooms</th>\n",
       "      <th>AveBedrms</th>\n",
       "      <th>Population</th>\n",
       "      <th>AveOccup</th>\n",
       "      <th>Latitude</th>\n",
       "      <th>Longitude</th>\n",
       "    </tr>\n",
       "  </thead>\n",
       "  <tbody>\n",
       "    <tr>\n",
       "      <th>0</th>\n",
       "      <td>8.3252</td>\n",
       "      <td>41.0</td>\n",
       "      <td>6.984127</td>\n",
       "      <td>1.023810</td>\n",
       "      <td>322.0</td>\n",
       "      <td>2.555556</td>\n",
       "      <td>37.88</td>\n",
       "      <td>-122.23</td>\n",
       "    </tr>\n",
       "    <tr>\n",
       "      <th>1</th>\n",
       "      <td>8.3014</td>\n",
       "      <td>21.0</td>\n",
       "      <td>6.238137</td>\n",
       "      <td>0.971880</td>\n",
       "      <td>2401.0</td>\n",
       "      <td>2.109842</td>\n",
       "      <td>37.86</td>\n",
       "      <td>-122.22</td>\n",
       "    </tr>\n",
       "    <tr>\n",
       "      <th>2</th>\n",
       "      <td>7.2574</td>\n",
       "      <td>52.0</td>\n",
       "      <td>8.288136</td>\n",
       "      <td>1.073446</td>\n",
       "      <td>496.0</td>\n",
       "      <td>2.802260</td>\n",
       "      <td>37.85</td>\n",
       "      <td>-122.24</td>\n",
       "    </tr>\n",
       "    <tr>\n",
       "      <th>3</th>\n",
       "      <td>5.6431</td>\n",
       "      <td>52.0</td>\n",
       "      <td>5.817352</td>\n",
       "      <td>1.073059</td>\n",
       "      <td>558.0</td>\n",
       "      <td>2.547945</td>\n",
       "      <td>37.85</td>\n",
       "      <td>-122.25</td>\n",
       "    </tr>\n",
       "    <tr>\n",
       "      <th>4</th>\n",
       "      <td>3.8462</td>\n",
       "      <td>52.0</td>\n",
       "      <td>6.281853</td>\n",
       "      <td>1.081081</td>\n",
       "      <td>565.0</td>\n",
       "      <td>2.181467</td>\n",
       "      <td>37.85</td>\n",
       "      <td>-122.25</td>\n",
       "    </tr>\n",
       "    <tr>\n",
       "      <th>...</th>\n",
       "      <td>...</td>\n",
       "      <td>...</td>\n",
       "      <td>...</td>\n",
       "      <td>...</td>\n",
       "      <td>...</td>\n",
       "      <td>...</td>\n",
       "      <td>...</td>\n",
       "      <td>...</td>\n",
       "    </tr>\n",
       "    <tr>\n",
       "      <th>20635</th>\n",
       "      <td>1.5603</td>\n",
       "      <td>25.0</td>\n",
       "      <td>5.045455</td>\n",
       "      <td>1.133333</td>\n",
       "      <td>845.0</td>\n",
       "      <td>2.560606</td>\n",
       "      <td>39.48</td>\n",
       "      <td>-121.09</td>\n",
       "    </tr>\n",
       "    <tr>\n",
       "      <th>20636</th>\n",
       "      <td>2.5568</td>\n",
       "      <td>18.0</td>\n",
       "      <td>6.114035</td>\n",
       "      <td>1.315789</td>\n",
       "      <td>356.0</td>\n",
       "      <td>3.122807</td>\n",
       "      <td>39.49</td>\n",
       "      <td>-121.21</td>\n",
       "    </tr>\n",
       "    <tr>\n",
       "      <th>20637</th>\n",
       "      <td>1.7000</td>\n",
       "      <td>17.0</td>\n",
       "      <td>5.205543</td>\n",
       "      <td>1.120092</td>\n",
       "      <td>1007.0</td>\n",
       "      <td>2.325635</td>\n",
       "      <td>39.43</td>\n",
       "      <td>-121.22</td>\n",
       "    </tr>\n",
       "    <tr>\n",
       "      <th>20638</th>\n",
       "      <td>1.8672</td>\n",
       "      <td>18.0</td>\n",
       "      <td>5.329513</td>\n",
       "      <td>1.171920</td>\n",
       "      <td>741.0</td>\n",
       "      <td>2.123209</td>\n",
       "      <td>39.43</td>\n",
       "      <td>-121.32</td>\n",
       "    </tr>\n",
       "    <tr>\n",
       "      <th>20639</th>\n",
       "      <td>2.3886</td>\n",
       "      <td>16.0</td>\n",
       "      <td>5.254717</td>\n",
       "      <td>1.162264</td>\n",
       "      <td>1387.0</td>\n",
       "      <td>2.616981</td>\n",
       "      <td>39.37</td>\n",
       "      <td>-121.24</td>\n",
       "    </tr>\n",
       "  </tbody>\n",
       "</table>\n",
       "<p>20640 rows × 8 columns</p>\n",
       "</div>"
      ],
      "text/plain": [
       "       MedInc  HouseAge  AveRooms  AveBedrms  Population  AveOccup  Latitude  \\\n",
       "0      8.3252      41.0  6.984127   1.023810       322.0  2.555556     37.88   \n",
       "1      8.3014      21.0  6.238137   0.971880      2401.0  2.109842     37.86   \n",
       "2      7.2574      52.0  8.288136   1.073446       496.0  2.802260     37.85   \n",
       "3      5.6431      52.0  5.817352   1.073059       558.0  2.547945     37.85   \n",
       "4      3.8462      52.0  6.281853   1.081081       565.0  2.181467     37.85   \n",
       "...       ...       ...       ...        ...         ...       ...       ...   \n",
       "20635  1.5603      25.0  5.045455   1.133333       845.0  2.560606     39.48   \n",
       "20636  2.5568      18.0  6.114035   1.315789       356.0  3.122807     39.49   \n",
       "20637  1.7000      17.0  5.205543   1.120092      1007.0  2.325635     39.43   \n",
       "20638  1.8672      18.0  5.329513   1.171920       741.0  2.123209     39.43   \n",
       "20639  2.3886      16.0  5.254717   1.162264      1387.0  2.616981     39.37   \n",
       "\n",
       "       Longitude  \n",
       "0        -122.23  \n",
       "1        -122.22  \n",
       "2        -122.24  \n",
       "3        -122.25  \n",
       "4        -122.25  \n",
       "...          ...  \n",
       "20635    -121.09  \n",
       "20636    -121.21  \n",
       "20637    -121.22  \n",
       "20638    -121.32  \n",
       "20639    -121.24  \n",
       "\n",
       "[20640 rows x 8 columns]"
      ]
     },
     "execution_count": 44,
     "metadata": {},
     "output_type": "execute_result"
    }
   ],
   "source": [
    "X"
   ]
  },
  {
   "cell_type": "code",
   "execution_count": null,
   "id": "0792d049",
   "metadata": {},
   "outputs": [],
   "source": []
  }
 ],
 "metadata": {
  "kernelspec": {
   "display_name": "Python 3 (ipykernel)",
   "language": "python",
   "name": "python3"
  },
  "language_info": {
   "codemirror_mode": {
    "name": "ipython",
    "version": 3
   },
   "file_extension": ".py",
   "mimetype": "text/x-python",
   "name": "python",
   "nbconvert_exporter": "python",
   "pygments_lexer": "ipython3",
   "version": "3.8.16"
  }
 },
 "nbformat": 4,
 "nbformat_minor": 5
}
