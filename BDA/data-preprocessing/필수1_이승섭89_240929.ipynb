{
 "cells": [
  {
   "cell_type": "markdown",
   "metadata": {},
   "source": [
    "# BDA학회 데이터 분석 전처리 적용반 3주차 필수과제\n",
    "\n",
    "제출자 성명: 이승섭89\n",
    "\n",
    "필수과제1 (Titanic Dataset)에 VarianceThreshold을 적용합니다.\n",
    "\n",
    "필수과제2 (bank-additional.csv)에 여러 가지 feature selection을 수행합니다.\n",
    "\n",
    "Python 3.10.14 버전을 사용합니다."
   ]
  },
  {
   "cell_type": "code",
   "execution_count": 4,
   "metadata": {},
   "outputs": [],
   "source": [
    "# Import required libraries\n",
    "import pandas as pd\n",
    "import seaborn as sns\n",
    "import matplotlib.pyplot as plt\n",
    "import optuna\n",
    "\n",
    "from sklearn.feature_selection import VarianceThreshold\n",
    "from sklearn.model_selection import train_test_split\n",
    "from sklearn.linear_model import LogisticRegression\n",
    "from sklearn.metrics import accuracy_score"
   ]
  },
  {
   "cell_type": "markdown",
   "metadata": {},
   "source": [
    "\n",
    "## 필수과제1 (타이타닉데이터셋)\n",
    "- VarianceThreshold -타이타닉 데이터 feature_selection\n",
    "    - 임계값 기준을 몇으로 했는지?\n",
    "    - 그 기준의 이유\n",
    "    - 어떤 식으로 찾았는지!\n",
    "- 어떤 피처가 선택이 되었나?"
   ]
  },
  {
   "cell_type": "code",
   "execution_count": 5,
   "metadata": {},
   "outputs": [
    {
     "name": "stderr",
     "output_type": "stream",
     "text": [
      "C:\\Users\\Max-PC\\AppData\\Local\\Temp\\ipykernel_17588\\1400099690.py:12: SettingWithCopyWarning: \n",
      "A value is trying to be set on a copy of a slice from a DataFrame.\n",
      "Try using .loc[row_indexer,col_indexer] = value instead\n",
      "\n",
      "See the caveats in the documentation: https://pandas.pydata.org/pandas-docs/stable/user_guide/indexing.html#returning-a-view-versus-a-copy\n",
      "  X['age_binned'] = pd.qcut(X['age'], q=4, labels=False)\n",
      "C:\\Users\\Max-PC\\AppData\\Local\\Temp\\ipykernel_17588\\1400099690.py:13: SettingWithCopyWarning: \n",
      "A value is trying to be set on a copy of a slice from a DataFrame.\n",
      "Try using .loc[row_indexer,col_indexer] = value instead\n",
      "\n",
      "See the caveats in the documentation: https://pandas.pydata.org/pandas-docs/stable/user_guide/indexing.html#returning-a-view-versus-a-copy\n",
      "  X['fare_binned'] = pd.qcut(X['fare'], q=4, labels=False)\n",
      "[I 2024-10-05 18:06:05,315] A new study created in memory with name: no-name-08ae3893-c643-4cf7-99fb-49eba4d10bb0\n",
      "[I 2024-10-05 18:06:05,336] Trial 0 finished with value: 0.7039106145251397 and parameters: {'threshold': 0.5224964751432013}. Best is trial 0 with value: 0.7039106145251397.\n",
      "[I 2024-10-05 18:06:05,359] Trial 1 finished with value: 0.6759776536312849 and parameters: {'threshold': 0.9915969954836401}. Best is trial 0 with value: 0.7039106145251397.\n",
      "[I 2024-10-05 18:06:05,384] Trial 2 finished with value: 0.6759776536312849 and parameters: {'threshold': 0.930772262092207}. Best is trial 0 with value: 0.7039106145251397.\n",
      "[I 2024-10-05 18:06:05,441] Trial 3 finished with value: 0.7932960893854749 and parameters: {'threshold': 0.05115433017506266}. Best is trial 3 with value: 0.7932960893854749.\n",
      "[I 2024-10-05 18:06:05,509] Trial 4 finished with value: 0.7932960893854749 and parameters: {'threshold': 0.19186698271189606}. Best is trial 3 with value: 0.7932960893854749.\n",
      "[I 2024-10-05 18:06:05,594] Trial 5 finished with value: 0.7039106145251397 and parameters: {'threshold': 0.5389013596684669}. Best is trial 3 with value: 0.7932960893854749.\n",
      "[I 2024-10-05 18:06:05,614] Trial 6 finished with value: 0.7206703910614525 and parameters: {'threshold': 0.6325582531126005}. Best is trial 3 with value: 0.7932960893854749.\n",
      "[I 2024-10-05 18:06:05,636] Trial 7 finished with value: 0.6759776536312849 and parameters: {'threshold': 0.9496712712666444}. Best is trial 3 with value: 0.7932960893854749.\n",
      "[I 2024-10-05 18:06:05,727] Trial 8 finished with value: 0.7039106145251397 and parameters: {'threshold': 0.3281639456519424}. Best is trial 3 with value: 0.7932960893854749.\n",
      "[I 2024-10-05 18:06:05,753] Trial 9 finished with value: 0.6759776536312849 and parameters: {'threshold': 0.7097406449580294}. Best is trial 3 with value: 0.7932960893854749.\n",
      "[I 2024-10-05 18:06:05,836] Trial 10 finished with value: 0.7932960893854749 and parameters: {'threshold': 0.012467635522597005}. Best is trial 3 with value: 0.7932960893854749.\n",
      "[I 2024-10-05 18:06:05,871] Trial 11 finished with value: 0.7932960893854749 and parameters: {'threshold': 0.04311510345189679}. Best is trial 3 with value: 0.7932960893854749.\n",
      "[I 2024-10-05 18:06:05,929] Trial 12 finished with value: 0.7932960893854749 and parameters: {'threshold': 0.21577342561928192}. Best is trial 3 with value: 0.7932960893854749.\n",
      "[I 2024-10-05 18:06:05,953] Trial 13 finished with value: 0.7039106145251397 and parameters: {'threshold': 0.2292273291486953}. Best is trial 3 with value: 0.7932960893854749.\n",
      "[I 2024-10-05 18:06:06,011] Trial 14 finished with value: 0.7932960893854749 and parameters: {'threshold': 0.16580985251764857}. Best is trial 3 with value: 0.7932960893854749.\n",
      "[I 2024-10-05 18:06:06,037] Trial 15 finished with value: 0.7039106145251397 and parameters: {'threshold': 0.37251219675608704}. Best is trial 3 with value: 0.7932960893854749.\n",
      "[I 2024-10-05 18:06:06,064] Trial 16 finished with value: 0.7932960893854749 and parameters: {'threshold': 0.10688638999326225}. Best is trial 3 with value: 0.7932960893854749.\n",
      "[I 2024-10-05 18:06:06,097] Trial 17 finished with value: 0.7039106145251397 and parameters: {'threshold': 0.3478611364593107}. Best is trial 3 with value: 0.7932960893854749.\n",
      "[I 2024-10-05 18:06:06,134] Trial 18 finished with value: 0.7039106145251397 and parameters: {'threshold': 0.2787805792945095}. Best is trial 3 with value: 0.7932960893854749.\n",
      "[I 2024-10-05 18:06:06,170] Trial 19 finished with value: 0.7932960893854749 and parameters: {'threshold': 0.0967342018597279}. Best is trial 3 with value: 0.7932960893854749.\n",
      "[I 2024-10-05 18:06:06,195] Trial 20 finished with value: 0.7039106145251397 and parameters: {'threshold': 0.42257484041094967}. Best is trial 3 with value: 0.7932960893854749.\n",
      "[I 2024-10-05 18:06:06,236] Trial 21 finished with value: 0.7932960893854749 and parameters: {'threshold': 0.001480351762053439}. Best is trial 3 with value: 0.7932960893854749.\n",
      "[I 2024-10-05 18:06:06,262] Trial 22 finished with value: 0.7932960893854749 and parameters: {'threshold': 0.13207709043376586}. Best is trial 3 with value: 0.7932960893854749.\n",
      "[I 2024-10-05 18:06:06,289] Trial 23 finished with value: 0.7932960893854749 and parameters: {'threshold': 0.011512969057780383}. Best is trial 3 with value: 0.7932960893854749.\n",
      "[I 2024-10-05 18:06:06,311] Trial 24 finished with value: 0.7932960893854749 and parameters: {'threshold': 0.20353262949287548}. Best is trial 3 with value: 0.7932960893854749.\n",
      "[I 2024-10-05 18:06:06,441] Trial 25 finished with value: 0.7932960893854749 and parameters: {'threshold': 0.08823319179170958}. Best is trial 3 with value: 0.7932960893854749.\n",
      "[I 2024-10-05 18:06:06,485] Trial 26 finished with value: 0.7039106145251397 and parameters: {'threshold': 0.27963179464911725}. Best is trial 3 with value: 0.7932960893854749.\n",
      "[I 2024-10-05 18:06:06,516] Trial 27 finished with value: 0.7932960893854749 and parameters: {'threshold': 0.05546773677253422}. Best is trial 3 with value: 0.7932960893854749.\n",
      "[I 2024-10-05 18:06:06,543] Trial 28 finished with value: 0.7932960893854749 and parameters: {'threshold': 0.15874292008736865}. Best is trial 3 with value: 0.7932960893854749.\n",
      "[I 2024-10-05 18:06:06,569] Trial 29 finished with value: 0.7039106145251397 and parameters: {'threshold': 0.49961895526198274}. Best is trial 3 with value: 0.7932960893854749.\n",
      "[I 2024-10-05 18:06:06,594] Trial 30 finished with value: 0.7039106145251397 and parameters: {'threshold': 0.4367049319425173}. Best is trial 3 with value: 0.7932960893854749.\n",
      "[I 2024-10-05 18:06:06,620] Trial 31 finished with value: 0.7932960893854749 and parameters: {'threshold': 0.0265173959809067}. Best is trial 3 with value: 0.7932960893854749.\n",
      "[I 2024-10-05 18:06:06,647] Trial 32 finished with value: 0.7932960893854749 and parameters: {'threshold': 0.07169922706066617}. Best is trial 3 with value: 0.7932960893854749.\n",
      "[I 2024-10-05 18:06:06,677] Trial 33 finished with value: 0.7932960893854749 and parameters: {'threshold': 0.14361639466290196}. Best is trial 3 with value: 0.7932960893854749.\n",
      "[I 2024-10-05 18:06:06,707] Trial 34 finished with value: 0.7932960893854749 and parameters: {'threshold': 0.005167893909904263}. Best is trial 3 with value: 0.7932960893854749.\n",
      "[I 2024-10-05 18:06:06,734] Trial 35 finished with value: 0.6759776536312849 and parameters: {'threshold': 0.715461911280154}. Best is trial 3 with value: 0.7932960893854749.\n",
      "[I 2024-10-05 18:06:06,778] Trial 36 finished with value: 0.7932960893854749 and parameters: {'threshold': 0.1966865493812444}. Best is trial 3 with value: 0.7932960893854749.\n",
      "[I 2024-10-05 18:06:06,804] Trial 37 finished with value: 0.7039106145251397 and parameters: {'threshold': 0.2749947582974264}. Best is trial 3 with value: 0.7932960893854749.\n",
      "[I 2024-10-05 18:06:06,842] Trial 38 finished with value: 0.7932960893854749 and parameters: {'threshold': 0.05724625064908517}. Best is trial 3 with value: 0.7932960893854749.\n",
      "[I 2024-10-05 18:06:06,865] Trial 39 finished with value: 0.6759776536312849 and parameters: {'threshold': 0.7812952831055602}. Best is trial 3 with value: 0.7932960893854749.\n",
      "[I 2024-10-05 18:06:06,936] Trial 40 finished with value: 0.7932960893854749 and parameters: {'threshold': 0.1188972053109518}. Best is trial 3 with value: 0.7932960893854749.\n",
      "[I 2024-10-05 18:06:06,964] Trial 41 finished with value: 0.7932960893854749 and parameters: {'threshold': 0.2053403296119302}. Best is trial 3 with value: 0.7932960893854749.\n",
      "[I 2024-10-05 18:06:06,984] Trial 42 finished with value: 0.7039106145251397 and parameters: {'threshold': 0.2564074754931196}. Best is trial 3 with value: 0.7932960893854749.\n",
      "[I 2024-10-05 18:06:07,007] Trial 43 finished with value: 0.7932960893854749 and parameters: {'threshold': 0.05600008117714212}. Best is trial 3 with value: 0.7932960893854749.\n",
      "[I 2024-10-05 18:06:07,035] Trial 44 finished with value: 0.7932960893854749 and parameters: {'threshold': 0.1594916356346808}. Best is trial 3 with value: 0.7932960893854749.\n",
      "[I 2024-10-05 18:06:07,058] Trial 45 finished with value: 0.7039106145251397 and parameters: {'threshold': 0.5955026380132391}. Best is trial 3 with value: 0.7932960893854749.\n",
      "[I 2024-10-05 18:06:07,085] Trial 46 finished with value: 0.7932960893854749 and parameters: {'threshold': 0.10315585610710869}. Best is trial 3 with value: 0.7932960893854749.\n",
      "[I 2024-10-05 18:06:07,108] Trial 47 finished with value: 0.7039106145251397 and parameters: {'threshold': 0.3086305022646056}. Best is trial 3 with value: 0.7932960893854749.\n",
      "[I 2024-10-05 18:06:07,132] Trial 48 finished with value: 0.7039106145251397 and parameters: {'threshold': 0.23252596231296296}. Best is trial 3 with value: 0.7932960893854749.\n",
      "[I 2024-10-05 18:06:07,158] Trial 49 finished with value: 0.7932960893854749 and parameters: {'threshold': 0.1903706254659897}. Best is trial 3 with value: 0.7932960893854749.\n"
     ]
    },
    {
     "name": "stdout",
     "output_type": "stream",
     "text": [
      "Best threshold: 0.05115433017506266\n"
     ]
    }
   ],
   "source": [
    "# Load Titanic dataset using seaborn\n",
    "titanic = sns.load_dataset('titanic')\n",
    "\n",
    "# Fill missing values for continuous columns with the median and for categorical with mode\n",
    "titanic.fillna({'age': titanic['age'].median(), 'embark_town': titanic['embark_town'].mode()[0], 'fare': titanic['fare'].median()}, inplace=True)\n",
    "\n",
    "# Select features\n",
    "X = titanic[['pclass', 'sex', 'age', 'fare', 'embark_town']]\n",
    "y = titanic['survived']\n",
    "\n",
    "# Bin continuous variables using qcut into 4 bins, and store them in new columns\n",
    "X['age_binned'] = pd.qcut(X['age'], q=4, labels=False)\n",
    "X['fare_binned'] = pd.qcut(X['fare'], q=4, labels=False)\n",
    "\n",
    "# Drop the original 'age' and 'fare' columns as we now have binned versions\n",
    "X = X.drop(['age', 'fare'], axis=1)\n",
    "\n",
    "# Convert categorical variables to 'category' type instead of one-hot encoding\n",
    "X['pclass'] = X['pclass'].astype('category')\n",
    "X['sex'] = X['sex'].astype('category')\n",
    "X['embark_town'] = X['embark_town'].astype('category')\n",
    "\n",
    "# Convert categorical columns into codes (internally they are treated as integers)\n",
    "X['pclass_cat'] = X['pclass'].cat.codes\n",
    "X['sex_cat'] = X['sex'].cat.codes\n",
    "X['embark_town_cat'] = X['embark_town'].cat.codes\n",
    "\n",
    "# Drop the original categorical columns and keep only their numerical representations\n",
    "X = X.drop(['pclass', 'sex', 'embark_town'], axis=1)\n",
    "\n",
    "# Train-test split\n",
    "X_train, X_test, y_train, y_test = train_test_split(X, y, test_size=0.2, random_state=42)\n",
    "\n",
    "# Define the objective function for Optuna\n",
    "def objective(trial):\n",
    "    threshold = trial.suggest_float(\"threshold\", 0.0, 1.0)  # Variance threshold range\n",
    "\n",
    "    # Apply VarianceThreshold\n",
    "    selector = VarianceThreshold(threshold=threshold)\n",
    "    X_train_selected = selector.fit_transform(X_train)\n",
    "    X_test_selected = selector.transform(X_test)\n",
    "\n",
    "    # Train and evaluate the model\n",
    "    model = LogisticRegression(max_iter=1000)  # Added max_iter for convergence\n",
    "    model.fit(X_train_selected, y_train)\n",
    "    y_pred = model.predict(X_test_selected)\n",
    "    \n",
    "    # Compute accuracy\n",
    "    accuracy = accuracy_score(y_test, y_pred)\n",
    "    \n",
    "    return accuracy\n",
    "\n",
    "# Create and optimize the Optuna study\n",
    "study = optuna.create_study(direction=\"maximize\")\n",
    "study.optimize(objective, n_trials=50)\n",
    "\n",
    "# Print the best threshold found by Optuna\n",
    "print(f\"Best threshold: {study.best_params['threshold']}\")"
   ]
  },
  {
   "cell_type": "code",
   "execution_count": 12,
   "metadata": {},
   "outputs": [
    {
     "name": "stdout",
     "output_type": "stream",
     "text": [
      "Maximum hyperparameter value resulting in the same accuracy ([0.7932960893854749]): 0.21577342561928192\n"
     ]
    }
   ],
   "source": [
    "# Get maximum threshold value\n",
    "def get_max_threshold(scores):\n",
    "    scores = sorted(scores, key=lambda x: (x[0], x[1]))\n",
    "    max_accuracy = scores[-1][0]\n",
    "    \n",
    "    # Get the maximum hyperparameter corresponding to the maximum accuracy\n",
    "    max_hyperparameter = max([trial[1] for trial in scores if trial[0] == max_accuracy])\n",
    "    \n",
    "    print(f\"Maximum hyperparameter value resulting in the same accuracy ({max_accuracy}): {max_hyperparameter}\")\n",
    "    return max_hyperparameter\n",
    "\n",
    "scores = [(trial.values, trial.params['threshold']) for trial in study.trials]\n",
    "\n",
    "best_param = get_max_threshold(scores)"
   ]
  },
  {
   "cell_type": "code",
   "execution_count": 13,
   "metadata": {},
   "outputs": [
    {
     "data": {
      "text/plain": [
       "['age_binned', 'fare_binned', 'pclass_cat', 'sex_cat', 'embark_town_cat']"
      ]
     },
     "execution_count": 13,
     "metadata": {},
     "output_type": "execute_result"
    }
   ],
   "source": [
    "# Apply the best threshold to the VarianceThreshold and print selected features\n",
    "selector = VarianceThreshold(threshold=best_param)\n",
    "X_selected = selector.fit_transform(X)\n",
    "selected_features = X.columns[selector.get_support(indices=True)].tolist()\n",
    "\n",
    "selected_features"
   ]
  },
  {
   "cell_type": "markdown",
   "metadata": {},
   "source": [
    "## 필수과제1 고찰\n",
    "\n",
    "1. 임계값 기준은 0.21577342561928192이 최적으로 나왔다.\n",
    "2. 기준을 scikit-learn의 metrics 모듈에서 accuracy_score을 사용했다. \n",
    "3. Optuna 라이브러리를 사용해서 자동으로 검색했다.\n",
    "4. 선택된 feature는 age, fare, pclass, sex, embark_town이다 - 사실상 overfitting이 된 듯."
   ]
  },
  {
   "cell_type": "code",
   "execution_count": 3,
   "metadata": {},
   "outputs": [],
   "source": [
    "# Empty cell for running entire notebook."
   ]
  }
 ],
 "metadata": {
  "kernelspec": {
   "display_name": "bir_env",
   "language": "python",
   "name": "python3"
  },
  "language_info": {
   "codemirror_mode": {
    "name": "ipython",
    "version": 3
   },
   "file_extension": ".py",
   "mimetype": "text/x-python",
   "name": "python",
   "nbconvert_exporter": "python",
   "pygments_lexer": "ipython3",
   "version": "3.12.4"
  }
 },
 "nbformat": 4,
 "nbformat_minor": 2
}
