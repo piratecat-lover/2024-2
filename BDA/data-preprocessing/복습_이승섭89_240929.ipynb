{
 "cells": [
  {
   "cell_type": "markdown",
   "metadata": {},
   "source": [
    "# BDA학회 데이터 분석 전처리 적용반 3주차 복습과제\n",
    "\n",
    "제출자 성명: 이승섭89\n",
    "\n",
    "3주차 코드를 재해석합니다.\n",
    "\n",
    "Python 3.10.14 버전을 사용합니다."
   ]
  },
  {
   "cell_type": "code",
   "execution_count": 1,
   "metadata": {},
   "outputs": [],
   "source": [
    "# Import necessary libraries\n",
    "import numpy as np\n",
    "import pandas as pd\n",
    "import matplotlib.pyplot as plt\n",
    "import seaborn as sns\n",
    "\n",
    "from sklearn.feature_selection import VarianceThreshold, SelectKBest, chi2"
   ]
  },
  {
   "cell_type": "code",
   "execution_count": 2,
   "metadata": {},
   "outputs": [
    {
     "data": {
      "text/plain": [
       "array([[0, 3],\n",
       "       [2, 3],\n",
       "       [1, 5]])"
      ]
     },
     "execution_count": 2,
     "metadata": {},
     "output_type": "execute_result"
    }
   ],
   "source": [
    "# VarianceThreshold example code\n",
    "\n",
    "X = [[0,2,0,3],\n",
    "    [0,1,2,3],\n",
    "    [0,1,1,5]] # dummy data\n",
    "\n",
    "selector =VarianceThreshold(threshold=0.5) # Increase threshold to 0.5\n",
    "X_high_variance =selector.fit_transform(X)\n",
    "\n",
    "X_high_variance"
   ]
  },
  {
   "cell_type": "code",
   "execution_count": 3,
   "metadata": {},
   "outputs": [
    {
     "data": {
      "text/plain": [
       "array([[ 1,  2,  3],\n",
       "       [ 4,  5,  6],\n",
       "       [ 7,  8,  9],\n",
       "       [10, 11, 12]])"
      ]
     },
     "execution_count": 3,
     "metadata": {},
     "output_type": "execute_result"
    }
   ],
   "source": [
    "# Chi-squared test example code\n",
    "\n",
    "X = np.array([[1,2,3],\n",
    "             [4,5,6],\n",
    "             [7,8,9],\n",
    "             [10,11,12]])\n",
    "y = np.array([0,1,0,1]) # Categorical label dummy data (survival)\n",
    "\n",
    "selector=SelectKBest(chi2, k=3) # Select top 3 features (all)\n",
    "X_new_sel=selector.fit_transform(X,y)\n",
    "\n",
    "X_new_sel"
   ]
  },
  {
   "cell_type": "code",
   "execution_count": 4,
   "metadata": {},
   "outputs": [
    {
     "name": "stderr",
     "output_type": "stream",
     "text": [
      "C:\\Users\\Max-PC\\AppData\\Local\\Temp\\ipykernel_26752\\2670497149.py:14: SettingWithCopyWarning: \n",
      "A value is trying to be set on a copy of a slice from a DataFrame.\n",
      "Try using .loc[row_indexer,col_indexer] = value instead\n",
      "\n",
      "See the caveats in the documentation: https://pandas.pydata.org/pandas-docs/stable/user_guide/indexing.html#returning-a-view-versus-a-copy\n",
      "  X['age_binned'] = pd.qcut(X['age'], q=4, labels=False)\n",
      "C:\\Users\\Max-PC\\AppData\\Local\\Temp\\ipykernel_26752\\2670497149.py:15: SettingWithCopyWarning: \n",
      "A value is trying to be set on a copy of a slice from a DataFrame.\n",
      "Try using .loc[row_indexer,col_indexer] = value instead\n",
      "\n",
      "See the caveats in the documentation: https://pandas.pydata.org/pandas-docs/stable/user_guide/indexing.html#returning-a-view-versus-a-copy\n",
      "  X['fare_binned'] = pd.qcut(X['fare'], q=4, labels=False)\n"
     ]
    }
   ],
   "source": [
    "# Chi-squared test on Titanic dataset\n",
    "\n",
    "# Load Titanic dataset using seaborn\n",
    "titanic = sns.load_dataset('titanic')\n",
    "\n",
    "# Fill missing values for continuous columns with the median and for categorical with mode\n",
    "titanic.fillna({'age': titanic['age'].median(), 'embark_town': titanic['embark_town'].mode()[0], 'fare': titanic['fare'].median()}, inplace=True)\n",
    "\n",
    "# Select features\n",
    "X = titanic[['pclass', 'sex', 'age', 'fare', 'embark_town']]\n",
    "y = titanic['survived']\n",
    "\n",
    "# Bin continuous variables using qcut into 4 bins, and store them in new columns\n",
    "X['age_binned'] = pd.qcut(X['age'], q=4, labels=False)\n",
    "X['fare_binned'] = pd.qcut(X['fare'], q=4, labels=False)\n",
    "\n",
    "# Drop the original 'age' and 'fare' columns as we now have binned versions\n",
    "X = X.drop(['age', 'fare'], axis=1)\n",
    "\n",
    "# Convert categorical variables to 'category' type instead of one-hot encoding\n",
    "X['pclass'] = X['pclass'].astype('category')\n",
    "X['sex'] = X['sex'].astype('category')\n",
    "X['embark_town'] = X['embark_town'].astype('category')\n",
    "\n",
    "# Convert categorical columns into codes (internally they are treated as integers)\n",
    "X['pclass_cat'] = X['pclass'].cat.codes\n",
    "X['sex_cat'] = X['sex'].cat.codes\n",
    "X['embark_town_cat'] = X['embark_town'].cat.codes\n",
    "\n",
    "# Drop the original categorical columns and keep only their numerical representations\n",
    "X = X.drop(['pclass', 'sex', 'embark_town'], axis=1)"
   ]
  },
  {
   "cell_type": "code",
   "execution_count": 5,
   "metadata": {},
   "outputs": [],
   "source": [
    "# Chi-squared test for feature selection\n",
    "chi_selector = SelectKBest(chi2, k='all')\n",
    "X_selected_all = chi_selector.fit_transform(X, y)"
   ]
  },
  {
   "cell_type": "code",
   "execution_count": 6,
   "metadata": {},
   "outputs": [
    {
     "data": {
      "text/html": [
       "<div>\n",
       "<style scoped>\n",
       "    .dataframe tbody tr th:only-of-type {\n",
       "        vertical-align: middle;\n",
       "    }\n",
       "\n",
       "    .dataframe tbody tr th {\n",
       "        vertical-align: top;\n",
       "    }\n",
       "\n",
       "    .dataframe thead th {\n",
       "        text-align: right;\n",
       "    }\n",
       "</style>\n",
       "<table border=\"1\" class=\"dataframe\">\n",
       "  <thead>\n",
       "    <tr style=\"text-align: right;\">\n",
       "      <th></th>\n",
       "      <th>Feature</th>\n",
       "      <th>Score</th>\n",
       "    </tr>\n",
       "  </thead>\n",
       "  <tbody>\n",
       "    <tr>\n",
       "      <th>0</th>\n",
       "      <td>age_binned</td>\n",
       "      <td>0.025779</td>\n",
       "    </tr>\n",
       "    <tr>\n",
       "      <th>4</th>\n",
       "      <td>embark_town_cat</td>\n",
       "      <td>10.202525</td>\n",
       "    </tr>\n",
       "    <tr>\n",
       "      <th>2</th>\n",
       "      <td>pclass_cat</td>\n",
       "      <td>54.465866</td>\n",
       "    </tr>\n",
       "    <tr>\n",
       "      <th>1</th>\n",
       "      <td>fare_binned</td>\n",
       "      <td>66.603196</td>\n",
       "    </tr>\n",
       "    <tr>\n",
       "      <th>3</th>\n",
       "      <td>sex_cat</td>\n",
       "      <td>92.702447</td>\n",
       "    </tr>\n",
       "  </tbody>\n",
       "</table>\n",
       "</div>"
      ],
      "text/plain": [
       "           Feature      Score\n",
       "0       age_binned   0.025779\n",
       "4  embark_town_cat  10.202525\n",
       "2       pclass_cat  54.465866\n",
       "1      fare_binned  66.603196\n",
       "3          sex_cat  92.702447"
      ]
     },
     "execution_count": 6,
     "metadata": {},
     "output_type": "execute_result"
    }
   ],
   "source": [
    "# Get the chi-squared scores\n",
    "chi_scores = pd.DataFrame({\n",
    "    'Feature': X.columns,\n",
    "    'Score': chi_selector.scores_\n",
    "}).sort_values(by='Score', ascending=True)\n",
    "\n",
    "chi_scores"
   ]
  },
  {
   "cell_type": "code",
   "execution_count": 7,
   "metadata": {},
   "outputs": [],
   "source": [
    "# Select the top 2 features with chi-squared test\n",
    "chi_selector_top2 = SelectKBest(chi2, k=2)\n",
    "X_selected_top2 = chi_selector_top2.fit_transform(X, y)\n",
    "\n",
    "# Get the selected feature indices and scores\n",
    "selected_indices = chi_selector_top2.get_support(indices=True)\n",
    "selected_features = X.columns[selected_indices]\n",
    "selected_scores = chi_selector.scores_[selected_indices]"
   ]
  },
  {
   "cell_type": "code",
   "execution_count": 8,
   "metadata": {},
   "outputs": [
    {
     "data": {
      "image/png": "[encoded data removed]",
      "text/plain": [
       "<Figure size 800x400 with 1 Axes>"
      ]
     },
     "metadata": {},
     "output_type": "display_data"
    }
   ],
   "source": [
    "# Simple visualization for all features\n",
    "plt.figure(figsize=(8, 4))\n",
    "plt.barh(chi_scores['Feature'], chi_scores['Score'], color='lightgreen')\n",
    "plt.xlabel('Chi-Squared Score')\n",
    "plt.title('Chi-Squared Scores for All Features')\n",
    "plt.show()"
   ]
  },
  {
   "cell_type": "code",
   "execution_count": 9,
   "metadata": {},
   "outputs": [
    {
     "data": {
      "image/png": "[encoded data removed]",
      "text/plain": [
       "<Figure size 800x400 with 1 Axes>"
      ]
     },
     "metadata": {},
     "output_type": "display_data"
    }
   ],
   "source": [
    "# Simple visualization for the top 2 selected features\n",
    "plt.figure(figsize=(8, 4))\n",
    "plt.barh(selected_features, selected_scores, color='lightblue')\n",
    "plt.xlabel('Chi-Squared Score')\n",
    "plt.title('Top 2 Selected Features by Chi-Squared Score')\n",
    "plt.show()"
   ]
  },
  {
   "cell_type": "code",
   "execution_count": null,
   "metadata": {},
   "outputs": [],
   "source": [
    "# Blank cell for running entire notebook."
   ]
  }
 ],
 "metadata": {
  "kernelspec": {
   "display_name": "bir_env",
   "language": "python",
   "name": "python3"
  },
  "language_info": {
   "codemirror_mode": {
    "name": "ipython",
    "version": 3
   },
   "file_extension": ".py",
   "mimetype": "text/x-python",
   "name": "python",
   "nbconvert_exporter": "python",
   "pygments_lexer": "ipython3",
   "version": "3.12.4"
  }
 },
 "nbformat": 4,
 "nbformat_minor": 2
}
