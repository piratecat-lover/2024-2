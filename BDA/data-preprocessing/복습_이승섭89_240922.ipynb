{
 "cells": [
  {
   "cell_type": "markdown",
   "metadata": {},
   "source": [
    "# BDA학회 데이터 분석 전처리 적용반 2주차 복습과제\n",
    "\n",
    "제출자 성명: 이승섭89\n",
    "\n",
    "2주차 코드를 재해석합니다.\n",
    "\n",
    "Python 3.10.14 버전을 사용합니다."
   ]
  },
  {
   "cell_type": "markdown",
   "metadata": {},
   "source": [
    "## 0. Import Relevant Libraries\n",
    "학습에 필요한 라이브러리를 불러옵니다."
   ]
  },
  {
   "cell_type": "code",
   "execution_count": 1,
   "metadata": {},
   "outputs": [],
   "source": [
    "import numpy as np\n",
    "import pandas as pd\n",
    "from sklearn.model_selection import train_test_split\n",
    "from sklearn.linear_model import LinearRegression\n",
    "from sklearn.metrics import mean_squared_error\n",
    "import matplotlib.pyplot as plt\n",
    "import seaborn as sns"
   ]
  },
  {
   "cell_type": "markdown",
   "metadata": {},
   "source": [
    "## 1. Find Relevant Features\n",
    "여러 독립변수 (feature)과 종속변수 (label)에서 종속변수에 영향을 많이 끼치는 독립변수를 추출합니다."
   ]
  },
  {
   "cell_type": "markdown",
   "metadata": {},
   "source": [
    "### 0. Prepare dataset"
   ]
  },
  {
   "cell_type": "code",
   "execution_count": 2,
   "metadata": {},
   "outputs": [],
   "source": [
    "# Seed\n",
    "np.random.seed(42)\n",
    "\n",
    "# Data generation function\n",
    "def generate_data(n_samples):\n",
    "    X1 = np.random.rand(n_samples) * 100  # Strong correlation with y\n",
    "    X2 = np.random.rand(n_samples) * 100  # Strong correlation with y\n",
    "    X3 = np.random.rand(n_samples) * 100  # Weak correlation with y\n",
    "    X4 = np.random.rand(n_samples) * 100  # No correlation with y\n",
    "    X_noise = np.random.rand(n_samples) * 100  # Random noise\n",
    "    y = 3 * X1 + 2 * X2**2 + np.random.randn(n_samples) * 10  # Target variable, influenced by X1 and X2 (and some noise)\n",
    "\n",
    "    df = pd.DataFrame({\n",
    "        'X1': X1,\n",
    "        'X2': X2,\n",
    "        'X3': X3,\n",
    "        'X4': X4,\n",
    "        'X_noise': X_noise,\n",
    "        'y': y\n",
    "    })\n",
    "    \n",
    "    return df\n",
    "\n",
    "# Create the initial dataset\n",
    "df = generate_data(1000)"
   ]
  },
  {
   "cell_type": "code",
   "execution_count": 3,
   "metadata": {},
   "outputs": [
    {
     "name": "stdout",
     "output_type": "stream",
     "text": [
      "Correlation matrix:\n",
      "                X1        X2        X3        X4   X_noise         y\n",
      "X1       1.000000  0.029310  0.014518 -0.029424  0.034785  0.034323\n",
      "X2       0.029310  1.000000  0.027262 -0.005791  0.032911  0.968180\n",
      "X3       0.014518  0.027262  1.000000 -0.013560 -0.008858  0.029630\n",
      "X4      -0.029424 -0.005791 -0.013560  1.000000 -0.044812 -0.014283\n",
      "X_noise  0.034785  0.032911 -0.008858 -0.044812  1.000000  0.026530\n",
      "y        0.034323  0.968180  0.029630 -0.014283  0.026530  1.000000\n"
     ]
    }
   ],
   "source": [
    "corr_matrix = df.corr()\n",
    "print(\"Correlation matrix:\\n\", corr_matrix)"
   ]
  },
  {
   "cell_type": "markdown",
   "metadata": {},
   "source": [
    "### 1. Filter features by correlation"
   ]
  },
  {
   "cell_type": "code",
   "execution_count": 4,
   "metadata": {},
   "outputs": [
    {
     "name": "stdout",
     "output_type": "stream",
     "text": [
      "\n",
      "Selected features:\n",
      " Index(['X2'], dtype='object')\n"
     ]
    }
   ],
   "source": [
    "threshold = 0.5\n",
    "selected_features = corr_matrix['y'][abs(corr_matrix['y']) > threshold].index.drop('y')\n",
    "print(\"\\nSelected features:\\n\", selected_features)"
   ]
  },
  {
   "cell_type": "markdown",
   "metadata": {},
   "source": [
    "### 2. Train Model On Features"
   ]
  },
  {
   "cell_type": "code",
   "execution_count": 5,
   "metadata": {},
   "outputs": [],
   "source": [
    "# Train and evaluate model function\n",
    "def evaluate_model(df, selected_features):\n",
    "\n",
    "    X = df[selected_features]\n",
    "    y = df['y']\n",
    "    X_train, X_test, y_train, y_test = train_test_split(X, y, test_size=0.2, random_state=111)\n",
    "\n",
    "    model = LinearRegression()\n",
    "    model.fit(X_train, y_train)\n",
    "    \n",
    "    y_pred = model.predict(X_test)\n",
    "    mse = mean_squared_error(y_test, y_pred)\n",
    "    \n",
    "    return mse"
   ]
  },
  {
   "cell_type": "code",
   "execution_count": 6,
   "metadata": {},
   "outputs": [
    {
     "name": "stdout",
     "output_type": "stream",
     "text": [
      "\n",
      "MSE with selected features: 2324571.2048381604\n",
      "MSE with all features: 2339749.5902585215\n"
     ]
    }
   ],
   "source": [
    "# Selected features\n",
    "mse_selected = evaluate_model(df, selected_features)\n",
    "print(\"\\nMSE with selected features:\", mse_selected)\n",
    "\n",
    "# All features\n",
    "all_features = df.columns.drop('y')\n",
    "mse_full = evaluate_model(df, all_features)\n",
    "print(\"MSE with all features:\", mse_full)"
   ]
  },
  {
   "cell_type": "markdown",
   "metadata": {},
   "source": [
    "## 2. Exclude Collinear Features\n",
    "독립변수 (feature) 중 서로 상관계수가 높은 변수 중 하나를 제거합니다. 이를 통해 오차 편향을 줄일 수 있습니다."
   ]
  },
  {
   "cell_type": "markdown",
   "metadata": {},
   "source": [
    "### 0. Prepare dataset"
   ]
  },
  {
   "cell_type": "code",
   "execution_count": 7,
   "metadata": {},
   "outputs": [],
   "source": [
    "# Data generation function\n",
    "def generate_data_with_collinearity(n_samples):\n",
    "    X1 = np.random.rand(n_samples) * 100\n",
    "    X2 = X1 + np.random.rand(n_samples) * 10  # X1 and X2 highly collinear\n",
    "    X3 = X1**np.random.rand(n_samples) * 100 # X1 and X3 non-linearly related\n",
    "    X4 = np.random.rand(n_samples) * 100\n",
    "    X_noise = np.random.rand(n_samples) * 100\n",
    "    y = 3 * X1 + 2 * X3 + X4**2 + np.random.randn(n_samples) * 10\n",
    "    \n",
    "    df = pd.DataFrame({\n",
    "        'X1': X1,\n",
    "        'X2': X2,\n",
    "        'X3': X3,\n",
    "        'X4': X4,\n",
    "        'X_noise': X_noise,\n",
    "        'y': y\n",
    "    })\n",
    "    \n",
    "    return df\n",
    "\n",
    "# Create the dataset with collinearity\n",
    "df_collinear = generate_data_with_collinearity(1000)"
   ]
  },
  {
   "cell_type": "code",
   "execution_count": 8,
   "metadata": {},
   "outputs": [
    {
     "name": "stdout",
     "output_type": "stream",
     "text": [
      "\n",
      "Correlation matrix:\n",
      "                X1        X2        X3        X4   X_noise\n",
      "X1       1.000000  0.995216  0.366946 -0.034015  0.053546\n",
      "X2       0.995216  1.000000  0.358673 -0.036019  0.053226\n",
      "X3       0.366946  0.358673  1.000000 -0.002443  0.026393\n",
      "X4      -0.034015 -0.036019 -0.002443  1.000000 -0.045078\n",
      "X_noise  0.053546  0.053226  0.026393 -0.045078  1.000000\n"
     ]
    }
   ],
   "source": [
    "corr_matrix_collinear = df_collinear.drop(columns=['y']).corr()\n",
    "print(\"\\nCorrelation matrix:\\n\", corr_matrix_collinear)"
   ]
  },
  {
   "cell_type": "code",
   "execution_count": 9,
   "metadata": {},
   "outputs": [
    {
     "data": {
      "image/png": "[encoded data removed]",
      "text/plain": [
       "<Figure size 1000x600 with 2 Axes>"
      ]
     },
     "metadata": {},
     "output_type": "display_data"
    }
   ],
   "source": [
    "plt.figure(figsize=(10, 6))\n",
    "sns.heatmap(corr_matrix_collinear, annot=True, cmap=\"coolwarm\")\n",
    "plt.title(\"Correlation Heatmap\")\n",
    "plt.show()"
   ]
  },
  {
   "cell_type": "markdown",
   "metadata": {},
   "source": [
    "### 1. Filter Features by Collinearity"
   ]
  },
  {
   "cell_type": "code",
   "execution_count": 10,
   "metadata": {},
   "outputs": [
    {
     "name": "stdout",
     "output_type": "stream",
     "text": [
      "\n",
      "Reduced dataset columns:\n",
      " Index(['X1', 'X3', 'X4', 'X_noise'], dtype='object')\n"
     ]
    }
   ],
   "source": [
    "# Filter function\n",
    "def drop_collinear_features(df, threshold=0.8):\n",
    "    corr_matrix = df.corr()\n",
    "    to_drop = set()\n",
    "\n",
    "    for i in range(len(corr_matrix.columns)):\n",
    "        for j in range(i):\n",
    "            if abs(corr_matrix.iloc[i, j]) > threshold:\n",
    "                to_drop.add(corr_matrix.columns[i])\n",
    "    \n",
    "    return df.drop(columns=list(to_drop))\n",
    "\n",
    "df_reduced = drop_collinear_features(df_collinear.drop(columns=['y']))\n",
    "print(\"\\nReduced dataset columns:\\n\", df_reduced.columns)"
   ]
  },
  {
   "cell_type": "markdown",
   "metadata": {},
   "source": [
    "### 2. Train Model on Features"
   ]
  },
  {
   "cell_type": "code",
   "execution_count": 11,
   "metadata": {},
   "outputs": [
    {
     "name": "stdout",
     "output_type": "stream",
     "text": [
      "\n",
      "MSE with selected features: 612991.800630083\n",
      "MSE with all features: 614041.0790295362\n"
     ]
    }
   ],
   "source": [
    "# Reduced features\n",
    "mse_reduced = evaluate_model(df_collinear, df_reduced.columns)\n",
    "print(\"\\nMSE with selected features:\", mse_reduced)\n",
    "\n",
    "# All features\n",
    "mse_full_collinear = evaluate_model(df_collinear, df_collinear.columns.drop('y'))\n",
    "print(\"MSE with all features:\", mse_full_collinear)"
   ]
  },
  {
   "cell_type": "code",
   "execution_count": null,
   "metadata": {},
   "outputs": [],
   "source": [
    "# Blank cell for running whole notebook."
   ]
  }
 ],
 "metadata": {
  "kernelspec": {
   "display_name": "deep-learning-24-windows",
   "language": "python",
   "name": "python3"
  },
  "language_info": {
   "codemirror_mode": {
    "name": "ipython",
    "version": 3
   },
   "file_extension": ".py",
   "mimetype": "text/x-python",
   "name": "python",
   "nbconvert_exporter": "python",
   "pygments_lexer": "ipython3",
   "version": "3.10.14"
  }
 },
 "nbformat": 4,
 "nbformat_minor": 2
}
