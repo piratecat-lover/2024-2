{
 "cells": [
  {
   "cell_type": "markdown",
   "id": "89ad41eb",
   "metadata": {},
   "source": [
    "### sklearn.feature_selection을 사용하여 분석"
   ]
  },
  {
   "cell_type": "markdown",
   "id": "e7db80e2",
   "metadata": {},
   "source": [
    "- 분산으로 데이터의 피처를 선택한다.\n",
    "    - 분산이 낮은 것, 분산이 낮은 피처를 제거한다.\n",
    "    - 분산이 작은 피처는 거의 변화가 없다-> 학습 기여에 덜 한다는 가정\n",
    "    - 임계값을 정해서 피처를 제거한다."
   ]
  },
  {
   "cell_type": "markdown",
   "id": "191f1c54",
   "metadata": {},
   "source": [
    "### 1. **`VarianceThreshold`**\n",
    "\n",
    "- **`threshold`**: 분산이 이 값 이하인 피처를 제거합니다. 기본값은 `0.0`으로, 분산이 0인 피처만 제거합니다.\n",
    "\n",
    "- fit(X): 각 피처의 분산을 계산하여, 임계값에 따라 피처 선택 준비.\n",
    "- fit_transform(X): fit을 수행한 후, 선택된 피처들만 변환하여 반환.\n",
    "- transform(X): 학습된 기준을 바탕으로 피처 선택을 적용.\n",
    "- get_support(indices=False): 선택된 피처의 인덱스나 Boolean 마스크 반환.\n",
    "- inverse_transform(X): 선택되지 않은 피처들을 0으로 채워서 원래 공간으로 복원."
   ]
  },
  {
   "cell_type": "markdown",
   "id": "f2ae79f1",
   "metadata": {},
   "source": [
    "2. **`SelectKBest`**\n",
    "\n",
    "- **`score_func`**: 각 피처의 중요도를 평가하기 위한 통계적 검정 함수입니다. 주요 함수는 아래와 같습니다:\n",
    "  - **`chi2`**: 카이제곱 검정을 사용한 피처 선택.\n",
    "  - **`f_classif`**: ANOVA F-값을 사용한 피처 선택 (연속형 변수와 범주형 변수 간의 관계 분석에 유용).\n",
    "  - **`mutual_info_classif`**: 상호 정보량을 기반으로 피처 선택.\n",
    "\n",
    "- **`k`**: 선택할 피처의 수. 기본값은 10개이며, k개의 상위 피처를 선택합니다.\n",
    "\n",
    "\n",
    "- fit(X, y): 주어진 X와 y 데이터에 대해 카이제곱 값을 계산하여 상위 k개의 중요한 피처를 찾습니다.\n",
    "- fit_transform(X, y): fit과 동시에 선택된 피처들로 변환된 데이터셋을 반환합니다.\n",
    "- transform(X): 학습된 기준에 따라 상위 k개의 피처만 선택하여 반환합니다.\n",
    "- get_support(indices=True): 선택된 피처의 인덱스를 반환하거나, Boolean 마스크를 반환하여 어떤 피처가 선택되었는지 확인합니다.\n",
    "- scores_: 각 피처의 카이제곱 점수를 확인할 수 있습니다.\n",
    "- pvalues_: 각 피처의 p-value 값을 확인하여, 해당 피처가 종속변수에 유의미한 영향을 미치는지를 평가합니다."
   ]
  },
  {
   "cell_type": "code",
   "execution_count": 7,
   "id": "5232f389",
   "metadata": {},
   "outputs": [],
   "source": [
    "## 분산에 대한 예시 코드\n",
    "from sklearn.feature_selection import VarianceThreshold\n",
    "\n",
    "X = [[0,2,0,3],\n",
    "    [0,1,2,3],\n",
    "    [0,1,1,5]]\n",
    "\n",
    "# 분산의 임계값을 0.2\n",
    "\n",
    "selector =VarianceThreshold(threshold=0.2)\n",
    "X_high_variance =selector.fit_transform(X)"
   ]
  },
  {
   "cell_type": "code",
   "execution_count": 8,
   "id": "5e86d57c",
   "metadata": {},
   "outputs": [
    {
     "data": {
      "text/plain": [
       "array([[2, 0, 3],\n",
       "       [1, 2, 3],\n",
       "       [1, 1, 5]])"
      ]
     },
     "execution_count": 8,
     "metadata": {},
     "output_type": "execute_result"
    }
   ],
   "source": [
    "X_high_variance"
   ]
  },
  {
   "cell_type": "markdown",
   "id": "83530ec9",
   "metadata": {},
   "source": [
    "- 분산에 대한 수학적 정의\n",
    "    - 평균에서 얼마나 떨어져 있는지 계산\n",
    "    - 값들이 평균값과 거의 차이가 없으면 분산이 작다.\n",
    "        - 피처들의 값이 거의 변하지 않고, 동일한 값들이 반복, 서로 매우 비슷한 의미 \n",
    "        - 하나의 피처가 거의 같은 값을 가지고 있다. 해당 피처는 중요한 정보를 제공하지 못할 가능성이 크다.\n",
    "        - 예측을 하는데 큰 도움을 주지 못한다.\n",
    "        - 예측을 하는데 왜 큰 도움을 주지 못하죠?\n",
    "        - 정보가 부족\n",
    "        - 모델에 부정적인 성능의 영향\n",
    "            - 특성이 모두 동일해 버리면 예측하기 어려울 수 있다.\n",
    "        - 과적합 이슈도 발생\n",
    "    - 평균값에 많이 떨어져 있으면 분산이 커진다.\n",
    "        - 분산이 높다고 무조건 좋은 피처, 선택해야 하는 피처 이건 아니다.\n",
    "        - 고려할 우선순위는 맞지만 -> 도메인과 같이 봐야한다!\n",
    "        \n",
    "    - 임계값\n",
    "        - 기본적으로 분산이 0 \n",
    "        - 0.1~0.5 사이 : 통상적으로 적정, 다만 도메인에 따라 다를 수 있다.\n",
    "            - 비율 기준\n",
    "            - 직접 피처의 분산 계산해서 탐색\n",
    "            - 실험 -> 다시 추가, 제거 하는 형태로 성능을 테스트할 수 있다."
   ]
  },
  {
   "cell_type": "markdown",
   "id": "d1bca789",
   "metadata": {},
   "source": [
    "- Chi2 (카이제곱)\n",
    "    - 카이제곱이 높다 낮다 -> 해당 피처가 종속변수와 강한 연관성 등이 있다.\n",
    "    - 카이제곱의 기본 개념\n",
    "        - 관측된 데이터와 기대되는 데이터이 차이를 계산\n",
    "        - 독립변수와 종속변수가 완전히 독립적이라면 기대되는 값이 있는데 실제 관측된 값과 이 기댓값이 얼마나 다른지 계산하는 방식\n",
    "        - 독립성 무시하면 안 된다.\n",
    "        - 이 값이 높다라는 것 : 관측되는 값과 기대값이랑 차이가 매우 크다\n",
    "            - 이 차이가 크다라는 건? 두 변수의 관계가 매우 강하다.\n",
    "    - 카이제곱 값이 높다 의미:\n",
    "        - 해당 피처가 종속변수에 대해 예상보다 더 큰 기대의 변화를 만든다는 의미.\n",
    "        - 타이타닉 데이터라고 하면 -> 성별에 따라 생존 여부에 크게 달라진다 -> 생존에 중요한 영향을 미친다.\n",
    "    - 카이제곱 값이 높은 피처\n",
    "        - 중요한 피처라고 보고 종속변수를 잘 설명할 수 있는 피처로 간주한다. 이 피처를 모델에 학습에 넣으면 차이를 정확히 짚어주니깐 잘 예측할 수 있다.\n",
    "        \n",
    "    - 범주형, 연속형\n",
    "        - 범주형 데이터 핏하지만, 연속형 같은 경우는 범주형으로 변환을 해야 한다.\n",
    "        \n",
    "     - p_value 값을 통해 (유의확률)\n",
    "     - p_value 0.05 미만일 때, 독립변수와 종속변수 사이에 유의미한 관계가 있다고 판단\n",
    "     - 카이제곱값 뿐만 아니라 p-value 같이 고려하는 것"
   ]
  },
  {
   "cell_type": "code",
   "execution_count": 11,
   "id": "3a19307c",
   "metadata": {},
   "outputs": [],
   "source": [
    "from sklearn.feature_selection import SelectKBest, chi2\n",
    "import numpy as np"
   ]
  },
  {
   "cell_type": "code",
   "execution_count": 12,
   "id": "559d868c",
   "metadata": {},
   "outputs": [],
   "source": [
    "X = np.array([[1,2,3],\n",
    "             [4,5,6],\n",
    "             [7,8,9],\n",
    "             [10,11,12]])\n",
    "y = np.array([0,1,0,1]) # 타겟값 범주형 (생존율)"
   ]
  },
  {
   "cell_type": "code",
   "execution_count": 13,
   "id": "312ed177",
   "metadata": {},
   "outputs": [],
   "source": [
    "selector=SelectKBest(chi2, k=2) #상위 2개 피처 선택하겠다."
   ]
  },
  {
   "cell_type": "code",
   "execution_count": 15,
   "id": "057ecb25",
   "metadata": {},
   "outputs": [],
   "source": [
    "X_new_sel=selector.fit_transform(X,y)"
   ]
  },
  {
   "cell_type": "code",
   "execution_count": 16,
   "id": "7aff1a7b",
   "metadata": {},
   "outputs": [
    {
     "data": {
      "text/plain": [
       "array([[ 1,  2],\n",
       "       [ 4,  5],\n",
       "       [ 7,  8],\n",
       "       [10, 11]])"
      ]
     },
     "execution_count": 16,
     "metadata": {},
     "output_type": "execute_result"
    }
   ],
   "source": [
    "X_new_sel"
   ]
  },
  {
   "cell_type": "markdown",
   "id": "9aac86a0",
   "metadata": {},
   "source": [
    "## 타이타닉 데이터로 featrue_selection 해보자!"
   ]
  },
  {
   "cell_type": "code",
   "execution_count": 19,
   "id": "ee07b569",
   "metadata": {},
   "outputs": [],
   "source": [
    "import seaborn as sns\n",
    "import pandas as pd\n",
    "from sklearn.preprocessing import OneHotEncoder\n",
    "import matplotlib.pyplot as plt"
   ]
  },
  {
   "cell_type": "code",
   "execution_count": 20,
   "id": "f141d923",
   "metadata": {},
   "outputs": [],
   "source": [
    "tt = sns.load_dataset('titanic')"
   ]
  },
  {
   "cell_type": "code",
   "execution_count": 22,
   "id": "472ad115",
   "metadata": {},
   "outputs": [],
   "source": [
    "#결측치 처리\n",
    "tt['age'].fillna(tt['age'].median(), inplace=True)\n",
    "tt['embark_town'].fillna(tt['embark_town'].mode()[0], inplace=True)\n",
    "tt['fare'].fillna(tt['fare'].median(), inplace=True)"
   ]
  },
  {
   "cell_type": "code",
   "execution_count": 30,
   "id": "ee1bfcc6",
   "metadata": {},
   "outputs": [],
   "source": [
    "#사용할 피처 정리\n",
    "\n",
    "X = tt[['pclass','sex','age','fare','embark_town']]\n",
    "y = tt['survived']"
   ]
  },
  {
   "cell_type": "code",
   "execution_count": 32,
   "id": "223a49eb",
   "metadata": {},
   "outputs": [
    {
     "name": "stderr",
     "output_type": "stream",
     "text": [
      "/var/folders/sz/167qwb595mqgwry5mm8685n00000gn/T/ipykernel_68074/1210580902.py:4: SettingWithCopyWarning: \n",
      "A value is trying to be set on a copy of a slice from a DataFrame.\n",
      "Try using .loc[row_indexer,col_indexer] = value instead\n",
      "\n",
      "See the caveats in the documentation: https://pandas.pydata.org/pandas-docs/stable/user_guide/indexing.html#returning-a-view-versus-a-copy\n",
      "  X.loc[:, 'age_binned']=pd.qcut(X['age'], q=4, labels=False)\n",
      "/var/folders/sz/167qwb595mqgwry5mm8685n00000gn/T/ipykernel_68074/1210580902.py:5: SettingWithCopyWarning: \n",
      "A value is trying to be set on a copy of a slice from a DataFrame.\n",
      "Try using .loc[row_indexer,col_indexer] = value instead\n",
      "\n",
      "See the caveats in the documentation: https://pandas.pydata.org/pandas-docs/stable/user_guide/indexing.html#returning-a-view-versus-a-copy\n",
      "  X.loc[:, 'fare_binned']=pd.qcut(X['fare'], q=4, labels=False)\n"
     ]
    }
   ],
   "source": [
    "##연속형 변수를 범주형 \n",
    "##qcut 분위수로\n",
    "\n",
    "X.loc[:, 'age_binned']=pd.qcut(X['age'], q=4, labels=False)\n",
    "X.loc[:, 'fare_binned']=pd.qcut(X['fare'], q=4, labels=False)"
   ]
  },
  {
   "cell_type": "code",
   "execution_count": 35,
   "id": "1b1ee764",
   "metadata": {},
   "outputs": [],
   "source": [
    "#원핫 인코더를 잡아서 진행\n",
    "X=X.drop(['age','fare'], axis=1)\n",
    "onehot_encoder =OneHotEncoder(sparse=False, drop='first')"
   ]
  },
  {
   "cell_type": "code",
   "execution_count": 37,
   "id": "f9c13ca6",
   "metadata": {},
   "outputs": [
    {
     "name": "stderr",
     "output_type": "stream",
     "text": [
      "/opt/anaconda3/envs/bda/lib/python3.8/site-packages/sklearn/preprocessing/_encoders.py:868: FutureWarning: `sparse` was renamed to `sparse_output` in version 1.2 and will be removed in 1.4. `sparse_output` is ignored unless you leave `sparse` to its default value.\n",
      "  warnings.warn(\n"
     ]
    }
   ],
   "source": [
    "X_encoded = onehot_encoder.fit_transform(X)"
   ]
  },
  {
   "cell_type": "code",
   "execution_count": 40,
   "id": "5b68e39e",
   "metadata": {},
   "outputs": [
    {
     "data": {
      "text/plain": [
       "array([[0., 1., 1., ..., 0., 0., 0.],\n",
       "       [0., 0., 0., ..., 0., 0., 1.],\n",
       "       [0., 1., 0., ..., 1., 0., 0.],\n",
       "       ...,\n",
       "       [0., 1., 0., ..., 0., 1., 0.],\n",
       "       [0., 0., 1., ..., 0., 1., 0.],\n",
       "       [0., 1., 1., ..., 0., 0., 0.]])"
      ]
     },
     "execution_count": 40,
     "metadata": {},
     "output_type": "execute_result"
    }
   ],
   "source": [
    "X_encoded"
   ]
  },
  {
   "cell_type": "code",
   "execution_count": 41,
   "id": "09b83b77",
   "metadata": {},
   "outputs": [],
   "source": [
    "##카이제곱 검정 수행\n",
    "chi_selector =SelectKBest(chi2, k='all')"
   ]
  },
  {
   "cell_type": "code",
   "execution_count": 44,
   "id": "ef648916",
   "metadata": {},
   "outputs": [],
   "source": [
    "#feature_selection으로 학습\n",
    "X_selected_all =chi_selector.fit_transform(X_encoded,y)"
   ]
  },
  {
   "cell_type": "code",
   "execution_count": 45,
   "id": "2ee1bf80",
   "metadata": {},
   "outputs": [],
   "source": [
    "chi_scores =pd.DataFrame({\n",
    "    'Feature': onehot_encoder.get_feature_names_out(X.columns),\n",
    "    'Score':chi_selector.scores_}).sort_values(by='Score', ascending=True)"
   ]
  },
  {
   "cell_type": "code",
   "execution_count": 46,
   "id": "f6c85c92",
   "metadata": {},
   "outputs": [
    {
     "data": {
      "text/html": [
       "<div>\n",
       "<style scoped>\n",
       "    .dataframe tbody tr th:only-of-type {\n",
       "        vertical-align: middle;\n",
       "    }\n",
       "\n",
       "    .dataframe tbody tr th {\n",
       "        vertical-align: top;\n",
       "    }\n",
       "\n",
       "    .dataframe thead th {\n",
       "        text-align: right;\n",
       "    }\n",
       "</style>\n",
       "<table border=\"1\" class=\"dataframe\">\n",
       "  <thead>\n",
       "    <tr style=\"text-align: right;\">\n",
       "      <th></th>\n",
       "      <th>Feature</th>\n",
       "      <th>Score</th>\n",
       "    </tr>\n",
       "  </thead>\n",
       "  <tbody>\n",
       "    <tr>\n",
       "      <th>7</th>\n",
       "      <td>age_binned_3</td>\n",
       "      <td>0.001672</td>\n",
       "    </tr>\n",
       "    <tr>\n",
       "      <th>3</th>\n",
       "      <td>embark_town_Queenstown</td>\n",
       "      <td>0.010847</td>\n",
       "    </tr>\n",
       "    <tr>\n",
       "      <th>6</th>\n",
       "      <td>age_binned_2</td>\n",
       "      <td>1.615444</td>\n",
       "    </tr>\n",
       "    <tr>\n",
       "      <th>5</th>\n",
       "      <td>age_binned_1</td>\n",
       "      <td>3.612659</td>\n",
       "    </tr>\n",
       "    <tr>\n",
       "      <th>9</th>\n",
       "      <td>fare_binned_2</td>\n",
       "      <td>4.747353</td>\n",
       "    </tr>\n",
       "    <tr>\n",
       "      <th>4</th>\n",
       "      <td>embark_town_Southampton</td>\n",
       "      <td>5.489205</td>\n",
       "    </tr>\n",
       "    <tr>\n",
       "      <th>8</th>\n",
       "      <td>fare_binned_1</td>\n",
       "      <td>6.102089</td>\n",
       "    </tr>\n",
       "    <tr>\n",
       "      <th>0</th>\n",
       "      <td>pclass_2</td>\n",
       "      <td>6.160767</td>\n",
       "    </tr>\n",
       "    <tr>\n",
       "      <th>10</th>\n",
       "      <td>fare_binned_3</td>\n",
       "      <td>36.518405</td>\n",
       "    </tr>\n",
       "    <tr>\n",
       "      <th>1</th>\n",
       "      <td>pclass_3</td>\n",
       "      <td>41.553071</td>\n",
       "    </tr>\n",
       "    <tr>\n",
       "      <th>2</th>\n",
       "      <td>sex_male</td>\n",
       "      <td>92.702447</td>\n",
       "    </tr>\n",
       "  </tbody>\n",
       "</table>\n",
       "</div>"
      ],
      "text/plain": [
       "                    Feature      Score\n",
       "7              age_binned_3   0.001672\n",
       "3    embark_town_Queenstown   0.010847\n",
       "6              age_binned_2   1.615444\n",
       "5              age_binned_1   3.612659\n",
       "9             fare_binned_2   4.747353\n",
       "4   embark_town_Southampton   5.489205\n",
       "8             fare_binned_1   6.102089\n",
       "0                  pclass_2   6.160767\n",
       "10            fare_binned_3  36.518405\n",
       "1                  pclass_3  41.553071\n",
       "2                  sex_male  92.702447"
      ]
     },
     "execution_count": 46,
     "metadata": {},
     "output_type": "execute_result"
    }
   ],
   "source": [
    "chi_scores"
   ]
  },
  {
   "cell_type": "code",
   "execution_count": 47,
   "id": "d81fc3f3",
   "metadata": {},
   "outputs": [],
   "source": [
    "# 상위 2개만 찍어줘!\n",
    "\n",
    "chi_selector =SelectKBest(chi2, k=2)\n",
    "X_selected =chi_selector.fit_transform(X_encoded,y)"
   ]
  },
  {
   "cell_type": "code",
   "execution_count": 48,
   "id": "31f71109",
   "metadata": {},
   "outputs": [],
   "source": [
    "#선택된 피처들 점수 산출\n",
    "selected_indices=chi_selector.get_support(indices=True)\n",
    "selected_features=onehot_encoder.get_feature_names_out(X.columns)[selected_indices]\n",
    "selected_scores = chi_selector.scores_[selected_indices]"
   ]
  },
  {
   "cell_type": "code",
   "execution_count": 53,
   "id": "6a6497b4",
   "metadata": {},
   "outputs": [
    {
     "data": {
      "text/plain": [
       "<BarContainer object of 11 artists>"
      ]
     },
     "execution_count": 53,
     "metadata": {},
     "output_type": "execute_result"
    },
    {
     "data": {
      "image/png": "[encoded data removed]",
      "text/plain": [
       "<Figure size 800x400 with 1 Axes>"
      ]
     },
     "metadata": {},
     "output_type": "display_data"
    }
   ],
   "source": [
    "##간단한 시각화\n",
    "plt.figure(figsize=(8,4))\n",
    "plt.barh(chi_scores['Feature'], chi_scores['Score'], color='lightgreen')"
   ]
  },
  {
   "cell_type": "code",
   "execution_count": 52,
   "id": "7ab4aebc",
   "metadata": {},
   "outputs": [
    {
     "data": {
      "text/plain": [
       "<BarContainer object of 2 artists>"
      ]
     },
     "execution_count": 52,
     "metadata": {},
     "output_type": "execute_result"
    },
    {
     "data": {
      "image/png": "[encoded data removed]",
      "text/plain": [
       "<Figure size 800x400 with 1 Axes>"
      ]
     },
     "metadata": {},
     "output_type": "display_data"
    }
   ],
   "source": [
    "##간단한 시각화\n",
    "plt.figure(figsize=(8,4))\n",
    "plt.barh(selected_features, selected_scores, color='lightblue')"
   ]
  },
  {
   "cell_type": "markdown",
   "id": "77f6c2f8",
   "metadata": {},
   "source": [
    "## 필수과제1 (타이타닉데이터셋)\n",
    "- VarianceThreshold -타이타닉 데이터 feature_selection\n",
    "    - 임계값 기준을 몇으로 했는지?\n",
    "    - 그 기준의 이유\n",
    "    - 어떤 식으로 찾았는지!\n",
    "- 어떤 피처가 선택이 되었나?\n",
    "\n",
    "## 필수과제2 (직접 제가 드린 데이터셋)\n",
    "- 정말 피처가 많은 데이터\n",
    "- 그 데이터를 피처 셀렉션해서 실제 어떤 피처만 추출할지? \n",
    "    - 기준에 대한 이유\n",
    "    - 코드(주석설명)\n",
    "    - 실제 선택된 피처는 무엇인지?"
   ]
  },
  {
   "cell_type": "code",
   "execution_count": null,
   "id": "ff299207",
   "metadata": {},
   "outputs": [],
   "source": []
  }
 ],
 "metadata": {
  "kernelspec": {
   "display_name": "Python 3 (ipykernel)",
   "language": "python",
   "name": "python3"
  },
  "language_info": {
   "codemirror_mode": {
    "name": "ipython",
    "version": 3
   },
   "file_extension": ".py",
   "mimetype": "text/x-python",
   "name": "python",
   "nbconvert_exporter": "python",
   "pygments_lexer": "ipython3",
   "version": "3.8.16"
  }
 },
 "nbformat": 4,
 "nbformat_minor": 5
}
