{
 "cells": [
  {
   "cell_type": "markdown",
   "metadata": {},
   "source": [
    "# BDA학회 데이터 분석 전처리 적용반 3주차 필수과제\n",
    "\n",
    "제출자 성명: 이승섭89\n",
    "\n",
    "필수과제1 (Titanic Dataset)에 VarianceThreshold을 적용합니다.\n",
    "\n",
    "필수과제2 (bank-additional.csv)에 여러 가지 feature selection을 수행합니다.\n",
    "\n",
    "Python 3.10.14 버전을 사용합니다."
   ]
  },
  {
   "cell_type": "markdown",
   "metadata": {},
   "source": [
    "\n",
    "## 필수과제2 (직접 제가 드린 데이터셋)\n",
    "- 정말 피처가 많은 데이터\n",
    "- 그 데이터를 피처 셀렉션해서 실제 어떤 피처만 추출할지? \n",
    "    - 기준에 대한 이유\n",
    "    - 코드(주석설명)\n",
    "    - 실제 선택된 피처는 무엇인지?\n"
   ]
  },
  {
   "cell_type": "code",
   "execution_count": 15,
   "metadata": {},
   "outputs": [],
   "source": [
    "# Import relevant libraries\n",
    "import pandas as pd\n",
    "from sklearn.model_selection import train_test_split\n",
    "from sklearn.preprocessing import LabelEncoder, KBinsDiscretizer\n",
    "from sklearn.feature_selection import SelectKBest, chi2, mutual_info_classif, SelectFromModel, RFE\n",
    "from sklearn.ensemble import RandomForestClassifier"
   ]
  },
  {
   "cell_type": "code",
   "execution_count": 16,
   "metadata": {},
   "outputs": [
    {
     "name": "stdout",
     "output_type": "stream",
     "text": [
      "<class 'pandas.core.frame.DataFrame'>\n",
      "RangeIndex: 4119 entries, 0 to 4118\n",
      "Data columns (total 21 columns):\n",
      " #   Column          Non-Null Count  Dtype  \n",
      "---  ------          --------------  -----  \n",
      " 0   age             4119 non-null   int64  \n",
      " 1   job             4119 non-null   object \n",
      " 2   marital         4119 non-null   object \n",
      " 3   education       4119 non-null   object \n",
      " 4   default         4119 non-null   object \n",
      " 5   housing         4119 non-null   object \n",
      " 6   loan            4119 non-null   object \n",
      " 7   contact         4119 non-null   object \n",
      " 8   month           4119 non-null   object \n",
      " 9   day_of_week     4119 non-null   object \n",
      " 10  duration        4119 non-null   int64  \n",
      " 11  campaign        4119 non-null   int64  \n",
      " 12  pdays           4119 non-null   int64  \n",
      " 13  previous        4119 non-null   int64  \n",
      " 14  poutcome        4119 non-null   object \n",
      " 15  emp.var.rate    4119 non-null   float64\n",
      " 16  cons.price.idx  4119 non-null   float64\n",
      " 17  cons.conf.idx   4119 non-null   float64\n",
      " 18  euribor3m       4119 non-null   float64\n",
      " 19  nr.employed     4119 non-null   float64\n",
      " 20  y               4119 non-null   object \n",
      "dtypes: float64(5), int64(5), object(11)\n",
      "memory usage: 675.9+ KB\n",
      "None\n"
     ]
    }
   ],
   "source": [
    "# Load dataset and inspect data\n",
    "data = pd.read_csv('./bank-additional.csv', sep=';')\n",
    "print(data.info())"
   ]
  },
  {
   "cell_type": "code",
   "execution_count": 17,
   "metadata": {},
   "outputs": [],
   "source": [
    "# Data Preprocessing\n",
    "# Convert categorical variables to numeric using LabelEncoder\n",
    "label_encoders = {}\n",
    "for column in data.select_dtypes(include=['object']).columns:\n",
    "    le = LabelEncoder()\n",
    "    data[column] = le.fit_transform(data[column])\n",
    "    label_encoders[column] = le\n",
    "\n",
    "# Split the data into features and target\n",
    "X = data.drop(columns=['y'])\n",
    "y = data['y']\n",
    "\n",
    "# Split the dataset into train and test sets\n",
    "X_train, X_test, y_train, y_test = train_test_split(X, y, test_size=0.2, random_state=42)"
   ]
  },
  {
   "cell_type": "code",
   "execution_count": 18,
   "metadata": {},
   "outputs": [],
   "source": [
    "# Binning continuous variables to make them categorical\n",
    "# Assuming X_train contains continuous features that need binning\n",
    "discretizer = KBinsDiscretizer(n_bins=4, encode='ordinal', strategy='uniform')  # Use uniform binning or another strategy\n",
    "X_binned = discretizer.fit_transform(X_train)"
   ]
  },
  {
   "cell_type": "code",
   "execution_count": 19,
   "metadata": {},
   "outputs": [],
   "source": [
    "# Chi-squared test\n",
    "chi2_selector = SelectKBest(chi2, k='all')  # Set k='all' to get scores for all features\n",
    "X_kbest_chi2 = chi2_selector.fit_transform(X_binned, y_train)"
   ]
  },
  {
   "cell_type": "code",
   "execution_count": 20,
   "metadata": {},
   "outputs": [
    {
     "name": "stdout",
     "output_type": "stream",
     "text": [
      "Chi-squared Feature Scores:\n",
      "            Feature  Chi2 Score\n",
      "10        duration  323.823695\n",
      "13        previous  265.762926\n",
      "18       euribor3m  251.477401\n",
      "19     nr.employed  179.952384\n",
      "15    emp.var.rate  144.381597\n",
      "7          contact  136.643531\n",
      "12           pdays   43.486097\n",
      "4          default   39.750741\n",
      "11        campaign   14.717543\n",
      "3        education   10.822082\n",
      "16  cons.price.idx    7.298364\n",
      "0              age    5.870066\n",
      "1              job    4.219376\n",
      "14        poutcome    3.190393\n",
      "17   cons.conf.idx    2.368286\n",
      "2          marital    1.895930\n",
      "8            month    0.617862\n",
      "6             loan    0.544311\n",
      "5          housing    0.370159\n",
      "9      day_of_week    0.042994\n"
     ]
    }
   ],
   "source": [
    "# Feature scores\n",
    "chi2_scores = pd.DataFrame({'Feature': X.columns, 'Chi2 Score': chi2_selector.scores_})\n",
    "print(\"Chi-squared Feature Scores:\\n\", chi2_scores.sort_values(by='Chi2 Score', ascending=False))"
   ]
  },
  {
   "cell_type": "code",
   "execution_count": 21,
   "metadata": {},
   "outputs": [],
   "source": [
    "# 3. Mutual Information for Feature Selection\n",
    "mutual_info = SelectKBest(mutual_info_classif, k='all')  # Set k='all' to get scores for all features\n",
    "X_kbest_mi = mutual_info.fit_transform(X_train, y_train)"
   ]
  },
  {
   "cell_type": "code",
   "execution_count": 22,
   "metadata": {},
   "outputs": [
    {
     "name": "stdout",
     "output_type": "stream",
     "text": [
      "Mutual Information Feature Scores:\n",
      "            Feature  Mutual Information Score\n",
      "10        duration                  0.082129\n",
      "18       euribor3m                  0.071280\n",
      "17   cons.conf.idx                  0.065648\n",
      "16  cons.price.idx                  0.063690\n",
      "19     nr.employed                  0.058037\n",
      "15    emp.var.rate                  0.050439\n",
      "14        poutcome                  0.034141\n",
      "12           pdays                  0.028132\n",
      "13        previous                  0.023014\n",
      "7          contact                  0.019241\n",
      "8            month                  0.013041\n",
      "11        campaign                  0.011405\n",
      "9      day_of_week                  0.008256\n",
      "1              job                  0.007324\n",
      "3        education                  0.005637\n",
      "0              age                  0.002682\n",
      "6             loan                  0.000949\n",
      "5          housing                  0.000734\n",
      "2          marital                  0.000000\n",
      "4          default                  0.000000\n"
     ]
    }
   ],
   "source": [
    "# Feature scores\n",
    "mi_scores = pd.DataFrame({'Feature': X.columns, 'Mutual Information Score': mutual_info.scores_})\n",
    "print(\"Mutual Information Feature Scores:\\n\", mi_scores.sort_values(by='Mutual Information Score', ascending=False))"
   ]
  },
  {
   "cell_type": "code",
   "execution_count": 23,
   "metadata": {},
   "outputs": [
    {
     "name": "stdout",
     "output_type": "stream",
     "text": [
      "RFE Selected Features:\n",
      "           Feature  Selected\n",
      "0             age      True\n",
      "1             job      True\n",
      "3       education      True\n",
      "9     day_of_week      True\n",
      "10       duration      True\n",
      "11       campaign      True\n",
      "14       poutcome      True\n",
      "17  cons.conf.idx      True\n",
      "18      euribor3m      True\n",
      "19    nr.employed      True\n"
     ]
    }
   ],
   "source": [
    "# 4. Recursive Feature Elimination (RFE) with RandomForest\n",
    "rfe_model = RandomForestClassifier(random_state=42)\n",
    "rfe_selector = RFE(rfe_model, n_features_to_select=10)\n",
    "rfe_selector.fit(X_train, y_train)\n",
    "\n",
    "rfe_features = pd.DataFrame({'Feature': X.columns, 'Selected': rfe_selector.support_})\n",
    "print(\"RFE Selected Features:\\n\", rfe_features[rfe_features['Selected']])"
   ]
  },
  {
   "cell_type": "code",
   "execution_count": 24,
   "metadata": {},
   "outputs": [
    {
     "name": "stdout",
     "output_type": "stream",
     "text": [
      "Selected Features from SelectFromModel:\n",
      "         Feature  Importance\n",
      "0           age    0.077554\n",
      "10     duration    0.304329\n",
      "18    euribor3m    0.101847\n",
      "19  nr.employed    0.066121\n"
     ]
    }
   ],
   "source": [
    "# 5. Feature Selection with SelectFromModel using RandomForest\n",
    "sfm = SelectFromModel(RandomForestClassifier(random_state=42), threshold='mean')\n",
    "sfm.fit(X_train, y_train)\n",
    "\n",
    "sfm_features = pd.DataFrame({'Feature': X.columns, 'Importance': sfm.estimator_.feature_importances_})\n",
    "print(\"Selected Features from SelectFromModel:\\n\", sfm_features[sfm.get_support()])"
   ]
  },
  {
   "cell_type": "markdown",
   "metadata": {},
   "source": [
    "## 필수과제2 고찰\n",
    "\n",
    "### From Chi-squared test (threshold = 100):\n",
    "duration, previous, euribor3m, nr.employed, emp.var.rate, contact\n",
    "\n",
    "### From Mutual-Information (threshold = 0.05):\n",
    "duration, euribor3m, cons.price.idx, cons.conf.idx, nr.employed, emp.var.rate\n",
    "\n",
    "### From RFE: \n",
    "age, job, education, day_of_week, duration, campaign, poutcome, cons.conf.idx, euribor3m, nr.employed\n",
    "\n",
    "### From SelectFromModel: \n",
    "age, duration, euribor3m, nr.employed\n",
    "\n",
    "### Conclusions:\n",
    "Looking at duration, euribor3m, nr.employed seems to be the best model."
   ]
  },
  {
   "cell_type": "code",
   "execution_count": 25,
   "metadata": {},
   "outputs": [],
   "source": [
    "# Blank cell for running entire notebook."
   ]
  }
 ],
 "metadata": {
  "kernelspec": {
   "display_name": "bir_env",
   "language": "python",
   "name": "python3"
  },
  "language_info": {
   "codemirror_mode": {
    "name": "ipython",
    "version": 3
   },
   "file_extension": ".py",
   "mimetype": "text/x-python",
   "name": "python",
   "nbconvert_exporter": "python",
   "pygments_lexer": "ipython3",
   "version": "3.12.4"
  }
 },
 "nbformat": 4,
 "nbformat_minor": 2
}
